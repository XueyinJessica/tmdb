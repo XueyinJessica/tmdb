{
 "cells": [
  {
   "cell_type": "markdown",
   "metadata": {},
   "source": [
    "# Prepare the dataset"
   ]
  },
  {
   "cell_type": "code",
   "execution_count": 1,
   "metadata": {},
   "outputs": [],
   "source": [
    "import pandas as pd\n",
    "import numpy as np\n",
    "import matplotlib.pyplot as plt\n",
    "from collections import defaultdict\n",
    "\n",
    "from sklearn.model_selection import train_test_split"
   ]
  },
  {
   "cell_type": "code",
   "execution_count": 2,
   "metadata": {},
   "outputs": [],
   "source": [
    "credits = pd.read_csv('/Users/xhan/OneDrive/dataset/tmdb-5000-movie-dataset/tmdb_5000_credits.csv')\n",
    "movies = pd.read_csv('/Users/xhan/OneDrive/dataset/tmdb-5000-movie-dataset/tmdb_5000_movies.csv')"
   ]
  },
  {
   "cell_type": "code",
   "execution_count": 3,
   "metadata": {},
   "outputs": [],
   "source": [
    "movies_sub = movies.loc[:, ['id', 'original_title', 'genres']]\n",
    "credits_sub = credits.loc[:, ['movie_id', 'cast']].rename(columns={'movie_id':'id'})\n",
    "df = movies_sub.merge(credits_sub)"
   ]
  },
  {
   "cell_type": "code",
   "execution_count": 4,
   "metadata": {},
   "outputs": [],
   "source": [
    "def extract_gender(cell):\n",
    "    \"\"\"Extract cast gender\"\"\"\n",
    "    female = 0\n",
    "    male = 0\n",
    "    for item in json.loads(cell):\n",
    "        if item['gender'] == 1: female += 1\n",
    "        else: male += 1\n",
    "            \n",
    "    return female, male"
   ]
  },
  {
   "cell_type": "code",
   "execution_count": 5,
   "metadata": {},
   "outputs": [],
   "source": [
    "def modify_df(cell):\n",
    "    \"\"\"Convert string-format json cell to list\"\"\"\n",
    "    my_list = []\n",
    "    for item in json.loads(cell):\n",
    "        my_list.append(item['name'])\n",
    " \n",
    "    return my_list"
   ]
  },
  {
   "cell_type": "code",
   "execution_count": 6,
   "metadata": {},
   "outputs": [],
   "source": [
    "# drop movies with no cast/genre info\n",
    "for i, row in df.iterrows():\n",
    "    if row['cast'] == '[]' or row['genres'] == '[]':\n",
    "        df.drop(i, inplace=True)\n",
    "    #df1.at[i, 'cast_list'] = ' '.join(row['cast_list'])"
   ]
  },
  {
   "cell_type": "code",
   "execution_count": 7,
   "metadata": {},
   "outputs": [
    {
     "data": {
      "text/html": [
       "<div>\n",
       "<style scoped>\n",
       "    .dataframe tbody tr th:only-of-type {\n",
       "        vertical-align: middle;\n",
       "    }\n",
       "\n",
       "    .dataframe tbody tr th {\n",
       "        vertical-align: top;\n",
       "    }\n",
       "\n",
       "    .dataframe thead th {\n",
       "        text-align: right;\n",
       "    }\n",
       "</style>\n",
       "<table border=\"1\" class=\"dataframe\">\n",
       "  <thead>\n",
       "    <tr style=\"text-align: right;\">\n",
       "      <th></th>\n",
       "      <th>id</th>\n",
       "      <th>original_title</th>\n",
       "      <th>genres</th>\n",
       "      <th>cast</th>\n",
       "    </tr>\n",
       "  </thead>\n",
       "  <tbody>\n",
       "    <tr>\n",
       "      <th>0</th>\n",
       "      <td>19995</td>\n",
       "      <td>Avatar</td>\n",
       "      <td>[{\"id\": 28, \"name\": \"Action\"}, {\"id\": 12, \"nam...</td>\n",
       "      <td>[{\"cast_id\": 242, \"character\": \"Jake Sully\", \"...</td>\n",
       "    </tr>\n",
       "    <tr>\n",
       "      <th>1</th>\n",
       "      <td>285</td>\n",
       "      <td>Pirates of the Caribbean: At World's End</td>\n",
       "      <td>[{\"id\": 12, \"name\": \"Adventure\"}, {\"id\": 14, \"...</td>\n",
       "      <td>[{\"cast_id\": 4, \"character\": \"Captain Jack Spa...</td>\n",
       "    </tr>\n",
       "    <tr>\n",
       "      <th>2</th>\n",
       "      <td>206647</td>\n",
       "      <td>Spectre</td>\n",
       "      <td>[{\"id\": 28, \"name\": \"Action\"}, {\"id\": 12, \"nam...</td>\n",
       "      <td>[{\"cast_id\": 1, \"character\": \"James Bond\", \"cr...</td>\n",
       "    </tr>\n",
       "    <tr>\n",
       "      <th>3</th>\n",
       "      <td>49026</td>\n",
       "      <td>The Dark Knight Rises</td>\n",
       "      <td>[{\"id\": 28, \"name\": \"Action\"}, {\"id\": 80, \"nam...</td>\n",
       "      <td>[{\"cast_id\": 2, \"character\": \"Bruce Wayne / Ba...</td>\n",
       "    </tr>\n",
       "    <tr>\n",
       "      <th>4</th>\n",
       "      <td>49529</td>\n",
       "      <td>John Carter</td>\n",
       "      <td>[{\"id\": 28, \"name\": \"Action\"}, {\"id\": 12, \"nam...</td>\n",
       "      <td>[{\"cast_id\": 5, \"character\": \"John Carter\", \"c...</td>\n",
       "    </tr>\n",
       "  </tbody>\n",
       "</table>\n",
       "</div>"
      ],
      "text/plain": [
       "       id                            original_title  \\\n",
       "0   19995                                    Avatar   \n",
       "1     285  Pirates of the Caribbean: At World's End   \n",
       "2  206647                                   Spectre   \n",
       "3   49026                     The Dark Knight Rises   \n",
       "4   49529                               John Carter   \n",
       "\n",
       "                                              genres  \\\n",
       "0  [{\"id\": 28, \"name\": \"Action\"}, {\"id\": 12, \"nam...   \n",
       "1  [{\"id\": 12, \"name\": \"Adventure\"}, {\"id\": 14, \"...   \n",
       "2  [{\"id\": 28, \"name\": \"Action\"}, {\"id\": 12, \"nam...   \n",
       "3  [{\"id\": 28, \"name\": \"Action\"}, {\"id\": 80, \"nam...   \n",
       "4  [{\"id\": 28, \"name\": \"Action\"}, {\"id\": 12, \"nam...   \n",
       "\n",
       "                                                cast  \n",
       "0  [{\"cast_id\": 242, \"character\": \"Jake Sully\", \"...  \n",
       "1  [{\"cast_id\": 4, \"character\": \"Captain Jack Spa...  \n",
       "2  [{\"cast_id\": 1, \"character\": \"James Bond\", \"cr...  \n",
       "3  [{\"cast_id\": 2, \"character\": \"Bruce Wayne / Ba...  \n",
       "4  [{\"cast_id\": 5, \"character\": \"John Carter\", \"c...  "
      ]
     },
     "execution_count": 7,
     "metadata": {},
     "output_type": "execute_result"
    }
   ],
   "source": [
    "df = df.dropna()\n",
    "df.head(5)"
   ]
  },
  {
   "cell_type": "code",
   "execution_count": 8,
   "metadata": {
    "scrolled": true
   },
   "outputs": [],
   "source": [
    "for col_name in ['genres', 'cast']:\n",
    "    if col_name == 'cast':\n",
    "        gen = df[col_name].apply(extract_gender)\n",
    "        df['female_pct'] = gen.apply(lambda x: x[0]/(x[0]+x[1]))\n",
    "        df['male_pct'] = gen.apply(lambda x: x[1]/(x[0]+x[1]))\n",
    "    \n",
    "    df[col_name] = df[col_name].apply(modify_df)"
   ]
  },
  {
   "cell_type": "markdown",
   "metadata": {},
   "source": [
    "### Delete cast with less than three movies"
   ]
  },
  {
   "cell_type": "code",
   "execution_count": 9,
   "metadata": {
    "scrolled": true
   },
   "outputs": [
    {
     "data": {
      "text/plain": [
       "[('Samuel L. Jackson', 67),\n",
       " ('Robert De Niro', 57),\n",
       " ('Bruce Willis', 51),\n",
       " ('Matt Damon', 48),\n",
       " ('Morgan Freeman', 46)]"
      ]
     },
     "execution_count": 9,
     "metadata": {},
     "output_type": "execute_result"
    }
   ],
   "source": [
    "# All cast: # of movies\n",
    "cast_all = defaultdict(int)\n",
    "\n",
    "for names in df.cast:\n",
    "    for p in names:\n",
    "        cast_all[p] += 1\n",
    "\n",
    "sorted(cast_all.items(), key=lambda x: x[1], reverse=True)[:5]"
   ]
  },
  {
   "cell_type": "code",
   "execution_count": 10,
   "metadata": {},
   "outputs": [],
   "source": [
    "# actors/actresses who have less than three movies\n",
    "cast_remove = [key for (key, value) in cast_all.items() if value <= 2]"
   ]
  },
  {
   "cell_type": "code",
   "execution_count": 11,
   "metadata": {},
   "outputs": [],
   "source": [
    "# drop cast who have too few movies\n",
    "for i, row in df.iterrows():\n",
    "    df.at[i, 'cast'] = list(set(row.cast) - set(cast_remove))\n",
    "#     for j, name in enumerate(row.cast_list):\n",
    "#         row['cast_list'][j] = name.replace(' ', '')"
   ]
  },
  {
   "cell_type": "markdown",
   "metadata": {},
   "source": [
    "### Genres Overview"
   ]
  },
  {
   "cell_type": "code",
   "execution_count": 12,
   "metadata": {},
   "outputs": [
    {
     "data": {
      "text/plain": [
       "defaultdict(int,\n",
       "            {'Action': 1152,\n",
       "             'Adventure': 790,\n",
       "             'Fantasy': 424,\n",
       "             'Science Fiction': 534,\n",
       "             'Crime': 695,\n",
       "             'Drama': 2293,\n",
       "             'Thriller': 1272,\n",
       "             'Animation': 234,\n",
       "             'Family': 510,\n",
       "             'Western': 82,\n",
       "             'Comedy': 1719,\n",
       "             'Romance': 893,\n",
       "             'Horror': 519,\n",
       "             'Mystery': 347,\n",
       "             'History': 197,\n",
       "             'War': 144,\n",
       "             'Music': 184,\n",
       "             'Documentary': 92,\n",
       "             'Foreign': 33,\n",
       "             'TV Movie': 8})"
      ]
     },
     "execution_count": 12,
     "metadata": {},
     "output_type": "execute_result"
    }
   ],
   "source": [
    "all_genres = defaultdict(int)\n",
    "\n",
    "for row in df.genres:\n",
    "    for item in row:\n",
    "        all_genres[item] += 1\n",
    "\n",
    "all_genres"
   ]
  },
  {
   "cell_type": "code",
   "execution_count": 13,
   "metadata": {},
   "outputs": [
    {
     "data": {
      "text/plain": [
       "[('Drama', 2293),\n",
       " ('Comedy', 1719),\n",
       " ('Thriller', 1272),\n",
       " ('Action', 1152),\n",
       " ('Romance', 893),\n",
       " ('Adventure', 790),\n",
       " ('Crime', 695),\n",
       " ('Science Fiction', 534),\n",
       " ('Horror', 519),\n",
       " ('Family', 510),\n",
       " ('Fantasy', 424),\n",
       " ('Mystery', 347),\n",
       " ('Animation', 234),\n",
       " ('History', 197),\n",
       " ('Music', 184),\n",
       " ('War', 144),\n",
       " ('Documentary', 92),\n",
       " ('Western', 82),\n",
       " ('Foreign', 33),\n",
       " ('TV Movie', 8)]"
      ]
     },
     "execution_count": 13,
     "metadata": {},
     "output_type": "execute_result"
    }
   ],
   "source": [
    "genres_list = sorted(all_genres.items(), key=lambda x: x[1], reverse=True)\n",
    "genres_list"
   ]
  },
  {
   "cell_type": "code",
   "execution_count": 14,
   "metadata": {},
   "outputs": [
    {
     "data": {
      "image/png": "[encoded data removed]",
      "text/plain": [
       "<Figure size 432x288 with 1 Axes>"
      ]
     },
     "metadata": {
      "needs_background": "light"
     },
     "output_type": "display_data"
    }
   ],
   "source": [
    "plt.bar(x = [x[0] for x in genres_list], height = [y[1] for y in genres_list])\n",
    "plt.xticks(rotation=90)\n",
    "plt.show()"
   ]
  },
  {
   "cell_type": "markdown",
   "metadata": {},
   "source": [
    "## Pairwise analysis of Movie Genres\n",
    "\n",
    "\n",
    "Put highly dependent labels into the same cluster, so that we can assume the four resulting clusters are approximately independent.\n",
    "\n",
    "\n",
    "*Source: https://spandan-madan.github.io/DeepLearningProject/*"
   ]
  },
  {
   "cell_type": "code",
   "execution_count": 15,
   "metadata": {},
   "outputs": [],
   "source": [
    "import itertools\n",
    "\n",
    "# This function just generates all possible pairs of movies\n",
    "def list2pairs(genres):\n",
    "    # itertools.combinations(l,2) makes all pairs of length 2 from list l.\n",
    "    pairs = list(itertools.combinations(genres, 2))\n",
    "    # then the one item pairs, as duplicate pairs aren't accounted for by itertools\n",
    "    for genre in genres:\n",
    "        pairs.append([genre, genre])\n",
    "    return pairs"
   ]
  },
  {
   "cell_type": "code",
   "execution_count": 16,
   "metadata": {},
   "outputs": [],
   "source": [
    "# get all genre lists pairs from all movies\n",
    "allPairs = []\n",
    "for cell in df.genres:\n",
    "    allPairs.extend(list2pairs(cell))\n",
    "    \n",
    "nr_ids = np.unique(allPairs)\n",
    "visGrid = np.zeros((len(nr_ids), len(nr_ids)))\n",
    "for p in allPairs:\n",
    "    visGrid[np.argwhere(nr_ids==p[0]), np.argwhere(nr_ids==p[1])]+=1\n",
    "    if p[1] != p[0]:\n",
    "        visGrid[np.argwhere(nr_ids==p[1]), np.argwhere(nr_ids==p[0])]+=1"
   ]
  },
  {
   "cell_type": "code",
   "execution_count": 17,
   "metadata": {},
   "outputs": [
    {
     "data": {
      "text/plain": [
       "<matplotlib.axes._subplots.AxesSubplot at 0x1a24ee63c8>"
      ]
     },
     "execution_count": 17,
     "metadata": {},
     "output_type": "execute_result"
    },
    {
     "data": {
      "image/png": "[encoded data removed]",
      "text/plain": [
       "<Figure size 432x288 with 2 Axes>"
      ]
     },
     "metadata": {
      "needs_background": "light"
     },
     "output_type": "display_data"
    }
   ],
   "source": [
    "import seaborn as sns\n",
    "\n",
    "# shows how often the genres occur together\n",
    "annot_lookup = []\n",
    "for i in range(len(nr_ids)):\n",
    "    annot_lookup.append(nr_ids[i])\n",
    "\n",
    "sns.heatmap(visGrid, xticklabels=annot_lookup, yticklabels=annot_lookup)"
   ]
  },
  {
   "cell_type": "code",
   "execution_count": 18,
   "metadata": {},
   "outputs": [
    {
     "data": {
      "image/png": "[encoded data removed]",
      "text/plain": [
       "<Figure size 432x288 with 2 Axes>"
      ]
     },
     "metadata": {
      "needs_background": "light"
     },
     "output_type": "display_data"
    }
   ],
   "source": [
    "# co-cluster the genres\n",
    "# n_clusters=4 has the best result\n",
    "from sklearn.cluster import SpectralCoclustering\n",
    "\n",
    "model = SpectralCoclustering(n_clusters=4, svd_method='arpack', random_state=0)\n",
    "model.fit(visGrid)\n",
    "\n",
    "fit_data = visGrid[np.argsort(model.row_labels_)]\n",
    "fit_data = fit_data[:, np.argsort(model.column_labels_)]\n",
    "\n",
    "annot_lookup_sorted = []\n",
    "for i in np.argsort(model.row_labels_):\n",
    "    annot_lookup_sorted.append(nr_ids[i])\n",
    "    \n",
    "sns.heatmap(fit_data, xticklabels=annot_lookup_sorted, yticklabels=annot_lookup_sorted, annot=False)\n",
    "plt.title(\"After biclustering; rearranged to show biclusters\")\n",
    "\n",
    "plt.show()"
   ]
  },
  {
   "cell_type": "markdown",
   "metadata": {},
   "source": [
    "**Four clusters:**  \n",
    "+ **Exciting**: Thriller, Horror, Action, Adventure, Sci-Fi, Crime, Mystery, Fantasy    \n",
    "+ **Uplifting**: Drama, Romance, Comedy, Family  \n",
    "+ **Reality:** Documentary, War, History, Foreign, Music\n",
    "+ **Others:** Western, TV Movie, Animation"
   ]
  },
  {
   "cell_type": "markdown",
   "metadata": {},
   "source": [
    "## Change genres to four new subsets"
   ]
  },
  {
   "cell_type": "code",
   "execution_count": 19,
   "metadata": {},
   "outputs": [],
   "source": [
    "new_genres = []\n",
    "\n",
    "for i, cell in enumerate(df.genres):\n",
    "    cell_genre = []\n",
    "    for item in cell:\n",
    "        if item in ['Thriller', 'Horror', 'Action', 'Adventure', 'Science Fiction', 'Crime', 'Mystery', 'Fantasy']:\n",
    "            cell_genre.append('Exciting')\n",
    "        elif item in ['Drama', 'Romance', 'Comedy', 'Family']:\n",
    "            cell_genre.append('Uplifting')\n",
    "        elif item in ['Documentary', 'War', 'History', 'Foreign', 'Music']:\n",
    "            cell_genre.append('Reality')\n",
    "        else:\n",
    "            cell_genre.append('Others')\n",
    "    new_genres.append(list(set(cell_genre)))\n",
    "\n",
    "df['genres'] = new_genres"
   ]
  },
  {
   "cell_type": "markdown",
   "metadata": {},
   "source": [
    "## Cast vs. Genres"
   ]
  },
  {
   "cell_type": "code",
   "execution_count": 20,
   "metadata": {},
   "outputs": [],
   "source": [
    "for i, row in df.iterrows():\n",
    "    df.at[i, 'cast'] = ' '.join(row['cast'])"
   ]
  },
  {
   "cell_type": "code",
   "execution_count": 21,
   "metadata": {},
   "outputs": [
    {
     "data": {
      "text/html": [
       "<div>\n",
       "<style scoped>\n",
       "    .dataframe tbody tr th:only-of-type {\n",
       "        vertical-align: middle;\n",
       "    }\n",
       "\n",
       "    .dataframe tbody tr th {\n",
       "        vertical-align: top;\n",
       "    }\n",
       "\n",
       "    .dataframe thead th {\n",
       "        text-align: right;\n",
       "    }\n",
       "</style>\n",
       "<table border=\"1\" class=\"dataframe\">\n",
       "  <thead>\n",
       "    <tr style=\"text-align: right;\">\n",
       "      <th></th>\n",
       "      <th>id</th>\n",
       "      <th>original_title</th>\n",
       "      <th>genres</th>\n",
       "      <th>cast</th>\n",
       "      <th>female_pct</th>\n",
       "      <th>male_pct</th>\n",
       "    </tr>\n",
       "  </thead>\n",
       "  <tbody>\n",
       "    <tr>\n",
       "      <th>0</th>\n",
       "      <td>19995</td>\n",
       "      <td>Avatar</td>\n",
       "      <td>[Exciting]</td>\n",
       "      <td>Wes Studi Peter Mensah Matt Gerald Giovanni Ri...</td>\n",
       "      <td>0.144578</td>\n",
       "      <td>0.855422</td>\n",
       "    </tr>\n",
       "    <tr>\n",
       "      <th>1</th>\n",
       "      <td>285</td>\n",
       "      <td>Pirates of the Caribbean: At World's End</td>\n",
       "      <td>[Exciting]</td>\n",
       "      <td>Chow Yun-fat Lauren Maher Mackenzie Crook Chri...</td>\n",
       "      <td>0.147059</td>\n",
       "      <td>0.852941</td>\n",
       "    </tr>\n",
       "    <tr>\n",
       "      <th>2</th>\n",
       "      <td>206647</td>\n",
       "      <td>Spectre</td>\n",
       "      <td>[Exciting]</td>\n",
       "      <td>Ralph Fiennes Jesper Christensen Karl Farrer J...</td>\n",
       "      <td>0.156627</td>\n",
       "      <td>0.843373</td>\n",
       "    </tr>\n",
       "    <tr>\n",
       "      <th>3</th>\n",
       "      <td>49026</td>\n",
       "      <td>The Dark Knight Rises</td>\n",
       "      <td>[Uplifting, Exciting]</td>\n",
       "      <td>Daniel Newman LeJon Matthew Modine William Dev...</td>\n",
       "      <td>0.069620</td>\n",
       "      <td>0.930380</td>\n",
       "    </tr>\n",
       "    <tr>\n",
       "      <th>4</th>\n",
       "      <td>49529</td>\n",
       "      <td>John Carter</td>\n",
       "      <td>[Exciting]</td>\n",
       "      <td>Lynn Collins Bryan Cranston Dominic West Taylo...</td>\n",
       "      <td>0.222222</td>\n",
       "      <td>0.777778</td>\n",
       "    </tr>\n",
       "  </tbody>\n",
       "</table>\n",
       "</div>"
      ],
      "text/plain": [
       "       id                            original_title                 genres  \\\n",
       "0   19995                                    Avatar             [Exciting]   \n",
       "1     285  Pirates of the Caribbean: At World's End             [Exciting]   \n",
       "2  206647                                   Spectre             [Exciting]   \n",
       "3   49026                     The Dark Knight Rises  [Uplifting, Exciting]   \n",
       "4   49529                               John Carter             [Exciting]   \n",
       "\n",
       "                                                cast  female_pct  male_pct  \n",
       "0  Wes Studi Peter Mensah Matt Gerald Giovanni Ri...    0.144578  0.855422  \n",
       "1  Chow Yun-fat Lauren Maher Mackenzie Crook Chri...    0.147059  0.852941  \n",
       "2  Ralph Fiennes Jesper Christensen Karl Farrer J...    0.156627  0.843373  \n",
       "3  Daniel Newman LeJon Matthew Modine William Dev...    0.069620  0.930380  \n",
       "4  Lynn Collins Bryan Cranston Dominic West Taylo...    0.222222  0.777778  "
      ]
     },
     "execution_count": 21,
     "metadata": {},
     "output_type": "execute_result"
    }
   ],
   "source": [
    "df.head(5)"
   ]
  },
  {
   "cell_type": "markdown",
   "metadata": {},
   "source": [
    "### One-vs-Rest"
   ]
  },
  {
   "cell_type": "code",
   "execution_count": 22,
   "metadata": {},
   "outputs": [],
   "source": [
    "from sklearn.feature_extraction.text import TfidfVectorizer\n",
    "from sklearn.feature_extraction.text import CountVectorizer\n",
    "from sklearn.ensemble import AdaBoostClassifier\n",
    "from sklearn.naive_bayes import MultinomialNB\n",
    "from sklearn.svm import SVC\n",
    "from sklearn.tree import DecisionTreeClassifier"
   ]
  },
  {
   "cell_type": "code",
   "execution_count": 23,
   "metadata": {},
   "outputs": [],
   "source": [
    "from sklearn.metrics import make_scorer\n",
    "from sklearn.metrics import accuracy_score\n",
    "from sklearn.metrics import f1_score\n",
    "from sklearn.metrics import precision_score\n",
    "from sklearn.metrics import recall_score, hamming_loss\n",
    "from sklearn.metrics import roc_auc_score"
   ]
  },
  {
   "cell_type": "code",
   "execution_count": 24,
   "metadata": {},
   "outputs": [],
   "source": [
    "# One-Hot encoding\n",
    "from sklearn.preprocessing import MultiLabelBinarizer\n",
    "\n",
    "mlb = MultiLabelBinarizer()\n",
    "mlb.fit_transform(df.genres)\n",
    "train_data, test_data, train_labels, test_labels = train_test_split(df.iloc[:, 3], mlb.transform(df.genres),\n",
    "                                                                    test_size=0.1, random_state=0)"
   ]
  },
  {
   "cell_type": "code",
   "execution_count": 25,
   "metadata": {},
   "outputs": [],
   "source": [
    "vectorizer = TfidfVectorizer(ngram_range=(1, 2))\n",
    "train_cast_vect = vectorizer.fit_transform(train_data)\n",
    "test_cast_vect = vectorizer.transform(test_data)\n",
    "\n",
    "# train_features = np.concatenate((train_cast_vect.todense(), np.asmatrix(train_data.iloc[:, 1:])), axis=1)\n",
    "# test_features = np.concatenate((test_cast_vect.todense(), np.asmatrix(test_data.iloc[:, 1:])), axis=1)"
   ]
  },
  {
   "cell_type": "code",
   "execution_count": 26,
   "metadata": {},
   "outputs": [],
   "source": [
    "# GridSearchCV\n",
    "from sklearn.model_selection import GridSearchCV\n",
    "from sklearn.multiclass import OneVsRestClassifier\n",
    "\n",
    "parameters = {'alpha':10**np.linspace(-1, 1, 10), \n",
    "              'fit_prior':[True, False]}\n",
    "# gridCV = GridSearchCV(SVC(class_weight='balanced'), parameters, \n",
    "gridCV = GridSearchCV(MultinomialNB(), parameters, \n",
    "                      scoring=make_scorer(f1_score, average='micro'), cv=5)\n",
    "clf = OneVsRestClassifier(gridCV)\n",
    "\n",
    "clf.fit(train_cast_vect, train_labels)\n",
    "y_score = clf.fit(train_cast_vect, train_labels).predict_proba(test_cast_vect)\n",
    "predicted = clf.predict(test_cast_vect)"
   ]
  },
  {
   "cell_type": "code",
   "execution_count": 27,
   "metadata": {},
   "outputs": [
    {
     "name": "stdout",
     "output_type": "stream",
     "text": [
      "              precision    recall  f1-score   support\n",
      "\n",
      "    Exciting       0.71      0.84      0.77       279\n",
      "      Others       0.71      0.12      0.21        40\n",
      "     Reality       0.00      0.00      0.00        56\n",
      "   Uplifting       0.78      0.98      0.87       352\n",
      "\n",
      "   micro avg       0.75      0.80      0.78       727\n",
      "   macro avg       0.55      0.49      0.46       727\n",
      "weighted avg       0.69      0.80      0.73       727\n",
      " samples avg       0.77      0.85      0.77       727\n",
      "\n"
     ]
    },
    {
     "name": "stderr",
     "output_type": "stream",
     "text": [
      "/anaconda3/envs/ml/lib/python3.6/site-packages/sklearn/metrics/classification.py:1143: UndefinedMetricWarning: Precision and F-score are ill-defined and being set to 0.0 in samples with no predicted labels.\n",
      "  'precision', 'predicted', average, warn_for)\n"
     ]
    }
   ],
   "source": [
    "from sklearn.metrics import classification_report\n",
    "\n",
    "print(classification_report(test_labels, predicted, target_names=mlb.classes_))"
   ]
  },
  {
   "cell_type": "code",
   "execution_count": 28,
   "metadata": {
    "scrolled": false
   },
   "outputs": [
    {
     "name": "stdout",
     "output_type": "stream",
     "text": [
      "Accuracy: 0.4231578947368421\n",
      "F1 score: 0.7753479125248508\n",
      "Precision: 0.7480818414322251\n",
      "Recall: 0.8046767537826685\n"
     ]
    }
   ],
   "source": [
    "accuracy = accuracy_score(y_pred=predicted, y_true=np.array(test_labels))\n",
    "f1 = f1_score(y_pred=predicted, y_true=np.array(test_labels), average='micro')\n",
    "precision = precision_score(y_pred=predicted, y_true=np.array(test_labels), average='micro')\n",
    "recall = recall_score(y_pred=predicted, y_true=np.array(test_labels), average='micro')\n",
    "\n",
    "print(\"Accuracy: {}\".format(accuracy)) # subset accuracy\n",
    "print(\"F1 score: {}\".format(f1))\n",
    "print(\"Precision: {}\".format(precision))\n",
    "print(\"Recall: {}\".format(recall))"
   ]
  },
  {
   "cell_type": "code",
   "execution_count": 29,
   "metadata": {},
   "outputs": [],
   "source": [
    "# Compute ROC curve and ROC area for each class\n",
    "from sklearn.metrics import roc_curve, auc\n",
    "\n",
    "fpr = dict()\n",
    "tpr = dict()\n",
    "roc_auc = dict()\n",
    "for i in range(4):\n",
    "    fpr[i], tpr[i], _ = roc_curve(test_labels[:, i], y_score[:, i])\n",
    "    roc_auc[i] = auc(fpr[i], tpr[i])\n",
    "\n",
    "# Compute micro-average ROC curve and ROC area\n",
    "fpr[\"micro\"], tpr[\"micro\"], _ = roc_curve(test_labels.ravel(), y_score.ravel())\n",
    "roc_auc[\"micro\"] = auc(fpr[\"micro\"], tpr[\"micro\"])"
   ]
  },
  {
   "cell_type": "code",
   "execution_count": 30,
   "metadata": {},
   "outputs": [
    {
     "data": {
      "image/png": "[encoded data removed]",
      "text/plain": [
       "<Figure size 720x720 with 1 Axes>"
      ]
     },
     "metadata": {
      "needs_background": "light"
     },
     "output_type": "display_data"
    }
   ],
   "source": [
    "plt.figure(figsize=(10, 10))\n",
    "for i in range(4):\n",
    "    plt.plot(fpr[i], tpr[i], label='{} (area = {:.2f})'.format(mlb.classes_[i], roc_auc[i]))\n",
    "plt.plot([0, 1], [0, 1], color='navy', linestyle='--')\n",
    "plt.xlim([0.0, 1.0])\n",
    "plt.ylim([0.0, 1.05])\n",
    "plt.xlabel('False Positive Rate')\n",
    "plt.ylabel('True Positive Rate')\n",
    "plt.title('ROC Curve')\n",
    "plt.legend(loc=\"lower right\")\n",
    "plt.show()"
   ]
  },
  {
   "cell_type": "code",
   "execution_count": 31,
   "metadata": {},
   "outputs": [
    {
     "data": {
      "text/plain": [
       "array(['Exciting', 'Others', 'Reality', 'Uplifting'], dtype=object)"
      ]
     },
     "execution_count": 31,
     "metadata": {},
     "output_type": "execute_result"
    }
   ],
   "source": [
    "mlb.classes_"
   ]
  },
  {
   "cell_type": "code",
   "execution_count": 32,
   "metadata": {},
   "outputs": [
    {
     "name": "stdout",
     "output_type": "stream",
     "text": [
      "Predicted:[1 0 0 1], ground truth:[1 0 0 0]\n",
      "Predicted:[1 0 0 1], ground truth:[1 0 0 0]\n",
      "Predicted:[1 0 0 1], ground truth:[0 0 0 1]\n",
      "Predicted:[0 0 0 1], ground truth:[0 0 0 1]\n",
      "Predicted:[1 0 0 1], ground truth:[1 0 0 1]\n",
      "Predicted:[1 0 0 1], ground truth:[1 0 0 0]\n",
      "Predicted:[1 0 0 1], ground truth:[1 1 0 1]\n",
      "Predicted:[0 0 0 1], ground truth:[0 0 0 1]\n",
      "Predicted:[1 0 0 0], ground truth:[1 0 0 0]\n",
      "Predicted:[1 0 0 1], ground truth:[1 0 0 1]\n",
      "Predicted:[1 0 0 1], ground truth:[1 0 0 0]\n",
      "Predicted:[0 0 0 1], ground truth:[0 0 0 1]\n",
      "Predicted:[1 0 0 1], ground truth:[0 0 1 1]\n",
      "Predicted:[1 0 0 1], ground truth:[0 0 0 1]\n",
      "Predicted:[1 0 0 1], ground truth:[1 0 0 1]\n",
      "Predicted:[0 0 0 1], ground truth:[0 0 0 1]\n",
      "Predicted:[1 0 0 1], ground truth:[1 0 0 0]\n",
      "Predicted:[0 0 0 1], ground truth:[1 0 0 0]\n",
      "Predicted:[1 0 0 1], ground truth:[1 0 1 1]\n",
      "Predicted:[1 0 0 1], ground truth:[1 1 0 1]\n",
      "Predicted:[1 0 0 1], ground truth:[1 0 0 1]\n",
      "Predicted:[1 0 0 1], ground truth:[1 0 0 0]\n",
      "Predicted:[0 0 0 1], ground truth:[0 0 0 1]\n",
      "Predicted:[1 0 0 1], ground truth:[0 0 0 1]\n",
      "Predicted:[0 0 0 1], ground truth:[0 0 0 1]\n",
      "Predicted:[0 0 0 1], ground truth:[0 0 0 1]\n",
      "Predicted:[0 0 0 1], ground truth:[1 0 0 1]\n",
      "Predicted:[1 0 0 1], ground truth:[1 1 0 1]\n",
      "Predicted:[1 0 0 1], ground truth:[0 0 1 1]\n",
      "Predicted:[1 0 0 1], ground truth:[1 0 0 1]\n",
      "Predicted:[1 0 0 1], ground truth:[1 1 0 1]\n",
      "Predicted:[1 0 0 1], ground truth:[1 0 0 1]\n",
      "Predicted:[1 0 0 1], ground truth:[0 0 0 1]\n",
      "Predicted:[1 0 0 1], ground truth:[1 1 0 1]\n",
      "Predicted:[1 0 0 1], ground truth:[1 0 0 0]\n",
      "Predicted:[0 0 0 1], ground truth:[0 0 0 1]\n",
      "Predicted:[0 0 0 1], ground truth:[1 0 0 1]\n",
      "Predicted:[1 0 0 0], ground truth:[1 0 0 0]\n",
      "Predicted:[1 0 0 1], ground truth:[1 0 0 1]\n",
      "Predicted:[1 0 0 1], ground truth:[1 0 0 0]\n",
      "Predicted:[1 0 0 0], ground truth:[1 0 0 0]\n",
      "Predicted:[1 0 0 1], ground truth:[1 0 0 1]\n",
      "Predicted:[1 0 0 0], ground truth:[1 0 0 0]\n",
      "Predicted:[1 0 1 1], ground truth:[1 0 0 1]\n",
      "Predicted:[1 0 0 1], ground truth:[1 1 0 1]\n",
      "Predicted:[1 0 0 1], ground truth:[1 0 0 1]\n",
      "Predicted:[1 0 0 1], ground truth:[0 0 0 1]\n",
      "Predicted:[1 0 0 1], ground truth:[0 0 0 1]\n",
      "Predicted:[1 0 0 1], ground truth:[1 0 0 1]\n",
      "Predicted:[0 1 0 1], ground truth:[0 1 0 1]\n",
      "Predicted:[0 0 0 1], ground truth:[0 0 0 1]\n",
      "Predicted:[1 0 0 1], ground truth:[1 0 0 1]\n",
      "Predicted:[0 0 0 1], ground truth:[0 0 0 1]\n",
      "Predicted:[1 0 0 1], ground truth:[1 0 0 1]\n",
      "Predicted:[0 0 0 1], ground truth:[0 0 0 1]\n",
      "Predicted:[1 0 0 1], ground truth:[0 0 0 1]\n",
      "Predicted:[0 0 0 1], ground truth:[1 0 0 1]\n",
      "Predicted:[0 0 0 1], ground truth:[0 0 0 1]\n",
      "Predicted:[1 0 0 1], ground truth:[1 1 0 1]\n",
      "Predicted:[1 0 0 1], ground truth:[1 0 0 1]\n",
      "Predicted:[1 0 0 0], ground truth:[1 0 0 0]\n",
      "Predicted:[1 0 0 1], ground truth:[1 0 0 1]\n",
      "Predicted:[1 0 0 1], ground truth:[0 0 0 1]\n",
      "Predicted:[1 0 0 1], ground truth:[1 0 0 1]\n",
      "Predicted:[1 0 0 1], ground truth:[1 0 0 1]\n",
      "Predicted:[1 0 0 1], ground truth:[0 0 0 1]\n",
      "Predicted:[0 1 0 1], ground truth:[1 1 1 1]\n",
      "Predicted:[0 0 0 1], ground truth:[0 0 1 0]\n",
      "Predicted:[1 0 0 1], ground truth:[0 0 0 1]\n",
      "Predicted:[0 0 0 1], ground truth:[0 0 0 1]\n",
      "Predicted:[0 0 0 1], ground truth:[1 0 0 0]\n",
      "Predicted:[0 0 0 1], ground truth:[0 0 0 1]\n",
      "Predicted:[0 0 0 1], ground truth:[1 0 0 1]\n",
      "Predicted:[1 0 0 1], ground truth:[0 0 0 1]\n",
      "Predicted:[1 0 0 1], ground truth:[1 0 0 1]\n",
      "Predicted:[1 0 0 1], ground truth:[1 0 0 1]\n",
      "Predicted:[1 0 0 1], ground truth:[1 0 0 1]\n",
      "Predicted:[1 1 0 0], ground truth:[1 0 0 0]\n",
      "Predicted:[1 0 0 1], ground truth:[1 0 0 0]\n",
      "Predicted:[1 0 0 0], ground truth:[1 0 0 0]\n",
      "Predicted:[1 0 0 1], ground truth:[1 1 0 1]\n",
      "Predicted:[1 0 0 1], ground truth:[1 0 0 1]\n",
      "Predicted:[0 0 0 1], ground truth:[0 0 0 1]\n",
      "Predicted:[1 0 0 1], ground truth:[1 0 0 0]\n",
      "Predicted:[0 0 0 1], ground truth:[0 0 1 1]\n",
      "Predicted:[1 0 0 1], ground truth:[1 0 0 1]\n",
      "Predicted:[0 0 0 1], ground truth:[1 0 1 0]\n",
      "Predicted:[0 0 0 1], ground truth:[0 0 0 1]\n",
      "Predicted:[1 0 0 1], ground truth:[1 0 0 1]\n",
      "Predicted:[1 0 0 1], ground truth:[1 0 0 1]\n",
      "Predicted:[1 0 0 1], ground truth:[1 0 0 0]\n",
      "Predicted:[1 1 0 1], ground truth:[0 1 0 1]\n",
      "Predicted:[0 0 0 1], ground truth:[0 0 0 1]\n",
      "Predicted:[1 0 0 1], ground truth:[1 0 0 0]\n",
      "Predicted:[1 0 0 1], ground truth:[1 1 0 1]\n",
      "Predicted:[1 0 0 1], ground truth:[0 1 0 1]\n",
      "Predicted:[1 0 0 1], ground truth:[1 0 0 1]\n",
      "Predicted:[1 0 0 1], ground truth:[1 0 0 0]\n",
      "Predicted:[1 0 0 1], ground truth:[1 0 0 0]\n",
      "Predicted:[1 0 0 0], ground truth:[1 0 0 1]\n",
      "Predicted:[1 0 0 1], ground truth:[1 0 0 0]\n",
      "Predicted:[0 0 0 1], ground truth:[0 0 0 1]\n",
      "Predicted:[1 0 0 0], ground truth:[1 0 0 0]\n",
      "Predicted:[1 0 0 1], ground truth:[1 0 1 1]\n",
      "Predicted:[1 0 0 1], ground truth:[1 0 0 1]\n",
      "Predicted:[0 0 0 1], ground truth:[0 0 0 1]\n",
      "Predicted:[1 0 0 1], ground truth:[1 0 0 1]\n",
      "Predicted:[1 0 0 1], ground truth:[1 0 0 1]\n",
      "Predicted:[1 0 0 1], ground truth:[1 0 0 1]\n",
      "Predicted:[1 0 0 1], ground truth:[1 0 0 0]\n",
      "Predicted:[1 0 0 1], ground truth:[0 0 0 1]\n",
      "Predicted:[1 0 0 1], ground truth:[1 0 0 1]\n",
      "Predicted:[1 0 0 1], ground truth:[0 0 1 1]\n",
      "Predicted:[0 0 0 1], ground truth:[0 0 0 1]\n",
      "Predicted:[1 0 0 1], ground truth:[1 0 1 0]\n",
      "Predicted:[0 0 0 1], ground truth:[0 0 0 1]\n",
      "Predicted:[0 0 0 1], ground truth:[0 1 0 1]\n",
      "Predicted:[0 0 0 1], ground truth:[0 0 1 1]\n",
      "Predicted:[1 0 0 1], ground truth:[0 0 0 1]\n",
      "Predicted:[0 0 0 1], ground truth:[0 0 0 1]\n",
      "Predicted:[1 0 0 1], ground truth:[1 0 0 1]\n",
      "Predicted:[1 0 0 1], ground truth:[1 0 0 1]\n",
      "Predicted:[1 0 0 1], ground truth:[1 0 0 0]\n",
      "Predicted:[0 0 0 1], ground truth:[0 0 1 0]\n",
      "Predicted:[1 0 0 0], ground truth:[1 0 0 0]\n",
      "Predicted:[0 0 0 0], ground truth:[0 0 1 1]\n",
      "Predicted:[0 0 0 0], ground truth:[1 1 0 0]\n",
      "Predicted:[0 0 0 1], ground truth:[1 0 0 1]\n",
      "Predicted:[0 0 0 1], ground truth:[0 0 0 1]\n",
      "Predicted:[1 0 0 1], ground truth:[0 0 0 1]\n",
      "Predicted:[1 0 0 1], ground truth:[0 0 0 1]\n",
      "Predicted:[0 0 0 1], ground truth:[0 0 0 1]\n",
      "Predicted:[1 0 0 1], ground truth:[0 0 1 1]\n",
      "Predicted:[0 0 0 1], ground truth:[1 0 0 1]\n",
      "Predicted:[0 0 0 1], ground truth:[1 0 0 1]\n",
      "Predicted:[1 0 0 1], ground truth:[1 1 1 1]\n",
      "Predicted:[1 0 0 0], ground truth:[1 0 0 0]\n",
      "Predicted:[0 0 0 1], ground truth:[0 0 0 1]\n",
      "Predicted:[0 0 0 1], ground truth:[0 1 0 1]\n",
      "Predicted:[1 0 0 1], ground truth:[1 0 0 1]\n",
      "Predicted:[1 0 0 1], ground truth:[1 0 0 0]\n",
      "Predicted:[0 0 0 1], ground truth:[0 0 0 1]\n",
      "Predicted:[1 0 0 1], ground truth:[1 0 0 0]\n",
      "Predicted:[1 0 0 1], ground truth:[0 0 0 1]\n",
      "Predicted:[1 0 0 0], ground truth:[1 0 0 0]\n",
      "Predicted:[1 0 0 1], ground truth:[1 0 0 1]\n",
      "Predicted:[1 0 0 1], ground truth:[1 0 0 1]\n",
      "Predicted:[1 0 0 1], ground truth:[0 0 0 1]\n",
      "Predicted:[1 0 0 1], ground truth:[1 0 0 1]\n",
      "Predicted:[1 0 0 1], ground truth:[1 0 0 1]\n",
      "Predicted:[0 0 0 1], ground truth:[0 0 1 1]\n",
      "Predicted:[1 0 0 1], ground truth:[1 0 0 0]\n",
      "Predicted:[1 0 0 1], ground truth:[1 0 0 0]\n",
      "Predicted:[1 0 0 1], ground truth:[1 0 0 1]\n",
      "Predicted:[1 0 0 1], ground truth:[0 0 1 1]\n",
      "Predicted:[1 0 0 0], ground truth:[0 0 1 1]\n",
      "Predicted:[1 0 0 1], ground truth:[1 0 0 1]\n",
      "Predicted:[1 0 1 1], ground truth:[1 0 0 1]\n",
      "Predicted:[0 0 0 1], ground truth:[1 0 0 1]\n",
      "Predicted:[1 0 0 1], ground truth:[1 1 0 1]\n",
      "Predicted:[0 0 0 1], ground truth:[1 0 0 1]\n",
      "Predicted:[1 0 0 1], ground truth:[0 0 0 1]\n",
      "Predicted:[1 0 0 1], ground truth:[1 0 0 1]\n",
      "Predicted:[1 0 0 1], ground truth:[0 0 0 1]\n",
      "Predicted:[1 0 0 1], ground truth:[0 0 0 1]\n",
      "Predicted:[0 0 0 1], ground truth:[0 0 1 1]\n",
      "Predicted:[1 0 0 1], ground truth:[1 0 0 1]\n",
      "Predicted:[1 0 0 1], ground truth:[0 0 0 1]\n",
      "Predicted:[1 0 0 1], ground truth:[1 0 0 1]\n",
      "Predicted:[0 0 1 1], ground truth:[0 0 0 1]\n",
      "Predicted:[1 0 0 1], ground truth:[1 0 0 0]\n",
      "Predicted:[1 0 0 1], ground truth:[1 0 0 0]\n",
      "Predicted:[1 0 0 1], ground truth:[1 0 0 0]\n",
      "Predicted:[1 0 0 1], ground truth:[0 0 0 1]\n",
      "Predicted:[1 0 0 1], ground truth:[1 0 0 0]\n",
      "Predicted:[0 1 0 1], ground truth:[1 1 0 1]\n",
      "Predicted:[1 0 0 1], ground truth:[0 0 0 1]\n",
      "Predicted:[1 0 0 1], ground truth:[1 1 0 1]\n",
      "Predicted:[1 0 0 1], ground truth:[0 0 1 1]\n",
      "Predicted:[0 0 0 1], ground truth:[0 0 0 1]\n",
      "Predicted:[1 0 0 1], ground truth:[1 1 0 1]\n",
      "Predicted:[1 0 0 1], ground truth:[0 0 1 1]\n",
      "Predicted:[1 0 0 1], ground truth:[1 0 0 0]\n",
      "Predicted:[0 0 0 1], ground truth:[1 0 0 1]\n",
      "Predicted:[1 0 0 1], ground truth:[0 0 0 1]\n",
      "Predicted:[0 0 0 1], ground truth:[0 0 0 1]\n",
      "Predicted:[1 0 0 1], ground truth:[1 0 0 1]\n",
      "Predicted:[1 0 0 1], ground truth:[0 0 0 1]\n",
      "Predicted:[1 0 0 0], ground truth:[0 0 1 1]\n",
      "Predicted:[1 0 0 1], ground truth:[1 0 0 0]\n",
      "Predicted:[1 0 0 1], ground truth:[1 0 0 0]\n",
      "Predicted:[0 0 0 1], ground truth:[0 0 0 1]\n",
      "Predicted:[0 0 0 1], ground truth:[0 0 0 1]\n",
      "Predicted:[1 0 0 1], ground truth:[0 0 1 1]\n",
      "Predicted:[1 0 0 1], ground truth:[0 0 0 1]\n",
      "Predicted:[0 0 0 1], ground truth:[1 0 0 0]\n",
      "Predicted:[1 0 0 1], ground truth:[1 0 0 0]\n",
      "Predicted:[1 0 0 1], ground truth:[1 1 1 0]\n",
      "Predicted:[0 0 0 1], ground truth:[0 0 0 1]\n",
      "Predicted:[1 0 0 1], ground truth:[0 0 0 1]\n",
      "Predicted:[1 0 0 1], ground truth:[0 0 1 1]\n",
      "Predicted:[0 0 0 1], ground truth:[0 0 0 1]\n",
      "Predicted:[1 0 0 1], ground truth:[0 0 0 1]\n",
      "Predicted:[0 0 0 1], ground truth:[0 0 0 1]\n",
      "Predicted:[0 0 0 1], ground truth:[0 0 0 1]\n",
      "Predicted:[1 0 0 1], ground truth:[1 0 0 0]\n",
      "Predicted:[0 0 0 1], ground truth:[1 0 0 0]\n",
      "Predicted:[1 0 0 1], ground truth:[1 0 0 0]\n",
      "Predicted:[1 0 0 1], ground truth:[0 0 0 1]\n",
      "Predicted:[1 0 0 1], ground truth:[1 0 0 1]\n",
      "Predicted:[1 0 0 1], ground truth:[0 0 1 0]\n",
      "Predicted:[0 0 0 1], ground truth:[1 0 0 0]\n",
      "Predicted:[1 0 0 0], ground truth:[1 0 0 0]\n",
      "Predicted:[1 0 0 1], ground truth:[0 0 0 1]\n",
      "Predicted:[1 0 0 0], ground truth:[0 0 0 1]\n",
      "Predicted:[1 0 0 1], ground truth:[0 0 0 1]\n",
      "Predicted:[1 0 0 1], ground truth:[1 0 0 1]\n",
      "Predicted:[1 0 0 0], ground truth:[1 0 0 0]\n",
      "Predicted:[0 0 0 1], ground truth:[0 0 0 1]\n",
      "Predicted:[0 1 0 1], ground truth:[0 0 0 1]\n",
      "Predicted:[1 0 0 1], ground truth:[0 0 0 1]\n",
      "Predicted:[1 0 0 1], ground truth:[1 0 0 0]\n",
      "Predicted:[1 0 0 1], ground truth:[1 0 0 1]\n",
      "Predicted:[1 0 0 1], ground truth:[0 1 0 1]\n",
      "Predicted:[0 0 0 1], ground truth:[1 1 0 1]\n",
      "Predicted:[1 0 0 1], ground truth:[0 0 0 1]\n",
      "Predicted:[1 0 0 1], ground truth:[1 0 0 0]\n",
      "Predicted:[1 0 0 1], ground truth:[0 0 0 1]\n",
      "Predicted:[0 0 0 1], ground truth:[0 0 0 1]\n",
      "Predicted:[1 0 0 1], ground truth:[1 0 0 1]\n",
      "Predicted:[1 0 0 1], ground truth:[1 0 0 0]\n",
      "Predicted:[1 0 0 1], ground truth:[1 1 1 1]\n",
      "Predicted:[1 0 0 1], ground truth:[1 0 0 0]\n",
      "Predicted:[1 0 0 1], ground truth:[1 0 0 0]\n",
      "Predicted:[1 0 0 1], ground truth:[0 0 0 1]\n",
      "Predicted:[1 0 0 1], ground truth:[1 0 0 1]\n",
      "Predicted:[1 0 0 1], ground truth:[0 0 1 0]\n",
      "Predicted:[0 0 0 1], ground truth:[0 0 0 1]\n",
      "Predicted:[0 0 0 1], ground truth:[0 0 1 1]\n",
      "Predicted:[0 0 0 1], ground truth:[1 0 0 1]\n",
      "Predicted:[1 0 0 0], ground truth:[1 0 0 0]\n",
      "Predicted:[1 0 0 0], ground truth:[1 0 0 0]\n",
      "Predicted:[0 0 0 1], ground truth:[0 0 0 1]\n",
      "Predicted:[0 0 0 1], ground truth:[0 0 0 1]\n",
      "Predicted:[1 0 0 1], ground truth:[1 0 0 1]\n",
      "Predicted:[0 0 0 1], ground truth:[1 0 0 1]\n",
      "Predicted:[1 0 0 1], ground truth:[0 0 0 1]\n",
      "Predicted:[0 0 0 1], ground truth:[0 0 0 1]\n",
      "Predicted:[1 0 0 1], ground truth:[0 0 0 1]\n",
      "Predicted:[1 0 0 1], ground truth:[1 0 0 1]\n",
      "Predicted:[1 0 0 1], ground truth:[1 0 0 1]\n",
      "Predicted:[1 0 0 1], ground truth:[1 0 0 0]\n",
      "Predicted:[0 0 0 1], ground truth:[1 0 0 0]\n",
      "Predicted:[0 0 0 1], ground truth:[1 0 0 0]\n",
      "Predicted:[1 0 0 1], ground truth:[1 0 0 1]\n",
      "Predicted:[1 0 0 1], ground truth:[1 0 0 0]\n",
      "Predicted:[1 0 0 1], ground truth:[1 0 0 1]\n",
      "Predicted:[0 0 0 1], ground truth:[1 0 0 1]\n",
      "Predicted:[0 0 0 1], ground truth:[0 0 0 1]\n",
      "Predicted:[1 0 0 1], ground truth:[1 0 1 1]\n",
      "Predicted:[0 0 0 1], ground truth:[0 0 0 1]\n",
      "Predicted:[1 0 0 1], ground truth:[1 0 0 1]\n",
      "Predicted:[1 0 0 1], ground truth:[1 0 0 1]\n",
      "Predicted:[1 0 0 1], ground truth:[1 0 0 0]\n",
      "Predicted:[1 0 0 1], ground truth:[1 0 1 1]\n",
      "Predicted:[0 0 0 1], ground truth:[0 0 0 1]\n",
      "Predicted:[1 0 0 1], ground truth:[0 0 0 1]\n",
      "Predicted:[1 0 0 1], ground truth:[1 0 0 0]\n",
      "Predicted:[1 0 0 1], ground truth:[0 0 0 1]\n",
      "Predicted:[1 0 0 1], ground truth:[1 0 0 0]\n",
      "Predicted:[1 0 0 0], ground truth:[1 1 0 0]\n",
      "Predicted:[1 0 0 1], ground truth:[1 0 0 1]\n",
      "Predicted:[1 0 0 1], ground truth:[0 1 0 1]\n",
      "Predicted:[1 0 0 1], ground truth:[0 0 0 1]\n",
      "Predicted:[1 0 0 1], ground truth:[0 0 0 1]\n",
      "Predicted:[1 0 0 1], ground truth:[0 0 0 1]\n",
      "Predicted:[1 0 0 1], ground truth:[1 0 0 1]\n",
      "Predicted:[1 0 0 1], ground truth:[1 0 0 1]\n",
      "Predicted:[0 0 0 1], ground truth:[0 0 0 1]\n",
      "Predicted:[1 0 0 1], ground truth:[1 0 0 0]\n",
      "Predicted:[1 0 0 0], ground truth:[1 0 0 0]\n",
      "Predicted:[0 0 0 1], ground truth:[1 0 0 1]\n",
      "Predicted:[0 0 0 1], ground truth:[1 0 0 0]\n",
      "Predicted:[1 0 0 1], ground truth:[1 0 0 0]\n",
      "Predicted:[1 0 0 1], ground truth:[0 0 0 1]\n",
      "Predicted:[0 0 0 1], ground truth:[0 0 1 1]\n",
      "Predicted:[0 0 0 1], ground truth:[0 0 0 1]\n",
      "Predicted:[1 0 0 1], ground truth:[1 0 0 0]\n",
      "Predicted:[1 0 0 1], ground truth:[1 0 0 0]\n",
      "Predicted:[1 0 0 1], ground truth:[1 0 0 0]\n",
      "Predicted:[0 0 0 1], ground truth:[0 0 0 1]\n",
      "Predicted:[1 0 0 1], ground truth:[0 0 1 1]\n",
      "Predicted:[1 0 0 1], ground truth:[1 0 0 0]\n",
      "Predicted:[1 0 0 1], ground truth:[1 0 0 1]\n",
      "Predicted:[1 0 0 1], ground truth:[0 1 1 1]\n",
      "Predicted:[1 0 0 1], ground truth:[0 0 0 1]\n",
      "Predicted:[1 0 0 1], ground truth:[0 0 0 1]\n",
      "Predicted:[1 0 0 1], ground truth:[1 0 0 1]\n",
      "Predicted:[0 0 0 1], ground truth:[1 0 0 1]\n",
      "Predicted:[1 0 0 1], ground truth:[1 0 0 0]\n",
      "Predicted:[0 0 0 1], ground truth:[0 0 0 1]\n",
      "Predicted:[1 0 0 1], ground truth:[1 0 0 0]\n",
      "Predicted:[1 0 0 1], ground truth:[0 0 0 1]\n",
      "Predicted:[0 0 0 1], ground truth:[0 0 0 1]\n",
      "Predicted:[1 0 0 1], ground truth:[0 0 1 1]\n",
      "Predicted:[1 0 0 1], ground truth:[1 0 0 0]\n",
      "Predicted:[1 0 0 1], ground truth:[0 0 0 1]\n",
      "Predicted:[1 0 0 1], ground truth:[0 0 0 1]\n",
      "Predicted:[1 0 0 1], ground truth:[1 0 0 0]\n",
      "Predicted:[0 0 0 1], ground truth:[0 0 0 1]\n",
      "Predicted:[0 0 0 1], ground truth:[0 0 0 1]\n",
      "Predicted:[0 0 0 1], ground truth:[0 1 0 1]\n",
      "Predicted:[0 0 0 0], ground truth:[0 0 1 0]\n",
      "Predicted:[0 0 0 1], ground truth:[1 0 0 1]\n",
      "Predicted:[1 0 0 1], ground truth:[0 0 0 1]\n",
      "Predicted:[1 0 0 1], ground truth:[1 0 0 1]\n",
      "Predicted:[1 0 0 1], ground truth:[1 0 0 1]\n",
      "Predicted:[1 0 0 1], ground truth:[1 0 0 1]\n",
      "Predicted:[0 0 0 1], ground truth:[1 0 0 0]\n",
      "Predicted:[1 0 0 1], ground truth:[1 0 0 1]\n",
      "Predicted:[0 0 0 1], ground truth:[0 0 0 1]\n",
      "Predicted:[1 0 0 1], ground truth:[1 0 0 1]\n",
      "Predicted:[1 0 0 1], ground truth:[1 0 0 0]\n",
      "Predicted:[1 0 0 1], ground truth:[1 0 0 0]\n",
      "Predicted:[0 0 0 1], ground truth:[0 1 0 1]\n",
      "Predicted:[1 0 0 1], ground truth:[1 0 0 1]\n",
      "Predicted:[1 0 0 1], ground truth:[1 0 0 0]\n",
      "Predicted:[1 0 0 0], ground truth:[1 0 0 0]\n",
      "Predicted:[1 0 0 1], ground truth:[1 1 0 0]\n",
      "Predicted:[1 0 0 1], ground truth:[1 0 0 0]\n",
      "Predicted:[1 0 0 1], ground truth:[0 0 0 1]\n",
      "Predicted:[1 0 0 1], ground truth:[1 1 0 1]\n",
      "Predicted:[1 0 0 1], ground truth:[0 0 0 1]\n",
      "Predicted:[1 0 0 1], ground truth:[1 0 0 1]\n",
      "Predicted:[1 0 0 1], ground truth:[1 0 0 1]\n",
      "Predicted:[1 0 0 1], ground truth:[1 0 0 1]\n",
      "Predicted:[0 0 0 1], ground truth:[1 0 0 1]\n",
      "Predicted:[0 1 0 0], ground truth:[0 1 0 0]\n",
      "Predicted:[1 0 0 1], ground truth:[0 0 0 1]\n",
      "Predicted:[0 0 0 1], ground truth:[0 0 0 1]\n",
      "Predicted:[1 0 0 1], ground truth:[1 0 0 0]\n",
      "Predicted:[0 0 0 1], ground truth:[0 0 0 1]\n",
      "Predicted:[1 0 0 1], ground truth:[1 0 0 0]\n",
      "Predicted:[0 0 0 1], ground truth:[0 0 0 1]\n",
      "Predicted:[0 0 0 1], ground truth:[1 1 0 1]\n",
      "Predicted:[0 0 0 1], ground truth:[1 0 0 1]\n",
      "Predicted:[0 0 0 1], ground truth:[0 0 0 1]\n",
      "Predicted:[1 0 0 1], ground truth:[1 0 0 0]\n",
      "Predicted:[1 0 0 1], ground truth:[1 0 0 1]\n",
      "Predicted:[1 0 0 1], ground truth:[1 0 1 1]\n",
      "Predicted:[0 0 0 1], ground truth:[0 0 0 1]\n",
      "Predicted:[1 0 0 1], ground truth:[0 1 0 1]\n",
      "Predicted:[1 0 0 1], ground truth:[1 0 0 1]\n",
      "Predicted:[1 0 0 1], ground truth:[1 0 0 0]\n",
      "Predicted:[0 0 0 1], ground truth:[0 0 0 1]\n",
      "Predicted:[0 0 0 1], ground truth:[0 0 1 1]\n",
      "Predicted:[0 0 0 1], ground truth:[1 0 0 0]\n",
      "Predicted:[1 0 0 1], ground truth:[1 0 0 1]\n",
      "Predicted:[1 0 0 1], ground truth:[1 0 0 1]\n",
      "Predicted:[1 0 0 1], ground truth:[1 0 0 1]\n",
      "Predicted:[1 0 0 1], ground truth:[1 0 0 1]\n",
      "Predicted:[1 0 0 1], ground truth:[1 0 0 0]\n",
      "Predicted:[1 0 0 1], ground truth:[1 0 0 0]\n",
      "Predicted:[0 0 0 1], ground truth:[0 0 0 1]\n",
      "Predicted:[0 0 0 1], ground truth:[1 0 0 1]\n",
      "Predicted:[0 0 0 1], ground truth:[0 0 0 1]\n",
      "Predicted:[1 0 0 1], ground truth:[0 0 0 1]\n",
      "Predicted:[1 0 0 1], ground truth:[0 0 0 1]\n",
      "Predicted:[0 0 0 1], ground truth:[0 0 0 1]\n",
      "Predicted:[0 0 0 1], ground truth:[0 0 0 1]\n",
      "Predicted:[0 0 0 1], ground truth:[0 0 1 1]\n",
      "Predicted:[1 0 0 1], ground truth:[0 0 0 1]\n",
      "Predicted:[1 0 0 1], ground truth:[0 0 1 1]\n",
      "Predicted:[1 0 0 1], ground truth:[0 1 0 1]\n",
      "Predicted:[1 0 0 1], ground truth:[1 0 0 1]\n",
      "Predicted:[1 0 0 1], ground truth:[1 0 1 1]\n",
      "Predicted:[1 0 0 1], ground truth:[1 0 0 0]\n",
      "Predicted:[1 0 0 1], ground truth:[0 0 0 1]\n",
      "Predicted:[0 0 0 1], ground truth:[1 0 0 1]\n",
      "Predicted:[0 0 0 1], ground truth:[1 0 0 1]\n",
      "Predicted:[1 0 0 1], ground truth:[1 0 0 1]\n",
      "Predicted:[1 0 0 1], ground truth:[1 0 0 1]\n",
      "Predicted:[1 0 0 1], ground truth:[1 0 1 1]\n",
      "Predicted:[1 0 0 1], ground truth:[1 0 0 1]\n",
      "Predicted:[1 0 0 1], ground truth:[1 0 0 0]\n",
      "Predicted:[1 0 0 1], ground truth:[0 0 1 1]\n",
      "Predicted:[1 0 0 1], ground truth:[1 0 0 1]\n",
      "Predicted:[1 0 0 1], ground truth:[1 0 0 0]\n",
      "Predicted:[0 0 0 1], ground truth:[0 0 1 0]\n",
      "Predicted:[1 0 0 1], ground truth:[1 0 0 1]\n",
      "Predicted:[1 0 0 1], ground truth:[1 0 0 0]\n",
      "Predicted:[0 0 0 1], ground truth:[0 1 1 1]\n",
      "Predicted:[1 0 0 1], ground truth:[0 0 0 1]\n",
      "Predicted:[1 0 0 1], ground truth:[1 0 0 1]\n",
      "Predicted:[1 0 0 1], ground truth:[1 0 0 0]\n",
      "Predicted:[1 0 0 1], ground truth:[1 0 0 1]\n",
      "Predicted:[1 0 0 1], ground truth:[1 0 0 0]\n",
      "Predicted:[1 0 0 1], ground truth:[0 0 0 1]\n",
      "Predicted:[1 0 0 1], ground truth:[1 0 0 1]\n",
      "Predicted:[1 0 0 1], ground truth:[1 1 0 1]\n",
      "Predicted:[0 0 0 1], ground truth:[0 0 1 1]\n",
      "Predicted:[1 0 0 0], ground truth:[1 0 1 1]\n",
      "Predicted:[0 0 0 1], ground truth:[0 0 0 1]\n",
      "Predicted:[0 0 0 1], ground truth:[0 0 1 1]\n",
      "Predicted:[1 0 0 0], ground truth:[1 0 0 0]\n",
      "Predicted:[0 0 0 1], ground truth:[0 0 0 1]\n",
      "Predicted:[1 0 0 1], ground truth:[1 0 0 0]\n",
      "Predicted:[1 0 0 1], ground truth:[1 0 0 1]\n",
      "Predicted:[1 0 0 1], ground truth:[1 0 0 1]\n",
      "Predicted:[1 0 0 1], ground truth:[1 0 0 0]\n",
      "Predicted:[1 0 0 1], ground truth:[1 0 0 0]\n",
      "Predicted:[1 0 0 0], ground truth:[1 0 0 0]\n",
      "Predicted:[0 0 0 1], ground truth:[0 0 0 1]\n",
      "Predicted:[1 0 0 1], ground truth:[1 0 0 1]\n",
      "Predicted:[1 0 0 1], ground truth:[1 0 0 1]\n",
      "Predicted:[1 0 0 1], ground truth:[0 0 0 1]\n",
      "Predicted:[0 0 0 1], ground truth:[0 0 0 1]\n",
      "Predicted:[1 0 0 1], ground truth:[0 0 0 1]\n",
      "Predicted:[0 0 0 1], ground truth:[0 0 0 1]\n",
      "Predicted:[1 0 0 0], ground truth:[1 0 0 0]\n",
      "Predicted:[1 0 0 1], ground truth:[0 0 1 1]\n",
      "Predicted:[0 0 0 1], ground truth:[1 0 0 1]\n",
      "Predicted:[1 0 0 1], ground truth:[1 0 0 0]\n",
      "Predicted:[1 0 0 1], ground truth:[1 0 0 1]\n",
      "Predicted:[1 0 0 1], ground truth:[1 0 0 1]\n",
      "Predicted:[0 0 0 1], ground truth:[0 0 0 1]\n",
      "Predicted:[0 0 0 1], ground truth:[1 0 0 1]\n",
      "Predicted:[1 0 0 1], ground truth:[1 0 0 0]\n",
      "Predicted:[1 0 0 1], ground truth:[1 0 0 0]\n",
      "Predicted:[1 0 0 1], ground truth:[0 1 1 1]\n",
      "Predicted:[1 0 0 1], ground truth:[1 0 0 1]\n",
      "Predicted:[0 0 0 1], ground truth:[0 0 0 1]\n",
      "Predicted:[0 0 0 1], ground truth:[1 0 0 1]\n",
      "Predicted:[0 0 0 1], ground truth:[0 0 0 1]\n",
      "Predicted:[1 0 0 1], ground truth:[1 0 0 1]\n",
      "Predicted:[0 0 0 1], ground truth:[0 0 0 1]\n",
      "Predicted:[1 0 0 1], ground truth:[1 0 0 0]\n",
      "Predicted:[1 0 0 1], ground truth:[1 0 0 1]\n",
      "Predicted:[1 0 0 1], ground truth:[1 0 0 1]\n",
      "Predicted:[1 0 0 1], ground truth:[0 0 0 1]\n",
      "Predicted:[1 0 0 1], ground truth:[1 0 0 1]\n",
      "Predicted:[1 0 0 1], ground truth:[1 0 0 1]\n",
      "Predicted:[0 0 0 1], ground truth:[0 0 1 1]\n",
      "Predicted:[0 0 0 1], ground truth:[1 0 1 1]\n",
      "Predicted:[1 0 0 1], ground truth:[1 0 0 0]\n",
      "Predicted:[1 0 0 1], ground truth:[1 1 0 1]\n",
      "Predicted:[0 0 0 1], ground truth:[1 0 0 0]\n",
      "Predicted:[0 0 0 1], ground truth:[0 0 0 1]\n",
      "Predicted:[1 0 0 1], ground truth:[1 0 0 1]\n",
      "Predicted:[1 0 0 1], ground truth:[0 0 0 1]\n",
      "Predicted:[1 0 0 1], ground truth:[0 0 1 1]\n",
      "Predicted:[1 0 0 1], ground truth:[1 0 0 1]\n",
      "Predicted:[1 0 0 1], ground truth:[1 0 0 1]\n",
      "Predicted:[1 0 0 1], ground truth:[0 0 0 1]\n",
      "Predicted:[1 0 0 1], ground truth:[1 0 0 1]\n",
      "Predicted:[1 0 0 1], ground truth:[1 0 0 1]\n",
      "Predicted:[1 0 0 1], ground truth:[1 0 0 0]\n",
      "Predicted:[1 0 0 1], ground truth:[1 0 0 1]\n",
      "Predicted:[1 0 0 1], ground truth:[1 0 0 1]\n",
      "Predicted:[0 0 0 1], ground truth:[1 0 0 0]\n",
      "Predicted:[1 0 0 1], ground truth:[1 0 0 0]\n",
      "Predicted:[0 0 0 1], ground truth:[1 0 0 1]\n",
      "Predicted:[1 0 0 1], ground truth:[0 0 0 1]\n",
      "Predicted:[0 0 0 1], ground truth:[0 0 0 1]\n",
      "Predicted:[0 0 0 1], ground truth:[0 0 0 1]\n",
      "Predicted:[0 0 0 1], ground truth:[0 0 0 1]\n",
      "Predicted:[0 0 0 1], ground truth:[0 0 1 1]\n",
      "Predicted:[0 0 0 1], ground truth:[0 0 1 1]\n",
      "Predicted:[0 0 0 1], ground truth:[0 0 0 1]\n",
      "Predicted:[1 0 0 0], ground truth:[1 0 0 0]\n",
      "Predicted:[0 0 0 1], ground truth:[1 0 0 1]\n",
      "Predicted:[1 0 0 1], ground truth:[0 0 0 1]\n",
      "Predicted:[1 0 0 1], ground truth:[1 0 0 1]\n",
      "Predicted:[1 0 0 1], ground truth:[1 0 0 1]\n",
      "Predicted:[1 0 0 1], ground truth:[0 0 1 1]\n"
     ]
    }
   ],
   "source": [
    "# for d in zip(predicted, np.array(test_labels)):\n",
    "#     print('Predicted:{}, ground truth:{}'.format(d[0], d[1]))"
   ]
  },
  {
   "cell_type": "code",
   "execution_count": null,
   "metadata": {},
   "outputs": [],
   "source": []
  }
 ],
 "metadata": {
  "kernelspec": {
   "display_name": "Python 3",
   "language": "python",
   "name": "python3"
  },
  "language_info": {
   "codemirror_mode": {
    "name": "ipython",
    "version": 3
   },
   "file_extension": ".py",
   "mimetype": "text/x-python",
   "name": "python",
   "nbconvert_exporter": "python",
   "pygments_lexer": "ipython3",
   "version": "3.6.6"
  }
 },
 "nbformat": 4,
 "nbformat_minor": 2
}
