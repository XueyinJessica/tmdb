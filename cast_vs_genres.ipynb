{
 "cells": [
  {
   "cell_type": "markdown",
   "metadata": {},
   "source": [
    "# Prepare the dataset"
   ]
  },
  {
   "cell_type": "code",
   "execution_count": 1,
   "metadata": {},
   "outputs": [],
   "source": [
    "import pandas as pd\n",
    "import numpy as np\n",
    "import matplotlib.pyplot as plt\n",
    "from collections import defaultdict\n",
    "\n",
    "from sklearn.model_selection import train_test_split"
   ]
  },
  {
   "cell_type": "code",
   "execution_count": 2,
   "metadata": {},
   "outputs": [],
   "source": [
    "credits = pd.read_csv('dataset/tmdb_5000_credits.csv')\n",
    "movies = pd.read_csv('dataset/tmdb_5000_movies_nonull.csv')"
   ]
  },
  {
   "cell_type": "markdown",
   "metadata": {},
   "source": [
    "### Merge two data sets"
   ]
  },
  {
   "cell_type": "code",
   "execution_count": 3,
   "metadata": {},
   "outputs": [],
   "source": [
    "movies_sub = movies.loc[:, ['id', 'original_title', 'genres']]\n",
    "credits_sub = credits.loc[:, ['movie_id', 'cast']].rename(columns={'movie_id':'id'})\n",
    "df = movies_sub.merge(credits_sub)"
   ]
  },
  {
   "cell_type": "code",
   "execution_count": 4,
   "metadata": {},
   "outputs": [
    {
     "data": {
      "text/plain": [
       "(4799, 4)"
      ]
     },
     "execution_count": 4,
     "metadata": {},
     "output_type": "execute_result"
    }
   ],
   "source": [
    "df.shape"
   ]
  },
  {
   "cell_type": "code",
   "execution_count": 5,
   "metadata": {},
   "outputs": [
    {
     "data": {
      "text/html": [
       "<div>\n",
       "<style scoped>\n",
       "    .dataframe tbody tr th:only-of-type {\n",
       "        vertical-align: middle;\n",
       "    }\n",
       "\n",
       "    .dataframe tbody tr th {\n",
       "        vertical-align: top;\n",
       "    }\n",
       "\n",
       "    .dataframe thead th {\n",
       "        text-align: right;\n",
       "    }\n",
       "</style>\n",
       "<table border=\"1\" class=\"dataframe\">\n",
       "  <thead>\n",
       "    <tr style=\"text-align: right;\">\n",
       "      <th></th>\n",
       "      <th>id</th>\n",
       "      <th>original_title</th>\n",
       "      <th>genres</th>\n",
       "      <th>cast</th>\n",
       "    </tr>\n",
       "  </thead>\n",
       "  <tbody>\n",
       "    <tr>\n",
       "      <th>0</th>\n",
       "      <td>19995</td>\n",
       "      <td>Avatar</td>\n",
       "      <td>[{\"id\": 28, \"name\": \"Action\"}, {\"id\": 12, \"nam...</td>\n",
       "      <td>[{\"cast_id\": 242, \"character\": \"Jake Sully\", \"...</td>\n",
       "    </tr>\n",
       "    <tr>\n",
       "      <th>1</th>\n",
       "      <td>285</td>\n",
       "      <td>Pirates of the Caribbean: At World's End</td>\n",
       "      <td>[{\"id\": 12, \"name\": \"Adventure\"}, {\"id\": 14, \"...</td>\n",
       "      <td>[{\"cast_id\": 4, \"character\": \"Captain Jack Spa...</td>\n",
       "    </tr>\n",
       "    <tr>\n",
       "      <th>2</th>\n",
       "      <td>206647</td>\n",
       "      <td>Spectre</td>\n",
       "      <td>[{\"id\": 28, \"name\": \"Action\"}, {\"id\": 12, \"nam...</td>\n",
       "      <td>[{\"cast_id\": 1, \"character\": \"James Bond\", \"cr...</td>\n",
       "    </tr>\n",
       "    <tr>\n",
       "      <th>3</th>\n",
       "      <td>49026</td>\n",
       "      <td>The Dark Knight Rises</td>\n",
       "      <td>[{\"id\": 28, \"name\": \"Action\"}, {\"id\": 80, \"nam...</td>\n",
       "      <td>[{\"cast_id\": 2, \"character\": \"Bruce Wayne / Ba...</td>\n",
       "    </tr>\n",
       "    <tr>\n",
       "      <th>4</th>\n",
       "      <td>49529</td>\n",
       "      <td>John Carter</td>\n",
       "      <td>[{\"id\": 28, \"name\": \"Action\"}, {\"id\": 12, \"nam...</td>\n",
       "      <td>[{\"cast_id\": 5, \"character\": \"John Carter\", \"c...</td>\n",
       "    </tr>\n",
       "  </tbody>\n",
       "</table>\n",
       "</div>"
      ],
      "text/plain": [
       "       id                            original_title  \\\n",
       "0   19995                                    Avatar   \n",
       "1     285  Pirates of the Caribbean: At World's End   \n",
       "2  206647                                   Spectre   \n",
       "3   49026                     The Dark Knight Rises   \n",
       "4   49529                               John Carter   \n",
       "\n",
       "                                              genres  \\\n",
       "0  [{\"id\": 28, \"name\": \"Action\"}, {\"id\": 12, \"nam...   \n",
       "1  [{\"id\": 12, \"name\": \"Adventure\"}, {\"id\": 14, \"...   \n",
       "2  [{\"id\": 28, \"name\": \"Action\"}, {\"id\": 12, \"nam...   \n",
       "3  [{\"id\": 28, \"name\": \"Action\"}, {\"id\": 80, \"nam...   \n",
       "4  [{\"id\": 28, \"name\": \"Action\"}, {\"id\": 12, \"nam...   \n",
       "\n",
       "                                                cast  \n",
       "0  [{\"cast_id\": 242, \"character\": \"Jake Sully\", \"...  \n",
       "1  [{\"cast_id\": 4, \"character\": \"Captain Jack Spa...  \n",
       "2  [{\"cast_id\": 1, \"character\": \"James Bond\", \"cr...  \n",
       "3  [{\"cast_id\": 2, \"character\": \"Bruce Wayne / Ba...  \n",
       "4  [{\"cast_id\": 5, \"character\": \"John Carter\", \"c...  "
      ]
     },
     "execution_count": 5,
     "metadata": {},
     "output_type": "execute_result"
    }
   ],
   "source": [
    "df.head(5)"
   ]
  },
  {
   "cell_type": "code",
   "execution_count": 6,
   "metadata": {},
   "outputs": [],
   "source": [
    "# drop movies with no genre info\n",
    "for i, row in df.iterrows():\n",
    "    if row['genres'] == '[]':\n",
    "        df.drop(i, inplace=True)\n",
    "df = df.dropna()"
   ]
  },
  {
   "cell_type": "code",
   "execution_count": 7,
   "metadata": {},
   "outputs": [
    {
     "data": {
      "text/html": [
       "<div>\n",
       "<style scoped>\n",
       "    .dataframe tbody tr th:only-of-type {\n",
       "        vertical-align: middle;\n",
       "    }\n",
       "\n",
       "    .dataframe tbody tr th {\n",
       "        vertical-align: top;\n",
       "    }\n",
       "\n",
       "    .dataframe thead th {\n",
       "        text-align: right;\n",
       "    }\n",
       "</style>\n",
       "<table border=\"1\" class=\"dataframe\">\n",
       "  <thead>\n",
       "    <tr style=\"text-align: right;\">\n",
       "      <th></th>\n",
       "      <th>id</th>\n",
       "      <th>original_title</th>\n",
       "      <th>genres</th>\n",
       "      <th>cast</th>\n",
       "    </tr>\n",
       "  </thead>\n",
       "  <tbody>\n",
       "    <tr>\n",
       "      <th>0</th>\n",
       "      <td>19995</td>\n",
       "      <td>Avatar</td>\n",
       "      <td>[{\"id\": 28, \"name\": \"Action\"}, {\"id\": 12, \"nam...</td>\n",
       "      <td>[{\"cast_id\": 242, \"character\": \"Jake Sully\", \"...</td>\n",
       "    </tr>\n",
       "    <tr>\n",
       "      <th>1</th>\n",
       "      <td>285</td>\n",
       "      <td>Pirates of the Caribbean: At World's End</td>\n",
       "      <td>[{\"id\": 12, \"name\": \"Adventure\"}, {\"id\": 14, \"...</td>\n",
       "      <td>[{\"cast_id\": 4, \"character\": \"Captain Jack Spa...</td>\n",
       "    </tr>\n",
       "    <tr>\n",
       "      <th>2</th>\n",
       "      <td>206647</td>\n",
       "      <td>Spectre</td>\n",
       "      <td>[{\"id\": 28, \"name\": \"Action\"}, {\"id\": 12, \"nam...</td>\n",
       "      <td>[{\"cast_id\": 1, \"character\": \"James Bond\", \"cr...</td>\n",
       "    </tr>\n",
       "    <tr>\n",
       "      <th>3</th>\n",
       "      <td>49026</td>\n",
       "      <td>The Dark Knight Rises</td>\n",
       "      <td>[{\"id\": 28, \"name\": \"Action\"}, {\"id\": 80, \"nam...</td>\n",
       "      <td>[{\"cast_id\": 2, \"character\": \"Bruce Wayne / Ba...</td>\n",
       "    </tr>\n",
       "    <tr>\n",
       "      <th>4</th>\n",
       "      <td>49529</td>\n",
       "      <td>John Carter</td>\n",
       "      <td>[{\"id\": 28, \"name\": \"Action\"}, {\"id\": 12, \"nam...</td>\n",
       "      <td>[{\"cast_id\": 5, \"character\": \"John Carter\", \"c...</td>\n",
       "    </tr>\n",
       "  </tbody>\n",
       "</table>\n",
       "</div>"
      ],
      "text/plain": [
       "       id                            original_title  \\\n",
       "0   19995                                    Avatar   \n",
       "1     285  Pirates of the Caribbean: At World's End   \n",
       "2  206647                                   Spectre   \n",
       "3   49026                     The Dark Knight Rises   \n",
       "4   49529                               John Carter   \n",
       "\n",
       "                                              genres  \\\n",
       "0  [{\"id\": 28, \"name\": \"Action\"}, {\"id\": 12, \"nam...   \n",
       "1  [{\"id\": 12, \"name\": \"Adventure\"}, {\"id\": 14, \"...   \n",
       "2  [{\"id\": 28, \"name\": \"Action\"}, {\"id\": 12, \"nam...   \n",
       "3  [{\"id\": 28, \"name\": \"Action\"}, {\"id\": 80, \"nam...   \n",
       "4  [{\"id\": 28, \"name\": \"Action\"}, {\"id\": 12, \"nam...   \n",
       "\n",
       "                                                cast  \n",
       "0  [{\"cast_id\": 242, \"character\": \"Jake Sully\", \"...  \n",
       "1  [{\"cast_id\": 4, \"character\": \"Captain Jack Spa...  \n",
       "2  [{\"cast_id\": 1, \"character\": \"James Bond\", \"cr...  \n",
       "3  [{\"cast_id\": 2, \"character\": \"Bruce Wayne / Ba...  \n",
       "4  [{\"cast_id\": 5, \"character\": \"John Carter\", \"c...  "
      ]
     },
     "execution_count": 7,
     "metadata": {},
     "output_type": "execute_result"
    }
   ],
   "source": [
    "df.head(5)"
   ]
  },
  {
   "cell_type": "markdown",
   "metadata": {},
   "source": [
    "### Briefing of cast and genres"
   ]
  },
  {
   "cell_type": "code",
   "execution_count": 8,
   "metadata": {
    "scrolled": true
   },
   "outputs": [
    {
     "data": {
      "text/plain": [
       "[('Samuel L. Jackson', 67),\n",
       " ('Robert De Niro', 57),\n",
       " ('Bruce Willis', 51),\n",
       " ('Matt Damon', 48),\n",
       " ('Morgan Freeman', 46),\n",
       " ('Steve Buscemi', 43),\n",
       " ('Liam Neeson', 41),\n",
       " ('Johnny Depp', 40),\n",
       " ('Owen Wilson', 40),\n",
       " ('John Goodman', 39)]"
      ]
     },
     "execution_count": 8,
     "metadata": {},
     "output_type": "execute_result"
    }
   ],
   "source": [
    "# All cast: # of movies\n",
    "cast_all = defaultdict(int)\n",
    "\n",
    "for item in df.cast:\n",
    "    for p in json.loads(item):\n",
    "        cast_all[p['name']] += 1\n",
    "\n",
    "sorted(cast_all.items(), key=lambda x: x[1], reverse=True)[:10]"
   ]
  },
  {
   "cell_type": "code",
   "execution_count": 9,
   "metadata": {},
   "outputs": [
    {
     "data": {
      "text/plain": [
       "[('Drama', 2296),\n",
       " ('Comedy', 1722),\n",
       " ('Thriller', 1274),\n",
       " ('Action', 1154),\n",
       " ('Romance', 894),\n",
       " ('Adventure', 790),\n",
       " ('Crime', 696),\n",
       " ('Science Fiction', 535),\n",
       " ('Horror', 519),\n",
       " ('Family', 513),\n",
       " ('Fantasy', 424),\n",
       " ('Mystery', 348),\n",
       " ('Animation', 234),\n",
       " ('History', 197),\n",
       " ('Music', 185),\n",
       " ('War', 144),\n",
       " ('Documentary', 108),\n",
       " ('Western', 82),\n",
       " ('Foreign', 34),\n",
       " ('TV Movie', 8)]"
      ]
     },
     "execution_count": 9,
     "metadata": {},
     "output_type": "execute_result"
    }
   ],
   "source": [
    "# All genres\n",
    "all_genres = defaultdict(int)\n",
    "\n",
    "for row in df.genres:\n",
    "    for item in json.loads(row):\n",
    "        all_genres[item['name']] += 1\n",
    "\n",
    "genres_list = sorted(all_genres.items(), key=lambda x: x[1], reverse=True)\n",
    "genres_list"
   ]
  },
  {
   "cell_type": "code",
   "execution_count": 10,
   "metadata": {},
   "outputs": [
    {
     "data": {
      "image/png": "[encoded data removed]",
      "text/plain": [
       "<Figure size 432x288 with 1 Axes>"
      ]
     },
     "metadata": {
      "needs_background": "light"
     },
     "output_type": "display_data"
    }
   ],
   "source": [
    "plt.bar(x = [x[0] for x in genres_list], height = [y[1] for y in genres_list])\n",
    "plt.xticks(rotation=90)\n",
    "plt.show()"
   ]
  },
  {
   "cell_type": "markdown",
   "metadata": {},
   "source": [
    "### Modify df"
   ]
  },
  {
   "cell_type": "code",
   "execution_count": 11,
   "metadata": {},
   "outputs": [],
   "source": [
    "def extract_gender(cell):\n",
    "    \"\"\"Extract cast gender\"\"\"\n",
    "    female = 0\n",
    "    male = 0\n",
    "    for item in json.loads(cell):\n",
    "        if item['gender'] == 1: female += 1\n",
    "        elif item['gender'] == 2: male += 1\n",
    "        else: continue\n",
    "            \n",
    "    return female, male"
   ]
  },
  {
   "cell_type": "code",
   "execution_count": 12,
   "metadata": {},
   "outputs": [],
   "source": [
    "def modify_df(cell):\n",
    "    \"\"\"Convert string-format json cell to list\"\"\"\n",
    "    my_list = []\n",
    "    for item in json.loads(cell):\n",
    "        my_list.append(item['name'])\n",
    " \n",
    "    return my_list"
   ]
  },
  {
   "cell_type": "code",
   "execution_count": 13,
   "metadata": {},
   "outputs": [],
   "source": [
    "def concat_names(cell):\n",
    "    \"\"\"Concatenate first names and last names\"\"\"\n",
    "    names = []\n",
    "    for name in cell:\n",
    "        names.append(name.replace(' ', ''))\n",
    "    return names"
   ]
  },
  {
   "cell_type": "code",
   "execution_count": 14,
   "metadata": {},
   "outputs": [],
   "source": [
    "# modify df\n",
    "for col_name in ['genres', 'cast']:\n",
    "    if col_name == 'cast':\n",
    "        gen = df[col_name].apply(extract_gender)\n",
    "        df['female_pct'] = gen.apply(lambda x: x[0]/(x[0]+x[1]+0.001))\n",
    "        df['male_pct'] = gen.apply(lambda x: x[1]/(x[0]+x[1]+0.001))\n",
    "    \n",
    "    df[col_name] = df[col_name].apply(modify_df)"
   ]
  },
  {
   "cell_type": "code",
   "execution_count": 15,
   "metadata": {},
   "outputs": [],
   "source": [
    "# actors/actresses who have only one movie\n",
    "cast_to_remove = [key for (key, value) in cast_all.items() if value == 1]"
   ]
  },
  {
   "cell_type": "code",
   "execution_count": 16,
   "metadata": {},
   "outputs": [],
   "source": [
    "# drop cast who have only one movie\n",
    "for i, row in df.iterrows():\n",
    "    df.at[i, 'cast'] = list(set(row.cast) - set(cast_to_remove))"
   ]
  },
  {
   "cell_type": "code",
   "execution_count": 17,
   "metadata": {
    "scrolled": true
   },
   "outputs": [],
   "source": [
    "# concatenate first and last names\n",
    "df['cast'] = df['cast'].apply(concat_names)"
   ]
  },
  {
   "cell_type": "code",
   "execution_count": 18,
   "metadata": {},
   "outputs": [
    {
     "data": {
      "text/html": [
       "<div>\n",
       "<style scoped>\n",
       "    .dataframe tbody tr th:only-of-type {\n",
       "        vertical-align: middle;\n",
       "    }\n",
       "\n",
       "    .dataframe tbody tr th {\n",
       "        vertical-align: top;\n",
       "    }\n",
       "\n",
       "    .dataframe thead th {\n",
       "        text-align: right;\n",
       "    }\n",
       "</style>\n",
       "<table border=\"1\" class=\"dataframe\">\n",
       "  <thead>\n",
       "    <tr style=\"text-align: right;\">\n",
       "      <th></th>\n",
       "      <th>id</th>\n",
       "      <th>original_title</th>\n",
       "      <th>genres</th>\n",
       "      <th>cast</th>\n",
       "      <th>female_pct</th>\n",
       "      <th>male_pct</th>\n",
       "    </tr>\n",
       "  </thead>\n",
       "  <tbody>\n",
       "    <tr>\n",
       "      <th>0</th>\n",
       "      <td>19995</td>\n",
       "      <td>Avatar</td>\n",
       "      <td>[Action, Adventure, Fantasy, Science Fiction]</td>\n",
       "      <td>[LukeHawker, JahnelCurfman, JamesGaylyn, Nicol...</td>\n",
       "      <td>0.374988</td>\n",
       "      <td>0.624980</td>\n",
       "    </tr>\n",
       "    <tr>\n",
       "      <th>1</th>\n",
       "      <td>285</td>\n",
       "      <td>Pirates of the Caribbean: At World's End</td>\n",
       "      <td>[Adventure, Fantasy, Action]</td>\n",
       "      <td>[LaurenMaher, NaomieHarris, ReggieLee, GilesNe...</td>\n",
       "      <td>0.166661</td>\n",
       "      <td>0.833306</td>\n",
       "    </tr>\n",
       "    <tr>\n",
       "      <th>2</th>\n",
       "      <td>206647</td>\n",
       "      <td>Spectre</td>\n",
       "      <td>[Action, Adventure, Crime]</td>\n",
       "      <td>[LéaSeydoux, NaomieHarris, VictorSchefé, WaiWo...</td>\n",
       "      <td>0.191174</td>\n",
       "      <td>0.808812</td>\n",
       "    </tr>\n",
       "    <tr>\n",
       "      <th>3</th>\n",
       "      <td>49026</td>\n",
       "      <td>The Dark Knight Rises</td>\n",
       "      <td>[Action, Crime, Drama, Thriller]</td>\n",
       "      <td>[JayBenedict, HectorAtreyuRuiz, MatthewGooley,...</td>\n",
       "      <td>0.130951</td>\n",
       "      <td>0.869037</td>\n",
       "    </tr>\n",
       "    <tr>\n",
       "      <th>4</th>\n",
       "      <td>49529</td>\n",
       "      <td>John Carter</td>\n",
       "      <td>[Action, Adventure, Science Fiction]</td>\n",
       "      <td>[LynnCollins, PollyWalker, JosephBillingiere, ...</td>\n",
       "      <td>0.239990</td>\n",
       "      <td>0.759970</td>\n",
       "    </tr>\n",
       "  </tbody>\n",
       "</table>\n",
       "</div>"
      ],
      "text/plain": [
       "       id                            original_title  \\\n",
       "0   19995                                    Avatar   \n",
       "1     285  Pirates of the Caribbean: At World's End   \n",
       "2  206647                                   Spectre   \n",
       "3   49026                     The Dark Knight Rises   \n",
       "4   49529                               John Carter   \n",
       "\n",
       "                                          genres  \\\n",
       "0  [Action, Adventure, Fantasy, Science Fiction]   \n",
       "1                   [Adventure, Fantasy, Action]   \n",
       "2                     [Action, Adventure, Crime]   \n",
       "3               [Action, Crime, Drama, Thriller]   \n",
       "4           [Action, Adventure, Science Fiction]   \n",
       "\n",
       "                                                cast  female_pct  male_pct  \n",
       "0  [LukeHawker, JahnelCurfman, JamesGaylyn, Nicol...    0.374988  0.624980  \n",
       "1  [LaurenMaher, NaomieHarris, ReggieLee, GilesNe...    0.166661  0.833306  \n",
       "2  [LéaSeydoux, NaomieHarris, VictorSchefé, WaiWo...    0.191174  0.808812  \n",
       "3  [JayBenedict, HectorAtreyuRuiz, MatthewGooley,...    0.130951  0.869037  \n",
       "4  [LynnCollins, PollyWalker, JosephBillingiere, ...    0.239990  0.759970  "
      ]
     },
     "execution_count": 18,
     "metadata": {},
     "output_type": "execute_result"
    }
   ],
   "source": [
    "df.head(5)"
   ]
  },
  {
   "cell_type": "markdown",
   "metadata": {},
   "source": [
    "## Pairwise analysis of Movie Genres\n",
    "\n",
    "\n",
    "Put highly dependent labels into the same cluster, so that we can assume the four resulting clusters are approximately independent.\n",
    "\n",
    "\n",
    "*Source: https://spandan-madan.github.io/DeepLearningProject/*"
   ]
  },
  {
   "cell_type": "raw",
   "metadata": {},
   "source": [
    "import itertools\n",
    "\n",
    "# This function just generates all possible pairs of movies\n",
    "def list2pairs(genres):\n",
    "    # itertools.combinations(l,2) makes all pairs of length 2 from list l.\n",
    "    pairs = list(itertools.combinations(genres, 2))\n",
    "    # then the one item pairs, as duplicate pairs aren't accounted for by itertools\n",
    "    for genre in genres:\n",
    "        pairs.append([genre, genre])\n",
    "    return pairs"
   ]
  },
  {
   "cell_type": "raw",
   "metadata": {},
   "source": [
    "# get all genre lists pairs from all movies\n",
    "allPairs = []\n",
    "for cell in df.genres:\n",
    "    allPairs.extend(list2pairs(cell))\n",
    "    \n",
    "nr_ids = np.unique(allPairs)\n",
    "visGrid = np.zeros((len(nr_ids), len(nr_ids)))\n",
    "for p in allPairs:\n",
    "    visGrid[np.argwhere(nr_ids==p[0]), np.argwhere(nr_ids==p[1])]+=1\n",
    "    if p[1] != p[0]:\n",
    "        visGrid[np.argwhere(nr_ids==p[1]), np.argwhere(nr_ids==p[0])]+=1"
   ]
  },
  {
   "cell_type": "raw",
   "metadata": {},
   "source": [
    "import seaborn as sns\n",
    "\n",
    "# shows how often the genres occur together\n",
    "annot_lookup = []\n",
    "for i in range(len(nr_ids)):\n",
    "    annot_lookup.append(nr_ids[i])\n",
    "\n",
    "sns.heatmap(visGrid, xticklabels=annot_lookup, yticklabels=annot_lookup)"
   ]
  },
  {
   "cell_type": "raw",
   "metadata": {},
   "source": [
    "# co-cluster the genres\n",
    "# n_clusters=4 has the best result\n",
    "from sklearn.cluster import SpectralCoclustering\n",
    "\n",
    "model = SpectralCoclustering(n_clusters=4, svd_method='arpack', random_state=0)\n",
    "model.fit(visGrid)\n",
    "\n",
    "fit_data = visGrid[np.argsort(model.row_labels_)]\n",
    "fit_data = fit_data[:, np.argsort(model.column_labels_)]\n",
    "\n",
    "annot_lookup_sorted = []\n",
    "for i in np.argsort(model.row_labels_):\n",
    "    annot_lookup_sorted.append(nr_ids[i])\n",
    "    \n",
    "sns.heatmap(fit_data, xticklabels=annot_lookup_sorted, yticklabels=annot_lookup_sorted, annot=False)\n",
    "plt.title(\"After biclustering; rearranged to show biclusters\")\n",
    "\n",
    "plt.show()"
   ]
  },
  {
   "cell_type": "markdown",
   "metadata": {},
   "source": [
    "**Four clusters:**  \n",
    "+ **Exciting**: Thriller, Horror, Action, Adventure, Sci-Fi, Crime, Mystery, Fantasy    \n",
    "+ **Uplifting**: Drama, Romance, Comedy, Family  \n",
    "+ **Reality:** Documentary, War, History, Foreign, Music\n",
    "+ **Others:** Western, TV Movie, Animation"
   ]
  },
  {
   "cell_type": "markdown",
   "metadata": {},
   "source": [
    "## Change genres to four new subsets"
   ]
  },
  {
   "cell_type": "raw",
   "metadata": {},
   "source": [
    "new_genres = []\n",
    "\n",
    "for i, cell in enumerate(df.genres):\n",
    "    cell_genre = []\n",
    "    for item in cell:\n",
    "        if item in ['Thriller', 'Horror', 'Action', 'Adventure', 'Science Fiction', 'Crime', 'Mystery', 'Fantasy']:\n",
    "            cell_genre.append('Exciting')\n",
    "        elif item in ['Drama', 'Romance', 'Comedy', 'Family']:\n",
    "            cell_genre.append('Uplifting')\n",
    "        elif item in ['Documentary', 'War', 'History', 'Foreign', 'Music']:\n",
    "            cell_genre.append('Reality')\n",
    "        else:\n",
    "            cell_genre.append('Others')\n",
    "    new_genres.append(list(set(cell_genre)))\n",
    "\n",
    "df['genres'] = new_genres"
   ]
  },
  {
   "cell_type": "markdown",
   "metadata": {},
   "source": [
    "## Cast+gender vs. Genres"
   ]
  },
  {
   "cell_type": "code",
   "execution_count": 19,
   "metadata": {},
   "outputs": [],
   "source": [
    "for i, row in df.iterrows():\n",
    "    df.at[i, 'cast'] = ' '.join(row['cast'])"
   ]
  },
  {
   "cell_type": "code",
   "execution_count": 27,
   "metadata": {},
   "outputs": [],
   "source": [
    "from sklearn.feature_extraction.text import TfidfVectorizer\n",
    "from sklearn.feature_extraction.text import CountVectorizer\n",
    "from sklearn.naive_bayes import MultinomialNB\n",
    "from sklearn.ensemble import RandomForestClassifier\n",
    "from sklearn.tree import DecisionTreeClassifier"
   ]
  },
  {
   "cell_type": "code",
   "execution_count": 21,
   "metadata": {},
   "outputs": [],
   "source": [
    "from sklearn.metrics import make_scorer\n",
    "from sklearn.metrics import accuracy_score\n",
    "from sklearn.metrics import f1_score\n",
    "from sklearn.metrics import precision_score\n",
    "from sklearn.metrics import recall_score, hamming_loss\n",
    "from sklearn.metrics import roc_auc_score"
   ]
  },
  {
   "cell_type": "code",
   "execution_count": 22,
   "metadata": {},
   "outputs": [],
   "source": [
    "# One-Hot encoding\n",
    "from sklearn.preprocessing import MultiLabelBinarizer\n",
    "\n",
    "mlb = MultiLabelBinarizer()\n",
    "mlb.fit_transform(df.genres)\n",
    "train_data, test_data, train_labels, test_labels = train_test_split(df.iloc[:, 3:], mlb.transform(df.genres),\n",
    "                                                                    test_size=0.2, random_state=42)"
   ]
  },
  {
   "cell_type": "code",
   "execution_count": 128,
   "metadata": {},
   "outputs": [],
   "source": [
    "vectorizer = CountVectorizer(ngram_range=(1, 2))\n",
    "train_cast_vect = vectorizer.fit_transform(train_data.iloc[:, 0])\n",
    "test_cast_vect = vectorizer.transform(test_data.iloc[:, 0])\n",
    "\n",
    "train_features = np.concatenate((train_cast_vect.toarray(), np.asarray(train_data.iloc[:, 1:])), axis=1)\n",
    "test_features = np.concatenate((test_cast_vect.toarray(), np.asarray(test_data.iloc[:, 1:])), axis=1)"
   ]
  },
  {
   "cell_type": "markdown",
   "metadata": {},
   "source": [
    "### Cast+gender (pretty slow)"
   ]
  },
  {
   "cell_type": "markdown",
   "metadata": {},
   "source": [
    "It's interesting that I only added two columns (female_proportion and male_proportion) to the vectorized cast names, but the running time of fitting a model takes much longer than using only the cast names.  "
   ]
  },
  {
   "cell_type": "raw",
   "metadata": {},
   "source": [
    "# normalize the gender proportions\n",
    "from sklearn.preprocessing import StandardScaler\n",
    "\n",
    "scaler = StandardScaler()\n",
    "train_gender = scaler.fit_transform(np.asarray(train_data.iloc[:, 1:]))\n",
    "test_gender = scaler.transform(np.asarray(test_data.iloc[:, 1:]))\n",
    "\n",
    "train_features = np.concatenate((train_cast_vect.todense(), train_gender), axis=1)\n",
    "test_features = np.concatenate((test_cast_vect.todense(), test_gender), axis=1)"
   ]
  },
  {
   "cell_type": "code",
   "execution_count": 129,
   "metadata": {
    "scrolled": true
   },
   "outputs": [],
   "source": [
    "# gender+cast\n",
    "from sklearn.model_selection import GridSearchCV\n",
    "from sklearn.multiclass import OneVsRestClassifier\n",
    "from skmultilearn.problem_transform import BinaryRelevance\n",
    "\n",
    "# parameters = {'criterion': ['gini', 'entropy']}\n",
    "# gridCV = GridSearchCV(DecisionTreeClassifier(max_depth=3), parameters,\n",
    "#                       scoring=make_scorer(accuracy_score), \n",
    "#                       cv=10, return_train_score=False)\n",
    "# clf = OneVsRestClassifier(gridCV)\n",
    "\n",
    "clf = OneVsRestClassifier(MultinomialNB())\n",
    "\n",
    "clf.fit(train_features, train_labels)\n",
    "predicted = clf.predict(test_features)"
   ]
  },
  {
   "cell_type": "markdown",
   "metadata": {},
   "source": [
    "### Cast only with GridSearchCV"
   ]
  },
  {
   "cell_type": "markdown",
   "metadata": {},
   "source": [
    "Using cast only takes less time, but the result is slightly worse than using both the cast and the gender proportion, especially the prediction performance of **Action**. No huge difference for other classes."
   ]
  },
  {
   "cell_type": "raw",
   "metadata": {
    "scrolled": false
   },
   "source": [
    "# GridSearchCV, cast only\n",
    "from sklearn.model_selection import GridSearchCV\n",
    "from sklearn.multiclass import OneVsRestClassifier\n",
    "\n",
    "parameters = {'alpha': 10**np.linspace(-1, 1, 10), \n",
    "              'fit_prior': [True, False]}\n",
    "\n",
    "gridCV = GridSearchCV(MultinomialNB(), parameters,\n",
    "                      scoring = make_scorer(accuracy_score), cv=5)\n",
    "clf = OneVsRestClassifier(gridCV)\n",
    "\n",
    "clf.fit(train_cast_vect, train_labels)\n",
    "y_score = clf.fit(train_cast_vect, train_labels).predict_proba(test_cast_vect)\n",
    "predicted = clf.predict(test_cast_vect)"
   ]
  },
  {
   "cell_type": "code",
   "execution_count": 130,
   "metadata": {},
   "outputs": [
    {
     "name": "stdout",
     "output_type": "stream",
     "text": [
      "                 precision    recall  f1-score   support\n",
      "\n",
      "         Action       0.75      0.43      0.54       242\n",
      "      Adventure       0.76      0.24      0.36       156\n",
      "      Animation       1.00      0.36      0.53        39\n",
      "         Comedy       0.77      0.64      0.70       331\n",
      "          Crime       0.64      0.09      0.15       160\n",
      "    Documentary       0.00      0.00      0.00        15\n",
      "          Drama       0.66      0.73      0.69       445\n",
      "         Family       0.89      0.26      0.40        97\n",
      "        Fantasy       0.57      0.09      0.15        94\n",
      "        Foreign       0.00      0.00      0.00         8\n",
      "        History       0.14      0.03      0.05        34\n",
      "         Horror       0.89      0.15      0.25       108\n",
      "          Music       0.50      0.03      0.05        39\n",
      "        Mystery       0.00      0.00      0.00        84\n",
      "        Romance       0.53      0.10      0.17       184\n",
      "Science Fiction       0.53      0.09      0.15       112\n",
      "       TV Movie       0.00      0.00      0.00         0\n",
      "       Thriller       0.52      0.30      0.38       273\n",
      "            War       0.00      0.00      0.00        35\n",
      "        Western       1.00      0.07      0.12        15\n",
      "\n",
      "      micro avg       0.68      0.35      0.46      2471\n",
      "      macro avg       0.51      0.18      0.24      2471\n",
      "   weighted avg       0.63      0.35      0.41      2471\n",
      "    samples avg       0.61      0.40      0.45      2471\n",
      "\n"
     ]
    },
    {
     "name": "stderr",
     "output_type": "stream",
     "text": [
      "/anaconda3/envs/ml/lib/python3.6/site-packages/sklearn/metrics/classification.py:1143: UndefinedMetricWarning: Precision and F-score are ill-defined and being set to 0.0 in labels with no predicted samples.\n",
      "  'precision', 'predicted', average, warn_for)\n",
      "/anaconda3/envs/ml/lib/python3.6/site-packages/sklearn/metrics/classification.py:1145: UndefinedMetricWarning: Recall and F-score are ill-defined and being set to 0.0 in labels with no true samples.\n",
      "  'recall', 'true', average, warn_for)\n",
      "/anaconda3/envs/ml/lib/python3.6/site-packages/sklearn/metrics/classification.py:1143: UndefinedMetricWarning: Precision and F-score are ill-defined and being set to 0.0 in samples with no predicted labels.\n",
      "  'precision', 'predicted', average, warn_for)\n"
     ]
    }
   ],
   "source": [
    "from sklearn.metrics import classification_report\n",
    "\n",
    "print(classification_report(test_labels, predicted, target_names=mlb.classes_))"
   ]
  },
  {
   "cell_type": "code",
   "execution_count": 131,
   "metadata": {
    "scrolled": false
   },
   "outputs": [
    {
     "name": "stdout",
     "output_type": "stream",
     "text": [
      "Accuracy: 0.12670157068062826\n",
      "F1 score: 0.4633821571238349\n",
      "Precision: 0.677570093457944\n",
      "Recall: 0.3520841764467827\n"
     ]
    }
   ],
   "source": [
    "accuracy = accuracy_score(y_pred=predicted, y_true=np.array(test_labels))\n",
    "f1 = f1_score(y_pred=predicted, y_true=np.array(test_labels), average='micro')\n",
    "precision = precision_score(y_pred=predicted, y_true=np.array(test_labels), average='micro')\n",
    "recall = recall_score(y_pred=predicted, y_true=np.array(test_labels), average='micro')\n",
    "\n",
    "print(\"Accuracy: {}\".format(accuracy)) # subset accuracy\n",
    "print(\"F1 score: {}\".format(f1))\n",
    "print(\"Precision: {}\".format(precision))\n",
    "print(\"Recall: {}\".format(recall))"
   ]
  },
  {
   "cell_type": "code",
   "execution_count": 132,
   "metadata": {},
   "outputs": [
    {
     "name": "stdout",
     "output_type": "stream",
     "text": [
      "Action: 0.818848167539267\n",
      "Adventure: 0.86282722513089\n",
      "Animation: 0.9738219895287958\n",
      "Comedy: 0.8073298429319372\n",
      "Crime: 0.8387434554973822\n",
      "Documentary: 0.9842931937172775\n",
      "Drama: 0.6973821989528796\n",
      "Family: 0.9214659685863874\n",
      "Fantasy: 0.9036649214659686\n",
      "Foreign: 0.9916230366492147\n",
      "History: 0.9591623036649215\n",
      "Horror: 0.9015706806282723\n",
      "Music: 0.9591623036649215\n",
      "Mystery: 0.912041884816754\n",
      "Romance: 0.8094240837696335\n",
      "Science Fiction: 0.8837696335078534\n",
      "TV Movie: 1.0\n",
      "Thriller: 0.7193717277486911\n",
      "War: 0.9602094240837696\n",
      "Western: 0.9853403141361257\n"
     ]
    }
   ],
   "source": [
    "for i in range(predicted.shape[1]):\n",
    "    print('{}: {}'.format(mlb.classes_[i], \n",
    "                          accuracy_score(np.asarray(test_labels)[:, i], np.asarray(predicted)[:, i])))"
   ]
  },
  {
   "cell_type": "markdown",
   "metadata": {},
   "source": [
    "The high accuracy score for each class is not as meaningful as we expected due to the large number of 0's in the data set, because we care more about recall - whether we can correctly predict that one movie has some genre, instead of correctly predicting that one movie does not have some genre.  \n",
    "+ Only **Drama**, **Comedy**, and **Action** has relatively good prediction, i.e., high 0-0 proportion, and relatively high 1-1 proportion.  \n",
    "+ For other classes, although generally we can well predict which classes one movie does not have, but we also fails to get the correct classes in many cases.  "
   ]
  },
  {
   "cell_type": "code",
   "execution_count": 133,
   "metadata": {
    "scrolled": false
   },
   "outputs": [
    {
     "name": "stdout",
     "output_type": "stream",
     "text": [
      "true1-pred0 rate of Action: 0.14554973821989528\n",
      "true0-pred1 rate of Action: 0.0356020942408377\n",
      "true0-pred0 rate of Action: 0.7109947643979058\n",
      "true1-pred1 rate of Action: 0.10785340314136126\n",
      "\n",
      "true1-pred0 rate of Adventure: 0.12460732984293194\n",
      "true0-pred1 rate of Adventure: 0.012565445026178011\n",
      "true0-pred0 rate of Adventure: 0.8240837696335078\n",
      "true1-pred1 rate of Adventure: 0.0387434554973822\n",
      "\n",
      "true1-pred0 rate of Animation: 0.02617801047120419\n",
      "true0-pred1 rate of Animation: 0.0\n",
      "true0-pred0 rate of Animation: 0.9591623036649215\n",
      "true1-pred1 rate of Animation: 0.014659685863874346\n",
      "\n",
      "true1-pred0 rate of Comedy: 0.12460732984293194\n",
      "true0-pred1 rate of Comedy: 0.06806282722513089\n",
      "true0-pred0 rate of Comedy: 0.5853403141361256\n",
      "true1-pred1 rate of Comedy: 0.22198952879581152\n",
      "\n",
      "true1-pred0 rate of Crime: 0.15287958115183245\n",
      "true0-pred1 rate of Crime: 0.008376963350785341\n",
      "true0-pred0 rate of Crime: 0.8240837696335078\n",
      "true1-pred1 rate of Crime: 0.014659685863874346\n",
      "\n",
      "true1-pred0 rate of Documentary: 0.015706806282722512\n",
      "true0-pred1 rate of Documentary: 0.0\n",
      "true0-pred0 rate of Documentary: 0.9842931937172775\n",
      "true1-pred1 rate of Documentary: 0.0\n",
      "\n",
      "true1-pred0 rate of Drama: 0.12356020942408377\n",
      "true0-pred1 rate of Drama: 0.17905759162303664\n",
      "true0-pred0 rate of Drama: 0.3549738219895288\n",
      "true1-pred1 rate of Drama: 0.3424083769633508\n",
      "\n",
      "true1-pred0 rate of Family: 0.07539267015706806\n",
      "true0-pred1 rate of Family: 0.0031413612565445027\n",
      "true0-pred0 rate of Family: 0.8952879581151832\n",
      "true1-pred1 rate of Family: 0.02617801047120419\n",
      "\n",
      "true1-pred0 rate of Fantasy: 0.09005235602094241\n",
      "true0-pred1 rate of Fantasy: 0.0062827225130890054\n",
      "true0-pred0 rate of Fantasy: 0.8952879581151832\n",
      "true1-pred1 rate of Fantasy: 0.008376963350785341\n",
      "\n",
      "true1-pred0 rate of Foreign: 0.008376963350785341\n",
      "true0-pred1 rate of Foreign: 0.0\n",
      "true0-pred0 rate of Foreign: 0.9916230366492147\n",
      "true1-pred1 rate of Foreign: 0.0\n",
      "\n",
      "true1-pred0 rate of History: 0.03455497382198953\n",
      "true0-pred1 rate of History: 0.0062827225130890054\n",
      "true0-pred0 rate of History: 0.9581151832460733\n",
      "true1-pred1 rate of History: 0.0010471204188481676\n",
      "\n",
      "true1-pred0 rate of Horror: 0.09633507853403141\n",
      "true0-pred1 rate of Horror: 0.0020942408376963353\n",
      "true0-pred0 rate of Horror: 0.8848167539267016\n",
      "true1-pred1 rate of Horror: 0.016753926701570682\n",
      "\n",
      "true1-pred0 rate of Music: 0.039790575916230364\n",
      "true0-pred1 rate of Music: 0.0010471204188481676\n",
      "true0-pred0 rate of Music: 0.9581151832460733\n",
      "true1-pred1 rate of Music: 0.0010471204188481676\n",
      "\n",
      "true1-pred0 rate of Mystery: 0.08795811518324607\n",
      "true0-pred1 rate of Mystery: 0.0\n",
      "true0-pred0 rate of Mystery: 0.912041884816754\n",
      "true1-pred1 rate of Mystery: 0.0\n",
      "\n",
      "true1-pred0 rate of Romance: 0.17277486910994763\n",
      "true0-pred1 rate of Romance: 0.01780104712041885\n",
      "true0-pred0 rate of Romance: 0.7895287958115184\n",
      "true1-pred1 rate of Romance: 0.019895287958115182\n",
      "\n",
      "true1-pred0 rate of Science Fiction: 0.1068062827225131\n",
      "true0-pred1 rate of Science Fiction: 0.009424083769633508\n",
      "true0-pred0 rate of Science Fiction: 0.8732984293193717\n",
      "true1-pred1 rate of Science Fiction: 0.010471204188481676\n",
      "\n",
      "true1-pred0 rate of TV Movie: 0.0\n",
      "true0-pred1 rate of TV Movie: 0.0\n",
      "true0-pred0 rate of TV Movie: 1.0\n",
      "true1-pred1 rate of TV Movie: 0.0\n",
      "\n",
      "true1-pred0 rate of Thriller: 0.2\n",
      "true0-pred1 rate of Thriller: 0.0806282722513089\n",
      "true0-pred0 rate of Thriller: 0.6335078534031413\n",
      "true1-pred1 rate of Thriller: 0.08586387434554973\n",
      "\n",
      "true1-pred0 rate of War: 0.03664921465968586\n",
      "true0-pred1 rate of War: 0.0031413612565445027\n",
      "true0-pred0 rate of War: 0.9602094240837696\n",
      "true1-pred1 rate of War: 0.0\n",
      "\n",
      "true1-pred0 rate of Western: 0.014659685863874346\n",
      "true0-pred1 rate of Western: 0.0\n",
      "true0-pred0 rate of Western: 0.9842931937172775\n",
      "true1-pred1 rate of Western: 0.0010471204188481676\n",
      "\n"
     ]
    }
   ],
   "source": [
    "for i in range(predicted.shape[1]):\n",
    "    fp = 0\n",
    "    fn = 0\n",
    "    tp = 0\n",
    "    tn = 0\n",
    "    \n",
    "    truth_val = np.asarray(test_labels)[:, i]\n",
    "    pred_val = np.asarray(predicted)[:, i]\n",
    "    for vt, vp in zip(truth_val, pred_val):\n",
    "        if vt==1 and vp==0: fn += 1\n",
    "        elif vt == 0 and vp==1: fp += 1\n",
    "        elif vt == 0 and vp==0: tn += 1\n",
    "        elif vt == 1 and vp==1: tp += 1\n",
    "    \n",
    "    print('true1-pred0 rate of {}: {}'.format(mlb.classes_[i], fn/predicted.shape[0]))\n",
    "    print('true0-pred1 rate of {}: {}'.format(mlb.classes_[i], fp/predicted.shape[0]))\n",
    "    print('true0-pred0 rate of {}: {}'.format(mlb.classes_[i], tn/predicted.shape[0]))\n",
    "    print('true1-pred1 rate of {}: {}\\n'.format(mlb.classes_[i], tp/predicted.shape[0]))"
   ]
  },
  {
   "cell_type": "markdown",
   "metadata": {},
   "source": [
    "### Next step (after first check-in):\n",
    "+ Since we are using NB, so prior and conditional prob matters, maybe try other algorithms?\n",
    "+ adjust prior probabilities?\n",
    "+ ..."
   ]
  },
  {
   "cell_type": "code",
   "execution_count": null,
   "metadata": {},
   "outputs": [],
   "source": [
    "# Compute ROC curve and ROC area for each class\n",
    "from sklearn.metrics import roc_curve, auc\n",
    "\n",
    "fpr = dict()\n",
    "tpr = dict()\n",
    "roc_auc = dict()\n",
    "for i in range(len(mlb.classes_)):\n",
    "    fpr[i], tpr[i], _ = roc_curve(test_labels[:, i], y_score[:, i])\n",
    "    roc_auc[i] = auc(fpr[i], tpr[i])\n",
    "\n",
    "# Compute micro-average ROC curve and ROC area\n",
    "fpr[\"micro\"], tpr[\"micro\"], _ = roc_curve(test_labels.ravel(), y_score.ravel())\n",
    "roc_auc[\"micro\"] = auc(fpr[\"micro\"], tpr[\"micro\"])"
   ]
  },
  {
   "cell_type": "code",
   "execution_count": null,
   "metadata": {},
   "outputs": [],
   "source": [
    "plt.figure(figsize=(10, 10))\n",
    "for i in range(len(mlb.classes_)):\n",
    "    plt.plot(fpr[i], tpr[i], label='{} (area = {:.2f})'.format(mlb.classes_[i], roc_auc[i]))\n",
    "plt.plot([0, 1], [0, 1], color='navy', linestyle='--')\n",
    "plt.xlim([0.0, 1.0])\n",
    "plt.ylim([0.0, 1.05])\n",
    "plt.xlabel('False Positive Rate')\n",
    "plt.ylabel('True Positive Rate')\n",
    "plt.title('ROC Curve')\n",
    "plt.legend(loc=\"lower right\")\n",
    "plt.show()"
   ]
  },
  {
   "cell_type": "code",
   "execution_count": null,
   "metadata": {},
   "outputs": [],
   "source": [
    "mlb.classes_"
   ]
  },
  {
   "cell_type": "code",
   "execution_count": null,
   "metadata": {},
   "outputs": [],
   "source": [
    "# for d in zip(predicted, np.array(test_labels)):\n",
    "#     print('Predicted:{}, ground truth:{}'.format(d[0], d[1]))"
   ]
  },
  {
   "cell_type": "code",
   "execution_count": null,
   "metadata": {},
   "outputs": [],
   "source": []
  }
 ],
 "metadata": {
  "kernelspec": {
   "display_name": "Python 3",
   "language": "python",
   "name": "python3"
  },
  "language_info": {
   "codemirror_mode": {
    "name": "ipython",
    "version": 3
   },
   "file_extension": ".py",
   "mimetype": "text/x-python",
   "name": "python",
   "nbconvert_exporter": "python",
   "pygments_lexer": "ipython3",
   "version": "3.6.6"
  }
 },
 "nbformat": 4,
 "nbformat_minor": 2
}
