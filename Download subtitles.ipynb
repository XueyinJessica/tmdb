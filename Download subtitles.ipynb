{
 "cells": [
  {
   "cell_type": "code",
   "execution_count": 1,
   "metadata": {},
   "outputs": [],
   "source": [
    "import os\n",
    "import pandas as pd\n",
    "import subliminal\n",
    "from babelfish import Language\n",
    "from subliminal import Video\n",
    "from tqdm import tqdm\n",
    "from glob import glob"
   ]
  },
  {
   "cell_type": "code",
   "execution_count": 2,
   "metadata": {},
   "outputs": [],
   "source": [
    "df = pd.read_csv('dataset/tmdb_5000_movies.csv')\n",
    "# filter only US movies\n",
    "df = df[df.production_countries.str.contains(\"United States of America\")]\n",
    "df = df.sort_values(by='release_date', ascending=False)\n",
    "df = df.reset_index(drop=True)"
   ]
  },
  {
   "cell_type": "code",
   "execution_count": 3,
   "metadata": {},
   "outputs": [],
   "source": [
    "os.makedirs(\"dataset/subtitles\", exist_ok=True)"
   ]
  },
  {
   "cell_type": "code",
   "execution_count": null,
   "metadata": {},
   "outputs": [],
   "source": [
    "for i, row in tqdm(df.iterrows(), total=df.shape[0]):\n",
    "    if len(glob(\"dataset/subtitles/{}.*\".format(row.title))) == 0: # file doesn't exist yet\n",
    "        print(row.id, row.title)\n",
    "        video = Video.fromname('{}.mkv'.format(row.title))\n",
    "        print(video)\n",
    "        assert isinstance(video, subliminal.video.Movie)\n",
    "        best_subtitles = subliminal.download_best_subtitles([video], {Language('eng')})\n",
    "        best_subtitle = best_subtitles[video][0]\n",
    "        subliminal.save_subtitles(video, [best_subtitle], directory=\"subtitles\")\n",
    "        print()"
   ]
  }
 ],
 "metadata": {
  "kernelspec": {
   "display_name": "Python 3",
   "language": "python",
   "name": "python3"
  },
  "language_info": {
   "codemirror_mode": {
    "name": "ipython",
    "version": 3
   },
   "file_extension": ".py",
   "mimetype": "text/x-python",
   "name": "python",
   "nbconvert_exporter": "python",
   "pygments_lexer": "ipython3",
   "version": "3.6.6"
  }
 },
 "nbformat": 4,
 "nbformat_minor": 2
}
