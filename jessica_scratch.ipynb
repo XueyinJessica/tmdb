{
 "cells": [
  {
   "cell_type": "code",
   "execution_count": 17,
   "metadata": {},
   "outputs": [],
   "source": [
    "import pandas as pd\n",
    "import numpy as np\n",
    "import json\n",
    "from IPython.display import Image\n",
    "from sklearn.model_selection import train_test_split\n",
    "from sklearn.feature_extraction.text import CountVectorizer\n",
    "from sklearn.feature_extraction.text import TfidfVectorizer\n",
    "from sklearn.naive_bayes import MultinomialNB\n",
    "from sklearn.metrics import accuracy_score\n",
    "from sklearn.multiclass import OneVsRestClassifier"
   ]
  },
  {
   "cell_type": "code",
   "execution_count": 18,
   "metadata": {},
   "outputs": [],
   "source": [
    "df = pd.read_csv('/Users/shijialiang/data/tmdb_5000_movies.csv')"
   ]
  },
  {
   "cell_type": "code",
   "execution_count": 19,
   "metadata": {},
   "outputs": [],
   "source": [
    "#only US movies\n",
    "usmovieindex = []\n",
    "for i in range(len(df.production_countries)):\n",
    "    row = json.loads(df.production_countries[i])\n",
    "    for j in range(len(row)):\n",
    "        if row[j]['iso_3166_1'] == 'US':\n",
    "            usmovieindex.append(i)\n",
    "usmovie = df.iloc[usmovieindex]\n",
    "#overview = usmovie['overview']"
   ]
  },
  {
   "cell_type": "markdown",
   "metadata": {},
   "source": [
    "Back to the full dataset.\n",
    "\n",
    "We want to predict genres using overview, actor, etc.. In this particular case, it makes sense because TMDB data is user edited data. It is not given by experts or movie companies. This algorithm can help TMDB add labels to its film or predict whether their users' contribution makes sense."
   ]
  },
  {
   "cell_type": "code",
   "execution_count": null,
   "metadata": {},
   "outputs": [],
   "source": [
    "# photo: everyone can add label to a movie\n",
    "Image(filename = \"edit_genres.jpg\", width=400, height=400)"
   ]
  },
  {
   "cell_type": "code",
   "execution_count": null,
   "metadata": {},
   "outputs": [],
   "source": [
    "overview = df['overview'].astype(str)"
   ]
  },
  {
   "cell_type": "code",
   "execution_count": null,
   "metadata": {},
   "outputs": [],
   "source": [
    "def fit_model():\n",
    "    \"Fit your single best model, returning model and accuracy.\"\n",
    "\n",
    "    # Example solution; Replace with your solution\n",
    "    from sklearn.naive_bayes import MultinomialNB\n",
    "    from sklearn.feature_extraction.text import TfidfVectorizer\n",
    "    vectorizer = TfidfVectorizer(stop_words='english',binary=True, ngram_range=(1, 2),min_df=0.001)\n",
    "    train_features = vectorizer.fit_transform(train_data)\n",
    "    test_features = vectorizer.transform(test_data)\n",
    "    \n",
    "    model = MultinomialNB()\n",
    "    model.fit(train_features, train_target)\n",
    "    predicted = model.predict(test_features)\n",
    "    \n",
    "    return model, accuracy_score(predicted, test_target)"
   ]
  },
  {
   "cell_type": "code",
   "execution_count": null,
   "metadata": {},
   "outputs": [],
   "source": [
    "def returnlabel(dfcolumn,varname,targetvar):\n",
    "    usmovieindex = []\n",
    "    for i in range(len(dfcolumn)):\n",
    "        row = json.loads(dfcolumn[i])\n",
    "        for j in range(len(row)):\n",
    "            if row[j][varname] == targetvar:\n",
    "                usmovieindex.append(i)\n",
    "    return usmovieindex"
   ]
  },
  {
   "cell_type": "markdown",
   "metadata": {},
   "source": [
    "One label"
   ]
  },
  {
   "cell_type": "code",
   "execution_count": null,
   "metadata": {},
   "outputs": [],
   "source": [
    "action = returnlabel(df.genres,'name','Action')\n",
    "labelaction = [0] * len(df.genres)\n",
    "for e in action:\n",
    "    labelaction[e] = 1\n",
    "train_data, test_data, train_target, test_target = train_test_split(overview,\n",
    "                                                                    labelaction)"
   ]
  },
  {
   "cell_type": "code",
   "execution_count": null,
   "metadata": {},
   "outputs": [],
   "source": [
    "model, accuracy = fit_model()\n",
    "accuracy"
   ]
  },
  {
   "cell_type": "code",
   "execution_count": null,
   "metadata": {},
   "outputs": [],
   "source": []
  },
  {
   "cell_type": "code",
   "execution_count": null,
   "metadata": {},
   "outputs": [],
   "source": [
    "adventure = returnlabel(df.genres,'name','Adventure')\n",
    "label_adventure = [0] * len(df.genres)\n",
    "for e in adventure:\n",
    "    label_adventure[e] = 1\n",
    "train_data, test_data, train_target, test_target = train_test_split(overview,\n",
    "                                                                    label_adventure)\n",
    "model, accuracy = fit_model()\n",
    "accuracy"
   ]
  },
  {
   "cell_type": "code",
   "execution_count": null,
   "metadata": {},
   "outputs": [],
   "source": []
  },
  {
   "cell_type": "code",
   "execution_count": null,
   "metadata": {},
   "outputs": [],
   "source": [
    "crime = returnlabel(df.genres,'name','Crime')\n",
    "label_crime = [0] * len(df.genres)\n",
    "for e in crime:\n",
    "    label_crime[e] = 1\n",
    "train_data, test_data, train_target, test_target = train_test_split(overview,\n",
    "                                                                    label_crime)\n",
    "model, accuracy = fit_model()\n",
    "accuracy"
   ]
  },
  {
   "cell_type": "markdown",
   "metadata": {},
   "source": [
    "Multi label -- testing 3 genres\n"
   ]
  },
  {
   "cell_type": "code",
   "execution_count": null,
   "metadata": {},
   "outputs": [],
   "source": [
    "indicator_matrix = np.array([labelaction,label_adventure,label_crime]).transpose()"
   ]
  },
  {
   "cell_type": "code",
   "execution_count": null,
   "metadata": {},
   "outputs": [],
   "source": [
    "train_data, test_data, train_target, test_target = train_test_split(overview,\n",
    "                                                                    indicator_matrix)"
   ]
  },
  {
   "cell_type": "code",
   "execution_count": null,
   "metadata": {},
   "outputs": [],
   "source": [
    "vectorizer = TfidfVectorizer(stop_words='english',binary=True, ngram_range=(1, 2),min_df=0.001)\n",
    "train_features = vectorizer.fit_transform(train_data)\n",
    "test_features = vectorizer.transform(test_data)"
   ]
  },
  {
   "cell_type": "code",
   "execution_count": null,
   "metadata": {},
   "outputs": [],
   "source": [
    "from sklearn.multiclass import OneVsRestClassifier\n",
    "model = MultinomialNB()\n",
    "mult_model = OneVsRestClassifier(model)\n",
    "mult_model.fit(train_features, train_target)\n",
    "predicted = mult_model.predict(test_features)"
   ]
  },
  {
   "cell_type": "code",
   "execution_count": null,
   "metadata": {},
   "outputs": [],
   "source": [
    "accuracy_score(predicted, test_target)"
   ]
  },
  {
   "cell_type": "code",
   "execution_count": null,
   "metadata": {},
   "outputs": [],
   "source": []
  }
 ],
 "metadata": {
  "kernelspec": {
   "display_name": "Python 3",
   "language": "python",
   "name": "python3"
  },
  "language_info": {
   "codemirror_mode": {
    "name": "ipython",
    "version": 3
   },
   "file_extension": ".py",
   "mimetype": "text/x-python",
   "name": "python",
   "nbconvert_exporter": "python",
   "pygments_lexer": "ipython3",
   "version": "3.6.5"
  }
 },
 "nbformat": 4,
 "nbformat_minor": 2
}
