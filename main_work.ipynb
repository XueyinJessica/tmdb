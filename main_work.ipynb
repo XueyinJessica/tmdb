{
 "cells": [
  {
   "cell_type": "code",
   "execution_count": 47,
   "metadata": {},
   "outputs": [],
   "source": [
    "from glob import glob\n",
    "import pandas as pd\n",
    "import numpy as np\n",
    "import os\n",
    "import json\n",
    "from collections import defaultdict"
   ]
  },
  {
   "cell_type": "markdown",
   "metadata": {},
   "source": [
    "# 1. Data pre-processing"
   ]
  },
  {
   "cell_type": "code",
   "execution_count": 48,
   "metadata": {},
   "outputs": [],
   "source": [
    "# df_movies = pd.read_csv('dataset/tmdb_5000_movies.csv')\n",
    "# df_movies = df_movies.dropna(subset=['overview', 'release_date', 'runtime'])\n",
    "# df_movies.isnull().sum()\n",
    "# df_movies.to_csv(\"dataset/tmdb_5000_movies_nonull.csv\")"
   ]
  },
  {
   "cell_type": "markdown",
   "metadata": {},
   "source": [
    "### Load two datasets and merge them by movie_id"
   ]
  },
  {
   "cell_type": "code",
   "execution_count": 49,
   "metadata": {
    "scrolled": true
   },
   "outputs": [],
   "source": [
    "df = pd.read_csv('dataset/tmdb_5000_movies_nonull.csv')\n",
    "# df_movies.loc[:,['id', 'keywords', 'genres', 'title']]\n",
    "df_credits = pd.read_csv('dataset/tmdb_5000_credits.csv')\n",
    "credits_sub = df_credits.loc[:, ['movie_id', 'cast']].rename(columns={\n",
    "                                                             'movie_id': 'id'})\n",
    "\n",
    "df = df[['id', 'budget', 'genres', 'keywords', 'original_language',\n",
    "         'overview', 'popularity', 'production_companies',\n",
    "         'production_countries', 'release_date', 'revenue', 'runtime',\n",
    "         'spoken_languages', 'tagline', 'title', 'vote_average', 'vote_count']]\n",
    "df = df.merge(credits_sub)\n",
    "\n",
    "# df.sort_values(by='release_date', ascending=False).head(10)"
   ]
  },
  {
   "cell_type": "markdown",
   "metadata": {},
   "source": [
    "### Drop movies with no genres information"
   ]
  },
  {
   "cell_type": "code",
   "execution_count": 50,
   "metadata": {},
   "outputs": [],
   "source": [
    "# drop movies with no genre info\n",
    "for i, row in df.iterrows():\n",
    "    if row['genres'] == '[]':\n",
    "        df.drop(i, inplace=True)\n",
    "df = df.dropna()"
   ]
  },
  {
   "cell_type": "markdown",
   "metadata": {},
   "source": [
    "### Column transformation\n",
    "\n",
    "**Steps:**  \n",
    "+ Filter columns with specific filtering values\n",
    "+ Convert json-format cells to list\n",
    "+ Extract cast gender and calculate the proportion of female cast and male cast for each movie"
   ]
  },
  {
   "cell_type": "code",
   "execution_count": 51,
   "metadata": {},
   "outputs": [],
   "source": [
    "def convert_list(cell):\n",
    "    \"\"\"convert the json format to a list of categories\"\"\"\n",
    "    kw_list = []\n",
    "    for kw in json.loads(cell):\n",
    "        kw_list.append(kw['name'])\n",
    "    return kw_list\n",
    "\n",
    "\n",
    "def larger_n(col, n):\n",
    "    \"\"\"filter the column\"\"\"\n",
    "    keywords = defaultdict(int)\n",
    "    for row in df[col]:\n",
    "        row = json.loads(row)\n",
    "        for entry in row:\n",
    "            keywords[entry['name']] += 1\n",
    "    kw_cnt = sorted(keywords.items(), key=lambda x: -x[1])\n",
    "    return [kw[0] for kw in kw_cnt if kw[1] >= n]\n",
    "\n",
    "\n",
    "def extract_gender(cell):\n",
    "    \"\"\"Extract cast gender\"\"\"\n",
    "    female = 0\n",
    "    male = 0\n",
    "    for item in json.loads(cell):\n",
    "        if item['gender'] == 1:\n",
    "            female += 1\n",
    "        elif item['gender'] == 2:\n",
    "            male += 1\n",
    "        else:\n",
    "            continue\n",
    "    return female, male\n",
    "\n",
    "\n",
    "def concat_names(cell):\n",
    "    \"\"\"Concatenate first names and last names\"\"\"\n",
    "    names = []\n",
    "    for name in cell:\n",
    "        names.append(name.replace(' ', ''))\n",
    "    return names\n",
    "\n",
    "\n",
    "def list2str(cell):\n",
    "    \"\"\"Convert list to string\"\"\"\n",
    "    return ' '.join(cell)\n",
    "\n",
    "\n",
    "def transform_cols(df, cols_to_transform):\n",
    "    \"\"\"Transform columns of a dataframe.\n",
    "    cols_to_transform should be a dict(col_name: filter value n)\n",
    "    \"\"\"\n",
    "    for col_name in cols_to_transform.keys():\n",
    "        larger_col = larger_n(col_name, cols_to_transform[col_name])\n",
    "        if col_name == 'cast':\n",
    "            gen = df[col_name].apply(extract_gender)\n",
    "            df['female_pct'] = gen.apply(lambda x: x[0]/(x[0]+x[1]+0.001))\n",
    "            df['male_pct'] = gen.apply(lambda x: x[1]/(x[0]+x[1]+0.001))\n",
    "\n",
    "        df[col_name] = df[col_name].apply(convert_list)\\\n",
    "            .apply(lambda cell: [kw for kw in cell if kw in larger_col])\n",
    "    return df"
   ]
  },
  {
   "cell_type": "code",
   "execution_count": 52,
   "metadata": {},
   "outputs": [],
   "source": [
    "cols_to_transform = {'keywords': 30,\n",
    "                     'genres': 0,\n",
    "                     'production_companies': 5,\n",
    "                     'production_countries': 3,\n",
    "                     'spoken_languages': 10,\n",
    "                     'cast': 2}\n",
    "\n",
    "df_movies = transform_cols(df, cols_to_transform)"
   ]
  },
  {
   "cell_type": "code",
   "execution_count": 53,
   "metadata": {
    "scrolled": true
   },
   "outputs": [
    {
     "data": {
      "text/html": [
       "<div>\n",
       "<style scoped>\n",
       "    .dataframe tbody tr th:only-of-type {\n",
       "        vertical-align: middle;\n",
       "    }\n",
       "\n",
       "    .dataframe tbody tr th {\n",
       "        vertical-align: top;\n",
       "    }\n",
       "\n",
       "    .dataframe thead th {\n",
       "        text-align: right;\n",
       "    }\n",
       "</style>\n",
       "<table border=\"1\" class=\"dataframe\">\n",
       "  <thead>\n",
       "    <tr style=\"text-align: right;\">\n",
       "      <th></th>\n",
       "      <th>id</th>\n",
       "      <th>budget</th>\n",
       "      <th>genres</th>\n",
       "      <th>keywords</th>\n",
       "      <th>original_language</th>\n",
       "      <th>overview</th>\n",
       "      <th>popularity</th>\n",
       "      <th>production_companies</th>\n",
       "      <th>production_countries</th>\n",
       "      <th>release_date</th>\n",
       "      <th>revenue</th>\n",
       "      <th>runtime</th>\n",
       "      <th>spoken_languages</th>\n",
       "      <th>tagline</th>\n",
       "      <th>title</th>\n",
       "      <th>vote_average</th>\n",
       "      <th>vote_count</th>\n",
       "      <th>cast</th>\n",
       "      <th>female_pct</th>\n",
       "      <th>male_pct</th>\n",
       "    </tr>\n",
       "  </thead>\n",
       "  <tbody>\n",
       "    <tr>\n",
       "      <th>0</th>\n",
       "      <td>19995</td>\n",
       "      <td>237000000</td>\n",
       "      <td>[Action, Adventure, Fantasy, Science Fiction]</td>\n",
       "      <td>[future, alien, soldier, 3d]</td>\n",
       "      <td>en</td>\n",
       "      <td>In the 22nd century, a paraplegic Marine is di...</td>\n",
       "      <td>150.437577</td>\n",
       "      <td>[Ingenious Film Partners, Twentieth Century Fo...</td>\n",
       "      <td>[United States of America, United Kingdom]</td>\n",
       "      <td>2009-12-10</td>\n",
       "      <td>2787965087</td>\n",
       "      <td>162.0</td>\n",
       "      <td>[English, Español]</td>\n",
       "      <td>Enter the World of Pandora.</td>\n",
       "      <td>Avatar</td>\n",
       "      <td>7.2</td>\n",
       "      <td>11800</td>\n",
       "      <td>[Sam Worthington, Zoe Saldana, Sigourney Weave...</td>\n",
       "      <td>0.374988</td>\n",
       "      <td>0.624980</td>\n",
       "    </tr>\n",
       "    <tr>\n",
       "      <th>1</th>\n",
       "      <td>285</td>\n",
       "      <td>300000000</td>\n",
       "      <td>[Adventure, Fantasy, Action]</td>\n",
       "      <td>[love of one's life, aftercreditsstinger]</td>\n",
       "      <td>en</td>\n",
       "      <td>Captain Barbossa, long believed to be dead, ha...</td>\n",
       "      <td>139.082615</td>\n",
       "      <td>[Walt Disney Pictures, Jerry Bruckheimer Films]</td>\n",
       "      <td>[United States of America]</td>\n",
       "      <td>2007-05-19</td>\n",
       "      <td>961000000</td>\n",
       "      <td>169.0</td>\n",
       "      <td>[English]</td>\n",
       "      <td>At the end of the world, the adventure begins.</td>\n",
       "      <td>Pirates of the Caribbean: At World's End</td>\n",
       "      <td>6.9</td>\n",
       "      <td>4500</td>\n",
       "      <td>[Johnny Depp, Orlando Bloom, Keira Knightley, ...</td>\n",
       "      <td>0.166661</td>\n",
       "      <td>0.833306</td>\n",
       "    </tr>\n",
       "    <tr>\n",
       "      <th>2</th>\n",
       "      <td>206647</td>\n",
       "      <td>245000000</td>\n",
       "      <td>[Action, Adventure, Crime]</td>\n",
       "      <td>[spy, based on novel, sequel]</td>\n",
       "      <td>en</td>\n",
       "      <td>A cryptic message from Bond’s past sends him o...</td>\n",
       "      <td>107.376788</td>\n",
       "      <td>[Columbia Pictures, Danjaq]</td>\n",
       "      <td>[United Kingdom, United States of America]</td>\n",
       "      <td>2015-10-26</td>\n",
       "      <td>880674609</td>\n",
       "      <td>148.0</td>\n",
       "      <td>[Français, English, Español, Italiano, Deutsch]</td>\n",
       "      <td>A Plan No One Escapes</td>\n",
       "      <td>Spectre</td>\n",
       "      <td>6.3</td>\n",
       "      <td>4466</td>\n",
       "      <td>[Daniel Craig, Christoph Waltz, Léa Seydoux, R...</td>\n",
       "      <td>0.191174</td>\n",
       "      <td>0.808812</td>\n",
       "    </tr>\n",
       "    <tr>\n",
       "      <th>3</th>\n",
       "      <td>49026</td>\n",
       "      <td>250000000</td>\n",
       "      <td>[Action, Crime, Drama, Thriller]</td>\n",
       "      <td>[terrorist, secret identity, superhero]</td>\n",
       "      <td>en</td>\n",
       "      <td>Following the death of District Attorney Harve...</td>\n",
       "      <td>112.312950</td>\n",
       "      <td>[Legendary Pictures, Warner Bros., DC Entertai...</td>\n",
       "      <td>[United States of America]</td>\n",
       "      <td>2012-07-16</td>\n",
       "      <td>1084939099</td>\n",
       "      <td>165.0</td>\n",
       "      <td>[English]</td>\n",
       "      <td>The Legend Ends</td>\n",
       "      <td>The Dark Knight Rises</td>\n",
       "      <td>7.6</td>\n",
       "      <td>9106</td>\n",
       "      <td>[Christian Bale, Michael Caine, Gary Oldman, A...</td>\n",
       "      <td>0.130951</td>\n",
       "      <td>0.869037</td>\n",
       "    </tr>\n",
       "    <tr>\n",
       "      <th>4</th>\n",
       "      <td>49529</td>\n",
       "      <td>260000000</td>\n",
       "      <td>[Action, Adventure, Science Fiction]</td>\n",
       "      <td>[based on novel, alien, escape, 3d]</td>\n",
       "      <td>en</td>\n",
       "      <td>John Carter is a war-weary, former military ca...</td>\n",
       "      <td>43.926995</td>\n",
       "      <td>[Walt Disney Pictures]</td>\n",
       "      <td>[United States of America]</td>\n",
       "      <td>2012-03-07</td>\n",
       "      <td>284139100</td>\n",
       "      <td>132.0</td>\n",
       "      <td>[English]</td>\n",
       "      <td>Lost in our world, found in another.</td>\n",
       "      <td>John Carter</td>\n",
       "      <td>6.1</td>\n",
       "      <td>2124</td>\n",
       "      <td>[Taylor Kitsch, Lynn Collins, Samantha Morton,...</td>\n",
       "      <td>0.239990</td>\n",
       "      <td>0.759970</td>\n",
       "    </tr>\n",
       "    <tr>\n",
       "      <th>5</th>\n",
       "      <td>559</td>\n",
       "      <td>258000000</td>\n",
       "      <td>[Fantasy, Action, Adventure]</td>\n",
       "      <td>[love of one's life, marvel comic, sequel, sup...</td>\n",
       "      <td>en</td>\n",
       "      <td>The seemingly invincible Spider-Man goes up ag...</td>\n",
       "      <td>115.699814</td>\n",
       "      <td>[Columbia Pictures, Laura Ziskin Productions, ...</td>\n",
       "      <td>[United States of America]</td>\n",
       "      <td>2007-05-01</td>\n",
       "      <td>890871626</td>\n",
       "      <td>139.0</td>\n",
       "      <td>[English, Français]</td>\n",
       "      <td>The battle within.</td>\n",
       "      <td>Spider-Man 3</td>\n",
       "      <td>5.9</td>\n",
       "      <td>3576</td>\n",
       "      <td>[Tobey Maguire, Kirsten Dunst, James Franco, T...</td>\n",
       "      <td>0.629206</td>\n",
       "      <td>0.370782</td>\n",
       "    </tr>\n",
       "    <tr>\n",
       "      <th>6</th>\n",
       "      <td>38757</td>\n",
       "      <td>260000000</td>\n",
       "      <td>[Animation, Family]</td>\n",
       "      <td>[magic, musical, duringcreditsstinger]</td>\n",
       "      <td>en</td>\n",
       "      <td>When the kingdom's most wanted-and most charmi...</td>\n",
       "      <td>48.681969</td>\n",
       "      <td>[Walt Disney Pictures, Walt Disney Animation S...</td>\n",
       "      <td>[United States of America]</td>\n",
       "      <td>2010-11-24</td>\n",
       "      <td>591794936</td>\n",
       "      <td>100.0</td>\n",
       "      <td>[English]</td>\n",
       "      <td>They're taking adventure to new lengths.</td>\n",
       "      <td>Tangled</td>\n",
       "      <td>7.4</td>\n",
       "      <td>3330</td>\n",
       "      <td>[Zachary Levi, Mandy Moore, Donna Murphy, Ron ...</td>\n",
       "      <td>0.199980</td>\n",
       "      <td>0.799920</td>\n",
       "    </tr>\n",
       "    <tr>\n",
       "      <th>7</th>\n",
       "      <td>99861</td>\n",
       "      <td>280000000</td>\n",
       "      <td>[Action, Adventure, Science Fiction]</td>\n",
       "      <td>[marvel comic, sequel, superhero, based on com...</td>\n",
       "      <td>en</td>\n",
       "      <td>When Tony Stark tries to jumpstart a dormant p...</td>\n",
       "      <td>134.279229</td>\n",
       "      <td>[Marvel Studios, Revolution Sun Studios]</td>\n",
       "      <td>[United States of America]</td>\n",
       "      <td>2015-04-22</td>\n",
       "      <td>1405403694</td>\n",
       "      <td>141.0</td>\n",
       "      <td>[English]</td>\n",
       "      <td>A New Age Has Come.</td>\n",
       "      <td>Avengers: Age of Ultron</td>\n",
       "      <td>7.3</td>\n",
       "      <td>6767</td>\n",
       "      <td>[Robert Downey Jr., Chris Hemsworth, Mark Ruff...</td>\n",
       "      <td>0.333323</td>\n",
       "      <td>0.666646</td>\n",
       "    </tr>\n",
       "    <tr>\n",
       "      <th>8</th>\n",
       "      <td>767</td>\n",
       "      <td>250000000</td>\n",
       "      <td>[Adventure, Fantasy, Family]</td>\n",
       "      <td>[witch, magic]</td>\n",
       "      <td>en</td>\n",
       "      <td>As Harry begins his sixth year at Hogwarts, he...</td>\n",
       "      <td>98.885637</td>\n",
       "      <td>[Warner Bros., Heyday Films]</td>\n",
       "      <td>[United Kingdom, United States of America]</td>\n",
       "      <td>2009-07-07</td>\n",
       "      <td>933959197</td>\n",
       "      <td>153.0</td>\n",
       "      <td>[English]</td>\n",
       "      <td>Dark Secrets Revealed</td>\n",
       "      <td>Harry Potter and the Half-Blood Prince</td>\n",
       "      <td>7.4</td>\n",
       "      <td>5293</td>\n",
       "      <td>[Daniel Radcliffe, Rupert Grint, Emma Watson, ...</td>\n",
       "      <td>0.414624</td>\n",
       "      <td>0.585352</td>\n",
       "    </tr>\n",
       "    <tr>\n",
       "      <th>9</th>\n",
       "      <td>209112</td>\n",
       "      <td>250000000</td>\n",
       "      <td>[Action, Adventure, Fantasy]</td>\n",
       "      <td>[superhero, based on comic book, revenge]</td>\n",
       "      <td>en</td>\n",
       "      <td>Fearing the actions of a god-like Super Hero l...</td>\n",
       "      <td>155.790452</td>\n",
       "      <td>[DC Comics, Atlas Entertainment, Warner Bros.,...</td>\n",
       "      <td>[United States of America]</td>\n",
       "      <td>2016-03-23</td>\n",
       "      <td>873260194</td>\n",
       "      <td>151.0</td>\n",
       "      <td>[English]</td>\n",
       "      <td>Justice or revenge</td>\n",
       "      <td>Batman v Superman: Dawn of Justice</td>\n",
       "      <td>5.7</td>\n",
       "      <td>7004</td>\n",
       "      <td>[Ben Affleck, Henry Cavill, Gal Gadot, Amy Ada...</td>\n",
       "      <td>0.322578</td>\n",
       "      <td>0.677414</td>\n",
       "    </tr>\n",
       "  </tbody>\n",
       "</table>\n",
       "</div>"
      ],
      "text/plain": [
       "       id     budget                                         genres  \\\n",
       "0   19995  237000000  [Action, Adventure, Fantasy, Science Fiction]   \n",
       "1     285  300000000                   [Adventure, Fantasy, Action]   \n",
       "2  206647  245000000                     [Action, Adventure, Crime]   \n",
       "3   49026  250000000               [Action, Crime, Drama, Thriller]   \n",
       "4   49529  260000000           [Action, Adventure, Science Fiction]   \n",
       "5     559  258000000                   [Fantasy, Action, Adventure]   \n",
       "6   38757  260000000                            [Animation, Family]   \n",
       "7   99861  280000000           [Action, Adventure, Science Fiction]   \n",
       "8     767  250000000                   [Adventure, Fantasy, Family]   \n",
       "9  209112  250000000                   [Action, Adventure, Fantasy]   \n",
       "\n",
       "                                            keywords original_language  \\\n",
       "0                       [future, alien, soldier, 3d]                en   \n",
       "1          [love of one's life, aftercreditsstinger]                en   \n",
       "2                      [spy, based on novel, sequel]                en   \n",
       "3            [terrorist, secret identity, superhero]                en   \n",
       "4                [based on novel, alien, escape, 3d]                en   \n",
       "5  [love of one's life, marvel comic, sequel, sup...                en   \n",
       "6             [magic, musical, duringcreditsstinger]                en   \n",
       "7  [marvel comic, sequel, superhero, based on com...                en   \n",
       "8                                     [witch, magic]                en   \n",
       "9          [superhero, based on comic book, revenge]                en   \n",
       "\n",
       "                                            overview  popularity  \\\n",
       "0  In the 22nd century, a paraplegic Marine is di...  150.437577   \n",
       "1  Captain Barbossa, long believed to be dead, ha...  139.082615   \n",
       "2  A cryptic message from Bond’s past sends him o...  107.376788   \n",
       "3  Following the death of District Attorney Harve...  112.312950   \n",
       "4  John Carter is a war-weary, former military ca...   43.926995   \n",
       "5  The seemingly invincible Spider-Man goes up ag...  115.699814   \n",
       "6  When the kingdom's most wanted-and most charmi...   48.681969   \n",
       "7  When Tony Stark tries to jumpstart a dormant p...  134.279229   \n",
       "8  As Harry begins his sixth year at Hogwarts, he...   98.885637   \n",
       "9  Fearing the actions of a god-like Super Hero l...  155.790452   \n",
       "\n",
       "                                production_companies  \\\n",
       "0  [Ingenious Film Partners, Twentieth Century Fo...   \n",
       "1    [Walt Disney Pictures, Jerry Bruckheimer Films]   \n",
       "2                        [Columbia Pictures, Danjaq]   \n",
       "3  [Legendary Pictures, Warner Bros., DC Entertai...   \n",
       "4                             [Walt Disney Pictures]   \n",
       "5  [Columbia Pictures, Laura Ziskin Productions, ...   \n",
       "6  [Walt Disney Pictures, Walt Disney Animation S...   \n",
       "7           [Marvel Studios, Revolution Sun Studios]   \n",
       "8                       [Warner Bros., Heyday Films]   \n",
       "9  [DC Comics, Atlas Entertainment, Warner Bros.,...   \n",
       "\n",
       "                         production_countries release_date     revenue  \\\n",
       "0  [United States of America, United Kingdom]   2009-12-10  2787965087   \n",
       "1                  [United States of America]   2007-05-19   961000000   \n",
       "2  [United Kingdom, United States of America]   2015-10-26   880674609   \n",
       "3                  [United States of America]   2012-07-16  1084939099   \n",
       "4                  [United States of America]   2012-03-07   284139100   \n",
       "5                  [United States of America]   2007-05-01   890871626   \n",
       "6                  [United States of America]   2010-11-24   591794936   \n",
       "7                  [United States of America]   2015-04-22  1405403694   \n",
       "8  [United Kingdom, United States of America]   2009-07-07   933959197   \n",
       "9                  [United States of America]   2016-03-23   873260194   \n",
       "\n",
       "   runtime                                 spoken_languages  \\\n",
       "0    162.0                               [English, Español]   \n",
       "1    169.0                                        [English]   \n",
       "2    148.0  [Français, English, Español, Italiano, Deutsch]   \n",
       "3    165.0                                        [English]   \n",
       "4    132.0                                        [English]   \n",
       "5    139.0                              [English, Français]   \n",
       "6    100.0                                        [English]   \n",
       "7    141.0                                        [English]   \n",
       "8    153.0                                        [English]   \n",
       "9    151.0                                        [English]   \n",
       "\n",
       "                                          tagline  \\\n",
       "0                     Enter the World of Pandora.   \n",
       "1  At the end of the world, the adventure begins.   \n",
       "2                           A Plan No One Escapes   \n",
       "3                                 The Legend Ends   \n",
       "4            Lost in our world, found in another.   \n",
       "5                              The battle within.   \n",
       "6        They're taking adventure to new lengths.   \n",
       "7                             A New Age Has Come.   \n",
       "8                           Dark Secrets Revealed   \n",
       "9                              Justice or revenge   \n",
       "\n",
       "                                      title  vote_average  vote_count  \\\n",
       "0                                    Avatar           7.2       11800   \n",
       "1  Pirates of the Caribbean: At World's End           6.9        4500   \n",
       "2                                   Spectre           6.3        4466   \n",
       "3                     The Dark Knight Rises           7.6        9106   \n",
       "4                               John Carter           6.1        2124   \n",
       "5                              Spider-Man 3           5.9        3576   \n",
       "6                                   Tangled           7.4        3330   \n",
       "7                   Avengers: Age of Ultron           7.3        6767   \n",
       "8    Harry Potter and the Half-Blood Prince           7.4        5293   \n",
       "9        Batman v Superman: Dawn of Justice           5.7        7004   \n",
       "\n",
       "                                                cast  female_pct  male_pct  \n",
       "0  [Sam Worthington, Zoe Saldana, Sigourney Weave...    0.374988  0.624980  \n",
       "1  [Johnny Depp, Orlando Bloom, Keira Knightley, ...    0.166661  0.833306  \n",
       "2  [Daniel Craig, Christoph Waltz, Léa Seydoux, R...    0.191174  0.808812  \n",
       "3  [Christian Bale, Michael Caine, Gary Oldman, A...    0.130951  0.869037  \n",
       "4  [Taylor Kitsch, Lynn Collins, Samantha Morton,...    0.239990  0.759970  \n",
       "5  [Tobey Maguire, Kirsten Dunst, James Franco, T...    0.629206  0.370782  \n",
       "6  [Zachary Levi, Mandy Moore, Donna Murphy, Ron ...    0.199980  0.799920  \n",
       "7  [Robert Downey Jr., Chris Hemsworth, Mark Ruff...    0.333323  0.666646  \n",
       "8  [Daniel Radcliffe, Rupert Grint, Emma Watson, ...    0.414624  0.585352  \n",
       "9  [Ben Affleck, Henry Cavill, Gal Gadot, Amy Ada...    0.322578  0.677414  "
      ]
     },
     "execution_count": 53,
     "metadata": {},
     "output_type": "execute_result"
    }
   ],
   "source": [
    "df_movies = df_movies.reset_index(drop=True)\n",
    "df_movies.head(10)"
   ]
  },
  {
   "cell_type": "markdown",
   "metadata": {},
   "source": [
    "# 2. Feature Engineering"
   ]
  },
  {
   "cell_type": "markdown",
   "metadata": {},
   "source": [
    "### Runtime - drop 0 runtime"
   ]
  },
  {
   "cell_type": "code",
   "execution_count": 54,
   "metadata": {},
   "outputs": [
    {
     "data": {
      "text/html": [
       "<div>\n",
       "<style scoped>\n",
       "    .dataframe tbody tr th:only-of-type {\n",
       "        vertical-align: middle;\n",
       "    }\n",
       "\n",
       "    .dataframe tbody tr th {\n",
       "        vertical-align: top;\n",
       "    }\n",
       "\n",
       "    .dataframe thead th {\n",
       "        text-align: right;\n",
       "    }\n",
       "</style>\n",
       "<table border=\"1\" class=\"dataframe\">\n",
       "  <thead>\n",
       "    <tr style=\"text-align: right;\">\n",
       "      <th></th>\n",
       "      <th>id</th>\n",
       "      <th>budget</th>\n",
       "      <th>genres</th>\n",
       "      <th>keywords</th>\n",
       "      <th>original_language</th>\n",
       "      <th>overview</th>\n",
       "      <th>popularity</th>\n",
       "      <th>production_companies</th>\n",
       "      <th>production_countries</th>\n",
       "      <th>release_date</th>\n",
       "      <th>revenue</th>\n",
       "      <th>runtime</th>\n",
       "      <th>spoken_languages</th>\n",
       "      <th>tagline</th>\n",
       "      <th>title</th>\n",
       "      <th>vote_average</th>\n",
       "      <th>vote_count</th>\n",
       "      <th>cast</th>\n",
       "      <th>female_pct</th>\n",
       "      <th>male_pct</th>\n",
       "    </tr>\n",
       "  </thead>\n",
       "  <tbody>\n",
       "    <tr>\n",
       "      <th>2805</th>\n",
       "      <td>41894</td>\n",
       "      <td>0</td>\n",
       "      <td>[Drama, Crime]</td>\n",
       "      <td>[]</td>\n",
       "      <td>en</td>\n",
       "      <td>A drama based on the true story in which a bla...</td>\n",
       "      <td>0.397341</td>\n",
       "      <td>[]</td>\n",
       "      <td>[]</td>\n",
       "      <td>2010-02-01</td>\n",
       "      <td>0</td>\n",
       "      <td>0.0</td>\n",
       "      <td>[]</td>\n",
       "      <td>No one changes the world alone.</td>\n",
       "      <td>Blood Done Sign My Name</td>\n",
       "      <td>6.0</td>\n",
       "      <td>5</td>\n",
       "      <td>[Michael Rooker, Emily Alyn Lind, Omar Benson ...</td>\n",
       "      <td>0.428510</td>\n",
       "      <td>0.571347</td>\n",
       "    </tr>\n",
       "    <tr>\n",
       "      <th>3234</th>\n",
       "      <td>113406</td>\n",
       "      <td>0</td>\n",
       "      <td>[Comedy, Drama]</td>\n",
       "      <td>[]</td>\n",
       "      <td>en</td>\n",
       "      <td>A self-centered, middle-aged pitchman for a po...</td>\n",
       "      <td>0.407030</td>\n",
       "      <td>[]</td>\n",
       "      <td>[United States of America]</td>\n",
       "      <td>2012-04-28</td>\n",
       "      <td>0</td>\n",
       "      <td>0.0</td>\n",
       "      <td>[English]</td>\n",
       "      <td>Even Shakespeare didn't see this one coming.</td>\n",
       "      <td>Should've Been Romeo</td>\n",
       "      <td>0.0</td>\n",
       "      <td>0</td>\n",
       "      <td>[Paul Ben-Victor, Ed Asner, Jordenn Thompson, ...</td>\n",
       "      <td>0.384586</td>\n",
       "      <td>0.615337</td>\n",
       "    </tr>\n",
       "    <tr>\n",
       "      <th>3633</th>\n",
       "      <td>51820</td>\n",
       "      <td>1500000</td>\n",
       "      <td>[Comedy]</td>\n",
       "      <td>[independent film]</td>\n",
       "      <td>en</td>\n",
       "      <td>A Beauty shop owner finds romance as she strug...</td>\n",
       "      <td>2.028170</td>\n",
       "      <td>[]</td>\n",
       "      <td>[]</td>\n",
       "      <td>2005-01-13</td>\n",
       "      <td>0</td>\n",
       "      <td>0.0</td>\n",
       "      <td>[English]</td>\n",
       "      <td>Where you get more than just a hair cut!</td>\n",
       "      <td>The Salon</td>\n",
       "      <td>3.5</td>\n",
       "      <td>1</td>\n",
       "      <td>[Dondre Whitfield, Kym Whitley, Monica Calhoun...</td>\n",
       "      <td>0.428510</td>\n",
       "      <td>0.571347</td>\n",
       "    </tr>\n",
       "    <tr>\n",
       "      <th>3674</th>\n",
       "      <td>107315</td>\n",
       "      <td>0</td>\n",
       "      <td>[Thriller, Horror]</td>\n",
       "      <td>[]</td>\n",
       "      <td>en</td>\n",
       "      <td>When Jack (Edward Furlong) is in danger of mis...</td>\n",
       "      <td>1.365140</td>\n",
       "      <td>[]</td>\n",
       "      <td>[Canada]</td>\n",
       "      <td>2011-10-22</td>\n",
       "      <td>0</td>\n",
       "      <td>0.0</td>\n",
       "      <td>[English]</td>\n",
       "      <td>There's nothing scarier than a blank page.</td>\n",
       "      <td>Below Zero</td>\n",
       "      <td>4.4</td>\n",
       "      <td>12</td>\n",
       "      <td>[Edward Furlong, Michael Berryman, Kristin Booth]</td>\n",
       "      <td>0.333222</td>\n",
       "      <td>0.666445</td>\n",
       "    </tr>\n",
       "    <tr>\n",
       "      <th>3684</th>\n",
       "      <td>202604</td>\n",
       "      <td>0</td>\n",
       "      <td>[Horror, Documentary, Mystery]</td>\n",
       "      <td>[]</td>\n",
       "      <td>en</td>\n",
       "      <td>Documentary following US film-maker Joe Marino...</td>\n",
       "      <td>0.447166</td>\n",
       "      <td>[]</td>\n",
       "      <td>[]</td>\n",
       "      <td>2013-05-29</td>\n",
       "      <td>0</td>\n",
       "      <td>0.0</td>\n",
       "      <td>[Italiano, English]</td>\n",
       "      <td>The public were never meant to know</td>\n",
       "      <td>The Vatican Exorcisms</td>\n",
       "      <td>4.4</td>\n",
       "      <td>11</td>\n",
       "      <td>[]</td>\n",
       "      <td>0.000000</td>\n",
       "      <td>0.000000</td>\n",
       "    </tr>\n",
       "    <tr>\n",
       "      <th>3824</th>\n",
       "      <td>285743</td>\n",
       "      <td>0</td>\n",
       "      <td>[Music, Horror]</td>\n",
       "      <td>[musical, sequel]</td>\n",
       "      <td>en</td>\n",
       "      <td>The Devil's Carnival: Alleluia! is the second ...</td>\n",
       "      <td>0.674398</td>\n",
       "      <td>[]</td>\n",
       "      <td>[United States of America]</td>\n",
       "      <td>2016-03-29</td>\n",
       "      <td>0</td>\n",
       "      <td>0.0</td>\n",
       "      <td>[]</td>\n",
       "      <td>Hell ain't got a prayer.</td>\n",
       "      <td>Alleluia! The Devil's Carnival</td>\n",
       "      <td>6.0</td>\n",
       "      <td>2</td>\n",
       "      <td>[Terrance Zdunich, Paul Sorvino, Nivek Ogre, A...</td>\n",
       "      <td>0.363603</td>\n",
       "      <td>0.636306</td>\n",
       "    </tr>\n",
       "  </tbody>\n",
       "</table>\n",
       "</div>"
      ],
      "text/plain": [
       "          id   budget                          genres            keywords  \\\n",
       "2805   41894        0                  [Drama, Crime]                  []   \n",
       "3234  113406        0                 [Comedy, Drama]                  []   \n",
       "3633   51820  1500000                        [Comedy]  [independent film]   \n",
       "3674  107315        0              [Thriller, Horror]                  []   \n",
       "3684  202604        0  [Horror, Documentary, Mystery]                  []   \n",
       "3824  285743        0                 [Music, Horror]   [musical, sequel]   \n",
       "\n",
       "     original_language                                           overview  \\\n",
       "2805                en  A drama based on the true story in which a bla...   \n",
       "3234                en  A self-centered, middle-aged pitchman for a po...   \n",
       "3633                en  A Beauty shop owner finds romance as she strug...   \n",
       "3674                en  When Jack (Edward Furlong) is in danger of mis...   \n",
       "3684                en  Documentary following US film-maker Joe Marino...   \n",
       "3824                en  The Devil's Carnival: Alleluia! is the second ...   \n",
       "\n",
       "      popularity production_companies        production_countries  \\\n",
       "2805    0.397341                   []                          []   \n",
       "3234    0.407030                   []  [United States of America]   \n",
       "3633    2.028170                   []                          []   \n",
       "3674    1.365140                   []                    [Canada]   \n",
       "3684    0.447166                   []                          []   \n",
       "3824    0.674398                   []  [United States of America]   \n",
       "\n",
       "     release_date  revenue  runtime     spoken_languages  \\\n",
       "2805   2010-02-01        0      0.0                   []   \n",
       "3234   2012-04-28        0      0.0            [English]   \n",
       "3633   2005-01-13        0      0.0            [English]   \n",
       "3674   2011-10-22        0      0.0            [English]   \n",
       "3684   2013-05-29        0      0.0  [Italiano, English]   \n",
       "3824   2016-03-29        0      0.0                   []   \n",
       "\n",
       "                                           tagline  \\\n",
       "2805               No one changes the world alone.   \n",
       "3234  Even Shakespeare didn't see this one coming.   \n",
       "3633      Where you get more than just a hair cut!   \n",
       "3674    There's nothing scarier than a blank page.   \n",
       "3684           The public were never meant to know   \n",
       "3824                      Hell ain't got a prayer.   \n",
       "\n",
       "                               title  vote_average  vote_count  \\\n",
       "2805         Blood Done Sign My Name           6.0           5   \n",
       "3234            Should've Been Romeo           0.0           0   \n",
       "3633                       The Salon           3.5           1   \n",
       "3674                      Below Zero           4.4          12   \n",
       "3684           The Vatican Exorcisms           4.4          11   \n",
       "3824  Alleluia! The Devil's Carnival           6.0           2   \n",
       "\n",
       "                                                   cast  female_pct  male_pct  \n",
       "2805  [Michael Rooker, Emily Alyn Lind, Omar Benson ...    0.428510  0.571347  \n",
       "3234  [Paul Ben-Victor, Ed Asner, Jordenn Thompson, ...    0.384586  0.615337  \n",
       "3633  [Dondre Whitfield, Kym Whitley, Monica Calhoun...    0.428510  0.571347  \n",
       "3674  [Edward Furlong, Michael Berryman, Kristin Booth]    0.333222  0.666445  \n",
       "3684                                                 []    0.000000  0.000000  \n",
       "3824  [Terrance Zdunich, Paul Sorvino, Nivek Ogre, A...    0.363603  0.636306  "
      ]
     },
     "execution_count": 54,
     "metadata": {},
     "output_type": "execute_result"
    }
   ],
   "source": [
    "df_movies.loc[df_movies.runtime == 0]"
   ]
  },
  {
   "cell_type": "markdown",
   "metadata": {},
   "source": [
    "Checking the six movies that have no runtime data, we can see that these six movies also lack revenue data, production companies, keywords, and all have very few vote counts. So we can think that removing these six rows will not have significant influence on our model.  "
   ]
  },
  {
   "cell_type": "code",
   "execution_count": 55,
   "metadata": {},
   "outputs": [],
   "source": [
    "df_movies = df_movies.drop(df_movies.loc[df_movies.runtime == 0].index)"
   ]
  },
  {
   "cell_type": "code",
   "execution_count": 56,
   "metadata": {},
   "outputs": [],
   "source": [
    "df_movies = df_movies.reset_index(drop=True)"
   ]
  },
  {
   "cell_type": "markdown",
   "metadata": {},
   "source": [
    "### Overview -- TfidfVectorizer"
   ]
  },
  {
   "cell_type": "code",
   "execution_count": 57,
   "metadata": {},
   "outputs": [],
   "source": [
    "from sklearn.feature_extraction.text import TfidfVectorizer\n",
    "\n",
    "df_movies = df_movies.loc[df_movies.overview.apply(lambda x: len(x) > 10)]\n",
    "# df_movies = df_movies.reset_index(drop=True)\n",
    "\n",
    "tfidf = TfidfVectorizer(stop_words='english', binary=True,\n",
    "                        ngram_range=(1, 2), min_df=0.001)\n",
    "overview_vec = tfidf.fit_transform(df_movies['overview'])\n",
    "\n",
    "overview = pd.DataFrame(overview_vec.toarray(), columns=list(range(overview_vec.toarray().shape[1])))\n",
    "overview_vec = overview_vec.todense()"
   ]
  },
  {
   "cell_type": "markdown",
   "metadata": {},
   "source": [
    "### Cast names -- CountVectorizer"
   ]
  },
  {
   "cell_type": "code",
   "execution_count": 58,
   "metadata": {},
   "outputs": [],
   "source": [
    "from sklearn.feature_extraction.text import CountVectorizer\n",
    "\n",
    "# concatenate names and join the list of names to a string\n",
    "df_movies['cast'] = df_movies['cast'].apply(concat_names).apply(list2str)\n",
    "\n",
    "vectorizer = CountVectorizer(ngram_range=(1, 2))\n",
    "cast_vect = vectorizer.fit_transform(df_movies['cast'])\n",
    "\n",
    "cast = cast_vect.todense()"
   ]
  },
  {
   "cell_type": "markdown",
   "metadata": {},
   "source": [
    "### Budget + Revenue -- deal with abnormal values"
   ]
  },
  {
   "cell_type": "markdown",
   "metadata": {},
   "source": [
    "There are some movies in the data set has less than $100 budget, which obviously does not make any sense. So we need to deal with these abnormal values."
   ]
  },
  {
   "cell_type": "code",
   "execution_count": 59,
   "metadata": {},
   "outputs": [
    {
     "data": {
      "text/plain": [
       "598"
      ]
     },
     "execution_count": 59,
     "metadata": {},
     "output_type": "execute_result"
    }
   ],
   "source": [
    "# number of movies with less than $100 budget\n",
    "df_movies.loc[(df_movies.budget<100)].shape[0]"
   ]
  },
  {
   "cell_type": "markdown",
   "metadata": {},
   "source": [
    "For these 107 movies with less than \\\\$100 budget and more than \\\\$10000 revenue, we use `revenue + overview + popularity + release_date` to predict the actual budget."
   ]
  },
  {
   "cell_type": "code",
   "execution_count": 60,
   "metadata": {
    "scrolled": true
   },
   "outputs": [
    {
     "data": {
      "text/plain": [
       "(107, 20)"
      ]
     },
     "execution_count": 60,
     "metadata": {},
     "output_type": "execute_result"
    }
   ],
   "source": [
    "df_movies.loc[(df_movies.budget<100) & (df_movies.revenue>10000)].shape"
   ]
  },
  {
   "cell_type": "code",
   "execution_count": 61,
   "metadata": {
    "scrolled": true
   },
   "outputs": [
    {
     "name": "stderr",
     "output_type": "stream",
     "text": [
      "/anaconda3/envs/ml/lib/python3.6/site-packages/sklearn/ensemble/forest.py:248: FutureWarning: The default value of n_estimators will change from 10 in version 0.20 to 100 in 0.22.\n",
      "  \"10 in version 0.20 to 100 in 0.22.\", FutureWarning)\n"
     ]
    }
   ],
   "source": [
    "from sklearn import ensemble\n",
    "\n",
    "\n",
    "def predict_budget1(dataset):\n",
    "    \"\"\"Predict budget of movies with less than $100 budget and more than $10000 revenue\"\"\"\n",
    "    data_p = dataset[['revenue', 'popularity', 'budget']]\n",
    "    data_p = pd.concat([data_p, overview], axis=1)\n",
    "\n",
    "    x_train = data_p.loc[~(data_p.budget < 100) & (\n",
    "        data_p.revenue > 10000)].drop('budget', 1)\n",
    "    y_train = data_p.loc[~(data_p.budget < 100) &\n",
    "                         (data_p.revenue > 10000)]['budget']\n",
    "    x_test = data_p.loc[(data_p.budget < 100) & (\n",
    "        data_p.revenue > 10000)].drop('budget', 1)\n",
    "\n",
    "    rfr = ensemble.RandomForestRegressor(random_state=42)\n",
    "    rfr.fit(x_train, y_train)\n",
    "\n",
    "    y_test = rfr.predict(x_test)\n",
    "    return y_test\n",
    "\n",
    "\n",
    "df_movies.loc[(df_movies.budget < 100) & \n",
    "              (df_movies.revenue > 10000), 'budget'] = predict_budget1(df_movies)"
   ]
  },
  {
   "cell_type": "code",
   "execution_count": 62,
   "metadata": {},
   "outputs": [
    {
     "data": {
      "text/plain": [
       "(0, 20)"
      ]
     },
     "execution_count": 62,
     "metadata": {},
     "output_type": "execute_result"
    }
   ],
   "source": [
    "# check\n",
    "df_movies.loc[(df_movies.budget<100) & (df_movies.revenue>10000)].shape"
   ]
  },
  {
   "cell_type": "markdown",
   "metadata": {},
   "source": [
    "For others whose revenue are below $10000, use `overview + popularity + release_date` to predict budget"
   ]
  },
  {
   "cell_type": "code",
   "execution_count": 63,
   "metadata": {},
   "outputs": [
    {
     "data": {
      "text/plain": [
       "(491, 20)"
      ]
     },
     "execution_count": 63,
     "metadata": {},
     "output_type": "execute_result"
    }
   ],
   "source": [
    "df_movies.loc[(df_movies.budget<100)].shape"
   ]
  },
  {
   "cell_type": "code",
   "execution_count": 64,
   "metadata": {
    "scrolled": true
   },
   "outputs": [
    {
     "name": "stderr",
     "output_type": "stream",
     "text": [
      "/anaconda3/envs/ml/lib/python3.6/site-packages/sklearn/ensemble/forest.py:248: FutureWarning: The default value of n_estimators will change from 10 in version 0.20 to 100 in 0.22.\n",
      "  \"10 in version 0.20 to 100 in 0.22.\", FutureWarning)\n"
     ]
    }
   ],
   "source": [
    "def predict_budget2(dataset):\n",
    "    \"\"\"Predict budget of movies with less than $100 budget and less than $10000 revenue\"\"\"\n",
    "    data_p = dataset[['popularity', 'budget']]\n",
    "    data_p = pd.concat([data_p, overview], axis=1)\n",
    "\n",
    "    x_train = data_p.loc[~(data_p.budget < 100)].drop('budget', 1)\n",
    "    y_train = data_p.loc[~(data_p.budget < 100)]['budget']\n",
    "    x_test = data_p.loc[(data_p.budget < 100) & (\n",
    "        df_movies.revenue <= 10000)].drop('budget', 1)\n",
    "\n",
    "    rfr = ensemble.RandomForestRegressor(random_state=42)\n",
    "    rfr.fit(x_train, y_train)\n",
    "#     print(x_test.shape)\n",
    "    y_test = rfr.predict(x_test)\n",
    "    return y_test\n",
    "\n",
    "\n",
    "df_movies.loc[(df_movies.budget < 100) & (df_movies.revenue <=\n",
    "                                          10000), 'budget'] = predict_budget2(df_movies)"
   ]
  },
  {
   "cell_type": "code",
   "execution_count": 65,
   "metadata": {},
   "outputs": [
    {
     "data": {
      "text/plain": [
       "(0, 20)"
      ]
     },
     "execution_count": 65,
     "metadata": {},
     "output_type": "execute_result"
    }
   ],
   "source": [
    "df_movies.loc[(df_movies.budget<100)].shape"
   ]
  },
  {
   "cell_type": "markdown",
   "metadata": {},
   "source": [
    "### Keywords + tagline"
   ]
  },
  {
   "cell_type": "markdown",
   "metadata": {},
   "source": [
    "Maybe we should not use tagline as a feature, two reasons:  \n",
    "+ tagline is too short for each movie, and has almost no overlap across movies\n",
    "+ Even, as a human, I cannot have a good guess of the movie genres reading only the tagline when I already know the movie."
   ]
  },
  {
   "cell_type": "code",
   "execution_count": 66,
   "metadata": {},
   "outputs": [
    {
     "name": "stdout",
     "output_type": "stream",
     "text": [
      "124\n"
     ]
    },
    {
     "data": {
      "text/plain": [
       "[('duringcreditsstinger', 290),\n",
       " ('woman director', 231),\n",
       " ('independent film', 221),\n",
       " ('based on novel', 175),\n",
       " ('murder', 174),\n",
       " ('aftercreditsstinger', 160),\n",
       " ('violence', 141),\n",
       " ('dystopia', 138),\n",
       " ('revenge', 114),\n",
       " ('sport', 102),\n",
       " ('sex', 96),\n",
       " ('3d', 95),\n",
       " ('friendship', 93),\n",
       " ('teenager', 93),\n",
       " ('musical', 88),\n",
       " ('sequel', 86),\n",
       " ('biography', 84),\n",
       " ('love', 83),\n",
       " ('suspense', 79),\n",
       " ('new york', 78),\n",
       " ('los angeles', 76),\n",
       " ('police', 76),\n",
       " ('alien', 74),\n",
       " ('high school', 74),\n",
       " ('nudity', 67),\n",
       " ('superhero', 65),\n",
       " ('london england', 65),\n",
       " ('prison', 64),\n",
       " ('family', 63),\n",
       " ('dying and death', 61),\n",
       " ('drug', 61),\n",
       " ('father son relationship', 58),\n",
       " ('remake', 55),\n",
       " ('wedding', 54),\n",
       " ('serial killer', 54),\n",
       " ('daughter', 53),\n",
       " ('magic', 52),\n",
       " ('corruption', 52),\n",
       " ('kidnapping', 51),\n",
       " ('based on comic book', 50),\n",
       " ('friends', 49),\n",
       " ('suicide', 49),\n",
       " ('airplane', 49),\n",
       " ('escape', 48),\n",
       " ('world war ii', 48),\n",
       " ('survival', 48),\n",
       " ('fbi', 48),\n",
       " ('time travel', 47),\n",
       " ('hospital', 47),\n",
       " ('martial arts', 47),\n",
       " ('party', 47),\n",
       " ('female nudity', 46),\n",
       " ('fight', 45),\n",
       " ('lawyer', 44),\n",
       " ('cia', 44),\n",
       " ('future', 43),\n",
       " ('based on young adult novel', 43),\n",
       " ('secret', 43),\n",
       " ('based on true story', 43),\n",
       " ('brother brother relationship', 43),\n",
       " ('investigation', 43),\n",
       " (\"love of one's life\", 42),\n",
       " ('best friend', 42),\n",
       " ('vampire', 42),\n",
       " ('blood', 42),\n",
       " ('small town', 42),\n",
       " ('zombie', 41),\n",
       " ('witch', 40),\n",
       " ('undercover', 40),\n",
       " ('money', 40),\n",
       " ('explosion', 40),\n",
       " ('flashback', 40),\n",
       " ('england', 39),\n",
       " ('paris', 39),\n",
       " ('conspiracy', 39),\n",
       " ('shootout', 39),\n",
       " ('spy', 38),\n",
       " ('death', 38),\n",
       " ('rescue', 38),\n",
       " ('assassin', 38),\n",
       " ('war', 37),\n",
       " ('new love', 37),\n",
       " ('dog', 36),\n",
       " ('wife husband relationship', 36),\n",
       " ('rape', 36),\n",
       " ('gore', 36),\n",
       " ('gay', 36),\n",
       " ('monster', 35),\n",
       " ('christmas', 35),\n",
       " ('jealousy', 35),\n",
       " ('robbery', 35),\n",
       " ('new york city', 35),\n",
       " ('journalist', 35),\n",
       " ('detective', 35),\n",
       " ('prostitute', 35),\n",
       " ('marvel comic', 34),\n",
       " ('hotel', 34),\n",
       " ('music', 34),\n",
       " ('terrorist', 33),\n",
       " ('secret identity', 33),\n",
       " ('saving the world', 33),\n",
       " ('obsession', 33),\n",
       " ('holiday', 33),\n",
       " ('ghost', 33),\n",
       " ('marriage', 33),\n",
       " ('alcohol', 33),\n",
       " ('adultery', 33),\n",
       " ('hitman', 33),\n",
       " ('divorce', 33),\n",
       " ('soldier', 32),\n",
       " ('scientist', 32),\n",
       " ('dream', 32),\n",
       " ('teacher', 32),\n",
       " ('usa president', 32),\n",
       " ('helicopter', 32),\n",
       " ('blackmail', 32),\n",
       " ('fbi agent', 32),\n",
       " ('sister sister relationship', 32),\n",
       " ('college', 31),\n",
       " ('romantic comedy', 31),\n",
       " ('chase', 31),\n",
       " ('slasher', 31),\n",
       " ('competition', 30),\n",
       " ('gangster', 30)]"
      ]
     },
     "execution_count": 66,
     "metadata": {},
     "output_type": "execute_result"
    }
   ],
   "source": [
    "# check all keywords and their count\n",
    "kw_all = defaultdict(int)\n",
    "\n",
    "for cell in df_movies.keywords:\n",
    "    for kw in cell:\n",
    "        kw_all[kw] += 1\n",
    "\n",
    "print(len(kw_all))\n",
    "sorted(kw_all.items(), key=lambda x: x[1], reverse=True)"
   ]
  },
  {
   "cell_type": "code",
   "execution_count": 67,
   "metadata": {},
   "outputs": [],
   "source": [
    "from sklearn.feature_extraction.text import CountVectorizer\n",
    "\n",
    "# join the list of keywords to a string\n",
    "df_movies['keywords'] = df_movies['keywords'].apply(list2str)\n",
    "\n",
    "vectorizer = CountVectorizer(stop_words='english', ngram_range=(1, 2))\n",
    "keywords_vect = vectorizer.fit_transform(df_movies['keywords'])\n",
    "\n",
    "keywords = keywords_vect.todense()"
   ]
  },
  {
   "cell_type": "code",
   "execution_count": 68,
   "metadata": {},
   "outputs": [
    {
     "data": {
      "text/plain": [
       "(3950, 2276)"
      ]
     },
     "execution_count": 68,
     "metadata": {},
     "output_type": "execute_result"
    }
   ],
   "source": [
    "keywords.shape"
   ]
  },
  {
   "cell_type": "markdown",
   "metadata": {},
   "source": [
    "### Original_language + Spoken_language\n",
    "1) \"Original language\" is the language of production.  \n",
    "2) \"Spoken language\" includes both the language of production and other languages spoken in the movie, if exist."
   ]
  },
  {
   "cell_type": "code",
   "execution_count": null,
   "metadata": {},
   "outputs": [],
   "source": []
  },
  {
   "cell_type": "markdown",
   "metadata": {},
   "source": [
    "### production_companies"
   ]
  },
  {
   "cell_type": "code",
   "execution_count": null,
   "metadata": {},
   "outputs": [],
   "source": []
  },
  {
   "cell_type": "markdown",
   "metadata": {},
   "source": [
    "### production_countries"
   ]
  },
  {
   "cell_type": "code",
   "execution_count": null,
   "metadata": {},
   "outputs": [],
   "source": []
  },
  {
   "cell_type": "markdown",
   "metadata": {},
   "source": [
    "### release_date"
   ]
  },
  {
   "cell_type": "code",
   "execution_count": null,
   "metadata": {},
   "outputs": [],
   "source": []
  },
  {
   "cell_type": "markdown",
   "metadata": {},
   "source": [
    "### popularity + vote_average + vote_count"
   ]
  },
  {
   "cell_type": "code",
   "execution_count": 69,
   "metadata": {},
   "outputs": [],
   "source": [
    "# df_movies.loc[df_movies['popularity']==0]"
   ]
  },
  {
   "cell_type": "markdown",
   "metadata": {},
   "source": [
    "# Result-dataset"
   ]
  },
  {
   "cell_type": "code",
   "execution_count": 70,
   "metadata": {},
   "outputs": [],
   "source": [
    "df_movies = df_movies.reset_index(drop=True)"
   ]
  },
  {
   "cell_type": "code",
   "execution_count": 71,
   "metadata": {},
   "outputs": [
    {
     "data": {
      "text/html": [
       "<div>\n",
       "<style scoped>\n",
       "    .dataframe tbody tr th:only-of-type {\n",
       "        vertical-align: middle;\n",
       "    }\n",
       "\n",
       "    .dataframe tbody tr th {\n",
       "        vertical-align: top;\n",
       "    }\n",
       "\n",
       "    .dataframe thead th {\n",
       "        text-align: right;\n",
       "    }\n",
       "</style>\n",
       "<table border=\"1\" class=\"dataframe\">\n",
       "  <thead>\n",
       "    <tr style=\"text-align: right;\">\n",
       "      <th></th>\n",
       "      <th>id</th>\n",
       "      <th>budget</th>\n",
       "      <th>genres</th>\n",
       "      <th>keywords</th>\n",
       "      <th>original_language</th>\n",
       "      <th>overview</th>\n",
       "      <th>popularity</th>\n",
       "      <th>production_companies</th>\n",
       "      <th>production_countries</th>\n",
       "      <th>release_date</th>\n",
       "      <th>revenue</th>\n",
       "      <th>runtime</th>\n",
       "      <th>spoken_languages</th>\n",
       "      <th>tagline</th>\n",
       "      <th>title</th>\n",
       "      <th>vote_average</th>\n",
       "      <th>vote_count</th>\n",
       "      <th>cast</th>\n",
       "      <th>female_pct</th>\n",
       "      <th>male_pct</th>\n",
       "    </tr>\n",
       "  </thead>\n",
       "  <tbody>\n",
       "    <tr>\n",
       "      <th>0</th>\n",
       "      <td>19995</td>\n",
       "      <td>237000000.0</td>\n",
       "      <td>[Action, Adventure, Fantasy, Science Fiction]</td>\n",
       "      <td>future alien soldier 3d</td>\n",
       "      <td>en</td>\n",
       "      <td>In the 22nd century, a paraplegic Marine is di...</td>\n",
       "      <td>150.437577</td>\n",
       "      <td>[Ingenious Film Partners, Twentieth Century Fo...</td>\n",
       "      <td>[United States of America, United Kingdom]</td>\n",
       "      <td>2009-12-10</td>\n",
       "      <td>2787965087</td>\n",
       "      <td>162.0</td>\n",
       "      <td>[English, Español]</td>\n",
       "      <td>Enter the World of Pandora.</td>\n",
       "      <td>Avatar</td>\n",
       "      <td>7.2</td>\n",
       "      <td>11800</td>\n",
       "      <td>SamWorthington ZoeSaldana SigourneyWeaver Step...</td>\n",
       "      <td>0.374988</td>\n",
       "      <td>0.624980</td>\n",
       "    </tr>\n",
       "    <tr>\n",
       "      <th>1</th>\n",
       "      <td>285</td>\n",
       "      <td>300000000.0</td>\n",
       "      <td>[Adventure, Fantasy, Action]</td>\n",
       "      <td>love of one's life aftercreditsstinger</td>\n",
       "      <td>en</td>\n",
       "      <td>Captain Barbossa, long believed to be dead, ha...</td>\n",
       "      <td>139.082615</td>\n",
       "      <td>[Walt Disney Pictures, Jerry Bruckheimer Films]</td>\n",
       "      <td>[United States of America]</td>\n",
       "      <td>2007-05-19</td>\n",
       "      <td>961000000</td>\n",
       "      <td>169.0</td>\n",
       "      <td>[English]</td>\n",
       "      <td>At the end of the world, the adventure begins.</td>\n",
       "      <td>Pirates of the Caribbean: At World's End</td>\n",
       "      <td>6.9</td>\n",
       "      <td>4500</td>\n",
       "      <td>JohnnyDepp OrlandoBloom KeiraKnightley Stellan...</td>\n",
       "      <td>0.166661</td>\n",
       "      <td>0.833306</td>\n",
       "    </tr>\n",
       "    <tr>\n",
       "      <th>2</th>\n",
       "      <td>206647</td>\n",
       "      <td>245000000.0</td>\n",
       "      <td>[Action, Adventure, Crime]</td>\n",
       "      <td>spy based on novel sequel</td>\n",
       "      <td>en</td>\n",
       "      <td>A cryptic message from Bond’s past sends him o...</td>\n",
       "      <td>107.376788</td>\n",
       "      <td>[Columbia Pictures, Danjaq]</td>\n",
       "      <td>[United Kingdom, United States of America]</td>\n",
       "      <td>2015-10-26</td>\n",
       "      <td>880674609</td>\n",
       "      <td>148.0</td>\n",
       "      <td>[Français, English, Español, Italiano, Deutsch]</td>\n",
       "      <td>A Plan No One Escapes</td>\n",
       "      <td>Spectre</td>\n",
       "      <td>6.3</td>\n",
       "      <td>4466</td>\n",
       "      <td>DanielCraig ChristophWaltz LéaSeydoux RalphFie...</td>\n",
       "      <td>0.191174</td>\n",
       "      <td>0.808812</td>\n",
       "    </tr>\n",
       "    <tr>\n",
       "      <th>3</th>\n",
       "      <td>49026</td>\n",
       "      <td>250000000.0</td>\n",
       "      <td>[Action, Crime, Drama, Thriller]</td>\n",
       "      <td>terrorist secret identity superhero</td>\n",
       "      <td>en</td>\n",
       "      <td>Following the death of District Attorney Harve...</td>\n",
       "      <td>112.312950</td>\n",
       "      <td>[Legendary Pictures, Warner Bros., DC Entertai...</td>\n",
       "      <td>[United States of America]</td>\n",
       "      <td>2012-07-16</td>\n",
       "      <td>1084939099</td>\n",
       "      <td>165.0</td>\n",
       "      <td>[English]</td>\n",
       "      <td>The Legend Ends</td>\n",
       "      <td>The Dark Knight Rises</td>\n",
       "      <td>7.6</td>\n",
       "      <td>9106</td>\n",
       "      <td>ChristianBale MichaelCaine GaryOldman AnneHath...</td>\n",
       "      <td>0.130951</td>\n",
       "      <td>0.869037</td>\n",
       "    </tr>\n",
       "    <tr>\n",
       "      <th>4</th>\n",
       "      <td>49529</td>\n",
       "      <td>260000000.0</td>\n",
       "      <td>[Action, Adventure, Science Fiction]</td>\n",
       "      <td>based on novel alien escape 3d</td>\n",
       "      <td>en</td>\n",
       "      <td>John Carter is a war-weary, former military ca...</td>\n",
       "      <td>43.926995</td>\n",
       "      <td>[Walt Disney Pictures]</td>\n",
       "      <td>[United States of America]</td>\n",
       "      <td>2012-03-07</td>\n",
       "      <td>284139100</td>\n",
       "      <td>132.0</td>\n",
       "      <td>[English]</td>\n",
       "      <td>Lost in our world, found in another.</td>\n",
       "      <td>John Carter</td>\n",
       "      <td>6.1</td>\n",
       "      <td>2124</td>\n",
       "      <td>TaylorKitsch LynnCollins SamanthaMorton Willem...</td>\n",
       "      <td>0.239990</td>\n",
       "      <td>0.759970</td>\n",
       "    </tr>\n",
       "  </tbody>\n",
       "</table>\n",
       "</div>"
      ],
      "text/plain": [
       "       id       budget                                         genres  \\\n",
       "0   19995  237000000.0  [Action, Adventure, Fantasy, Science Fiction]   \n",
       "1     285  300000000.0                   [Adventure, Fantasy, Action]   \n",
       "2  206647  245000000.0                     [Action, Adventure, Crime]   \n",
       "3   49026  250000000.0               [Action, Crime, Drama, Thriller]   \n",
       "4   49529  260000000.0           [Action, Adventure, Science Fiction]   \n",
       "\n",
       "                                 keywords original_language  \\\n",
       "0                 future alien soldier 3d                en   \n",
       "1  love of one's life aftercreditsstinger                en   \n",
       "2               spy based on novel sequel                en   \n",
       "3     terrorist secret identity superhero                en   \n",
       "4          based on novel alien escape 3d                en   \n",
       "\n",
       "                                            overview  popularity  \\\n",
       "0  In the 22nd century, a paraplegic Marine is di...  150.437577   \n",
       "1  Captain Barbossa, long believed to be dead, ha...  139.082615   \n",
       "2  A cryptic message from Bond’s past sends him o...  107.376788   \n",
       "3  Following the death of District Attorney Harve...  112.312950   \n",
       "4  John Carter is a war-weary, former military ca...   43.926995   \n",
       "\n",
       "                                production_companies  \\\n",
       "0  [Ingenious Film Partners, Twentieth Century Fo...   \n",
       "1    [Walt Disney Pictures, Jerry Bruckheimer Films]   \n",
       "2                        [Columbia Pictures, Danjaq]   \n",
       "3  [Legendary Pictures, Warner Bros., DC Entertai...   \n",
       "4                             [Walt Disney Pictures]   \n",
       "\n",
       "                         production_countries release_date     revenue  \\\n",
       "0  [United States of America, United Kingdom]   2009-12-10  2787965087   \n",
       "1                  [United States of America]   2007-05-19   961000000   \n",
       "2  [United Kingdom, United States of America]   2015-10-26   880674609   \n",
       "3                  [United States of America]   2012-07-16  1084939099   \n",
       "4                  [United States of America]   2012-03-07   284139100   \n",
       "\n",
       "   runtime                                 spoken_languages  \\\n",
       "0    162.0                               [English, Español]   \n",
       "1    169.0                                        [English]   \n",
       "2    148.0  [Français, English, Español, Italiano, Deutsch]   \n",
       "3    165.0                                        [English]   \n",
       "4    132.0                                        [English]   \n",
       "\n",
       "                                          tagline  \\\n",
       "0                     Enter the World of Pandora.   \n",
       "1  At the end of the world, the adventure begins.   \n",
       "2                           A Plan No One Escapes   \n",
       "3                                 The Legend Ends   \n",
       "4            Lost in our world, found in another.   \n",
       "\n",
       "                                      title  vote_average  vote_count  \\\n",
       "0                                    Avatar           7.2       11800   \n",
       "1  Pirates of the Caribbean: At World's End           6.9        4500   \n",
       "2                                   Spectre           6.3        4466   \n",
       "3                     The Dark Knight Rises           7.6        9106   \n",
       "4                               John Carter           6.1        2124   \n",
       "\n",
       "                                                cast  female_pct  male_pct  \n",
       "0  SamWorthington ZoeSaldana SigourneyWeaver Step...    0.374988  0.624980  \n",
       "1  JohnnyDepp OrlandoBloom KeiraKnightley Stellan...    0.166661  0.833306  \n",
       "2  DanielCraig ChristophWaltz LéaSeydoux RalphFie...    0.191174  0.808812  \n",
       "3  ChristianBale MichaelCaine GaryOldman AnneHath...    0.130951  0.869037  \n",
       "4  TaylorKitsch LynnCollins SamanthaMorton Willem...    0.239990  0.759970  "
      ]
     },
     "execution_count": 71,
     "metadata": {},
     "output_type": "execute_result"
    }
   ],
   "source": [
    "df_movies.head(5)"
   ]
  },
  {
   "cell_type": "markdown",
   "metadata": {},
   "source": [
    "Besides the modified dataframe, we also have three vectorized features: overview, cast names, and keywords.  \n",
    "\n",
    "\n",
    "**Features** (so far ready to use):  \n",
    "+ **numeric**: budget, revenue, female_pct, male_pct, runtime \n",
    "+ **text(vectorized)**: keywords, overview, cast(names)\n",
    "\n",
    "**Labels**:  \n",
    "20 genres, i.e., `genre_*`"
   ]
  },
  {
   "cell_type": "code",
   "execution_count": 72,
   "metadata": {},
   "outputs": [
    {
     "data": {
      "text/plain": [
       "array([[1, 1, 0, ..., 0, 0, 0],\n",
       "       [1, 1, 0, ..., 0, 0, 0],\n",
       "       [1, 1, 0, ..., 0, 0, 0],\n",
       "       ...,\n",
       "       [0, 0, 0, ..., 1, 0, 0],\n",
       "       [1, 0, 0, ..., 1, 0, 0],\n",
       "       [0, 0, 0, ..., 0, 0, 0]])"
      ]
     },
     "execution_count": 72,
     "metadata": {},
     "output_type": "execute_result"
    }
   ],
   "source": [
    "# labels\n",
    "from sklearn.preprocessing import MultiLabelBinarizer\n",
    "\n",
    "mlb = MultiLabelBinarizer()\n",
    "genres = mlb.fit_transform(df_movies.genres)\n",
    "genres"
   ]
  },
  {
   "cell_type": "code",
   "execution_count": 73,
   "metadata": {
    "scrolled": true
   },
   "outputs": [],
   "source": [
    "# features\n",
    "features = np.concatenate((overview_vec, cast, keywords,\n",
    "                           np.asarray(\n",
    "                               df_movies.loc[:, ['budget', 'revenue', 'female_pct', 'male_pct', 'runtime']])),\n",
    "                          axis=1)"
   ]
  },
  {
   "cell_type": "markdown",
   "metadata": {},
   "source": [
    "## Modelling"
   ]
  },
  {
   "cell_type": "markdown",
   "metadata": {},
   "source": [
    "The result is very interesting.  \n",
    "\n",
    "When I use only cast names and gender proportion, the prediction tends to give less genres for each movie than the ground truth (please refer to the `cast_vs_genres` notebook); however, using the eight features I mentioned above, the model tends to give more genres than the ground truth."
   ]
  },
  {
   "cell_type": "code",
   "execution_count": 79,
   "metadata": {
    "scrolled": true
   },
   "outputs": [],
   "source": [
    "from sklearn.model_selection import train_test_split\n",
    "\n",
    "train_data, test_data, train_labels, test_labels = train_test_split(features, genres,\n",
    "                                                                    test_size=0.2, random_state=42)"
   ]
  },
  {
   "cell_type": "markdown",
   "metadata": {},
   "source": [
    "To save time, I didn't do cross-validation but only use the default `MultinomialNB()` algorithm."
   ]
  },
  {
   "cell_type": "code",
   "execution_count": 91,
   "metadata": {},
   "outputs": [],
   "source": [
    "from skmultilearn.problem_transform import BinaryRelevance\n",
    "from sklearn.multiclass import OneVsRestClassifier\n",
    "from sklearn.naive_bayes import MultinomialNB\n",
    "\n",
    "clf = OneVsRestClassifier(MultinomialNB())\n",
    "clf.fit(train_data, train_labels)\n",
    "predictions = clf.predict(test_data)"
   ]
  },
  {
   "cell_type": "code",
   "execution_count": 95,
   "metadata": {},
   "outputs": [],
   "source": [
    "from sklearn.metrics import accuracy_score\n",
    "from sklearn.metrics import f1_score\n",
    "from sklearn.metrics import precision_score\n",
    "from sklearn.metrics import recall_score\n",
    "from sklearn.metrics import classification_report"
   ]
  },
  {
   "cell_type": "code",
   "execution_count": 96,
   "metadata": {},
   "outputs": [
    {
     "name": "stdout",
     "output_type": "stream",
     "text": [
      "Subset Accuracy: 0.0012658227848101266\n",
      "Global F1 score: 0.23185442649764876\n",
      "Global Precision: 0.14750260145681582\n",
      "Global Recall: 0.5415472779369628\n"
     ]
    }
   ],
   "source": [
    "accuracy = accuracy_score(y_pred=predictions, y_true=np.array(test_labels))\n",
    "f1 = f1_score(y_pred=predictions, y_true=np.array(test_labels), average='micro')\n",
    "precision = precision_score(y_pred=predictions, y_true=np.array(test_labels), average='micro')\n",
    "recall = recall_score(y_pred=predictions, y_true=np.array(test_labels), average='micro')\n",
    "\n",
    "print(\"Subset Accuracy: {}\".format(accuracy)) # subset accuracy\n",
    "print(\"Global F1 score: {}\".format(f1))\n",
    "print(\"Global Precision: {}\".format(precision))\n",
    "print(\"Global Recall: {}\".format(recall))"
   ]
  },
  {
   "cell_type": "code",
   "execution_count": 97,
   "metadata": {},
   "outputs": [
    {
     "name": "stdout",
     "output_type": "stream",
     "text": [
      "                 precision    recall  f1-score   support\n",
      "\n",
      "         Action       0.27      0.33      0.29       213\n",
      "      Adventure       0.24      0.41      0.30       152\n",
      "      Animation       0.08      0.44      0.13        43\n",
      "         Comedy       0.37      0.71      0.49       275\n",
      "          Crime       0.18      0.65      0.28       138\n",
      "    Documentary       0.01      0.78      0.03         9\n",
      "          Drama       0.48      0.70      0.57       353\n",
      "         Family       0.13      0.36      0.19        88\n",
      "        Fantasy       0.12      0.35      0.18        85\n",
      "        Foreign       0.01      0.67      0.02         3\n",
      "        History       0.04      0.65      0.08        34\n",
      "         Horror       0.10      0.55      0.17        94\n",
      "          Music       0.03      0.61      0.06        28\n",
      "        Mystery       0.09      0.67      0.15        66\n",
      "        Romance       0.16      0.29      0.20       143\n",
      "Science Fiction       0.13      0.35      0.19        98\n",
      "       TV Movie       0.00      0.00      0.00         0\n",
      "       Thriller       0.29      0.62      0.39       238\n",
      "            War       0.03      0.67      0.05        21\n",
      "        Western       0.02      0.54      0.03        13\n",
      "\n",
      "      micro avg       0.15      0.54      0.23      2094\n",
      "      macro avg       0.14      0.52      0.19      2094\n",
      "   weighted avg       0.26      0.54      0.33      2094\n",
      "    samples avg       0.15      0.55      0.22      2094\n",
      "\n"
     ]
    },
    {
     "name": "stderr",
     "output_type": "stream",
     "text": [
      "/anaconda3/envs/ml/lib/python3.6/site-packages/sklearn/metrics/classification.py:1145: UndefinedMetricWarning: Recall and F-score are ill-defined and being set to 0.0 in labels with no true samples.\n",
      "  'recall', 'true', average, warn_for)\n",
      "/anaconda3/envs/ml/lib/python3.6/site-packages/sklearn/metrics/classification.py:1143: UndefinedMetricWarning: Precision and F-score are ill-defined and being set to 0.0 in samples with no predicted labels.\n",
      "  'precision', 'predicted', average, warn_for)\n"
     ]
    }
   ],
   "source": [
    "print(classification_report(test_labels, predictions, target_names=mlb.classes_))"
   ]
  },
  {
   "cell_type": "code",
   "execution_count": 98,
   "metadata": {},
   "outputs": [
    {
     "name": "stdout",
     "output_type": "stream",
     "text": [
      "true1-pred0 rate of Action: 0.1810126582278481\n",
      "true0-pred1 rate of Action: 0.24430379746835443\n",
      "true0-pred0 rate of Action: 0.4860759493670886\n",
      "true1-pred1 rate of Action: 0.08860759493670886\n",
      "\n",
      "true1-pred0 rate of Adventure: 0.11392405063291139\n",
      "true0-pred1 rate of Adventure: 0.24556962025316456\n",
      "true0-pred0 rate of Adventure: 0.5620253164556962\n",
      "true1-pred1 rate of Adventure: 0.07848101265822785\n",
      "\n",
      "true1-pred0 rate of Animation: 0.030379746835443037\n",
      "true0-pred1 rate of Animation: 0.2810126582278481\n",
      "true0-pred0 rate of Animation: 0.6645569620253164\n",
      "true1-pred1 rate of Animation: 0.024050632911392405\n",
      "\n",
      "true1-pred0 rate of Comedy: 0.10126582278481013\n",
      "true0-pred1 rate of Comedy: 0.4139240506329114\n",
      "true0-pred0 rate of Comedy: 0.2379746835443038\n",
      "true1-pred1 rate of Comedy: 0.2468354430379747\n",
      "\n",
      "true1-pred0 rate of Crime: 0.060759493670886074\n",
      "true0-pred1 rate of Crime: 0.5177215189873418\n",
      "true0-pred0 rate of Crime: 0.30759493670886073\n",
      "true1-pred1 rate of Crime: 0.11392405063291139\n",
      "\n",
      "true1-pred0 rate of Documentary: 0.002531645569620253\n",
      "true0-pred1 rate of Documentary: 0.6177215189873417\n",
      "true0-pred0 rate of Documentary: 0.37088607594936707\n",
      "true1-pred1 rate of Documentary: 0.008860759493670886\n",
      "\n",
      "true1-pred0 rate of Drama: 0.13291139240506328\n",
      "true0-pred1 rate of Drama: 0.3341772151898734\n",
      "true0-pred0 rate of Drama: 0.2189873417721519\n",
      "true1-pred1 rate of Drama: 0.3139240506329114\n",
      "\n",
      "true1-pred0 rate of Family: 0.07088607594936709\n",
      "true0-pred1 rate of Family: 0.27974683544303797\n",
      "true0-pred0 rate of Family: 0.6088607594936709\n",
      "true1-pred1 rate of Family: 0.04050632911392405\n",
      "\n",
      "true1-pred0 rate of Fantasy: 0.06962025316455696\n",
      "true0-pred1 rate of Fantasy: 0.2848101265822785\n",
      "true0-pred0 rate of Fantasy: 0.6075949367088608\n",
      "true1-pred1 rate of Fantasy: 0.0379746835443038\n",
      "\n",
      "true1-pred0 rate of Foreign: 0.0012658227848101266\n",
      "true0-pred1 rate of Foreign: 0.2417721518987342\n",
      "true0-pred0 rate of Foreign: 0.7544303797468355\n",
      "true1-pred1 rate of Foreign: 0.002531645569620253\n",
      "\n",
      "true1-pred0 rate of History: 0.015189873417721518\n",
      "true0-pred1 rate of History: 0.5936708860759494\n",
      "true0-pred0 rate of History: 0.3632911392405063\n",
      "true1-pred1 rate of History: 0.027848101265822784\n",
      "\n",
      "true1-pred0 rate of Horror: 0.053164556962025315\n",
      "true0-pred1 rate of Horror: 0.5822784810126582\n",
      "true0-pred0 rate of Horror: 0.29873417721518986\n",
      "true1-pred1 rate of Horror: 0.06582278481012659\n",
      "\n",
      "true1-pred0 rate of Music: 0.013924050632911392\n",
      "true0-pred1 rate of Music: 0.6367088607594936\n",
      "true0-pred0 rate of Music: 0.3278481012658228\n",
      "true1-pred1 rate of Music: 0.021518987341772152\n",
      "\n",
      "true1-pred0 rate of Mystery: 0.027848101265822784\n",
      "true0-pred1 rate of Mystery: 0.5848101265822785\n",
      "true0-pred0 rate of Mystery: 0.33164556962025316\n",
      "true1-pred1 rate of Mystery: 0.05569620253164557\n",
      "\n",
      "true1-pred0 rate of Romance: 0.1291139240506329\n",
      "true0-pred1 rate of Romance: 0.27974683544303797\n",
      "true0-pred0 rate of Romance: 0.5392405063291139\n",
      "true1-pred1 rate of Romance: 0.05189873417721519\n",
      "\n",
      "true1-pred0 rate of Science Fiction: 0.0810126582278481\n",
      "true0-pred1 rate of Science Fiction: 0.2810126582278481\n",
      "true0-pred0 rate of Science Fiction: 0.5949367088607594\n",
      "true1-pred1 rate of Science Fiction: 0.043037974683544304\n",
      "\n",
      "true1-pred0 rate of TV Movie: 0.0\n",
      "true0-pred1 rate of TV Movie: 0.21645569620253163\n",
      "true0-pred0 rate of TV Movie: 0.7835443037974683\n",
      "true1-pred1 rate of TV Movie: 0.0\n",
      "\n",
      "true1-pred0 rate of Thriller: 0.11392405063291139\n",
      "true0-pred1 rate of Thriller: 0.4607594936708861\n",
      "true0-pred0 rate of Thriller: 0.2379746835443038\n",
      "true1-pred1 rate of Thriller: 0.18734177215189873\n",
      "\n",
      "true1-pred0 rate of War: 0.008860759493670886\n",
      "true0-pred1 rate of War: 0.640506329113924\n",
      "true0-pred0 rate of War: 0.3329113924050633\n",
      "true1-pred1 rate of War: 0.017721518987341773\n",
      "\n",
      "true1-pred0 rate of Western: 0.007594936708860759\n",
      "true0-pred1 rate of Western: 0.5594936708860759\n",
      "true0-pred0 rate of Western: 0.4240506329113924\n",
      "true1-pred1 rate of Western: 0.008860759493670886\n",
      "\n"
     ]
    }
   ],
   "source": [
    "for i in range(predictions.shape[1]):\n",
    "    fp = 0\n",
    "    fn = 0\n",
    "    tp = 0\n",
    "    tn = 0\n",
    "    \n",
    "    truth_val = np.asarray(test_labels)[:, i]\n",
    "    pred_val = np.asarray(predictions)[:, i]\n",
    "    for vt, vp in zip(truth_val, pred_val):\n",
    "        if vt==1 and vp==0: fn += 1\n",
    "        elif vt == 0 and vp==1: fp += 1\n",
    "        elif vt == 0 and vp==0: tn += 1\n",
    "        elif vt == 1 and vp==1: tp += 1\n",
    "    \n",
    "    print('true1-pred0 rate of {}: {}'.format(mlb.classes_[i], fn/predictions.shape[0]))\n",
    "    print('true0-pred1 rate of {}: {}'.format(mlb.classes_[i], fp/predictions.shape[0]))\n",
    "    print('true0-pred0 rate of {}: {}'.format(mlb.classes_[i], tn/predictions.shape[0]))\n",
    "    print('true1-pred1 rate of {}: {}\\n'.format(mlb.classes_[i], tp/predictions.shape[0]))"
   ]
  },
  {
   "cell_type": "code",
   "execution_count": null,
   "metadata": {},
   "outputs": [],
   "source": []
  },
  {
   "cell_type": "code",
   "execution_count": null,
   "metadata": {},
   "outputs": [],
   "source": []
  },
  {
   "cell_type": "markdown",
   "metadata": {},
   "source": [
    "## *get dummies"
   ]
  },
  {
   "cell_type": "raw",
   "metadata": {
    "scrolled": true
   },
   "source": [
    "from sklearn.preprocessing import MultiLabelBinarizer\n",
    "\n",
    "mlb = MultiLabelBinarizer()\n",
    "genres_dummies = pd.DataFrame(mlb.fit_transform(\n",
    "    df_movies['genres']), columns=mlb.classes_).add_prefix('genre_')\n",
    "keywords_dummies = pd.DataFrame(mlb.fit_transform(\n",
    "    df_movies['keywords']), columns=mlb.classes_).add_prefix('kw_')\n",
    "df_new = pd.concat([\n",
    "    #df_movies.loc[:, ['budget']],\n",
    "    genres_dummies, keywords_dummies,\n",
    "    train_features], axis=1)\n",
    "\n",
    "df_y = df_new.loc[:, df_new.columns.str.startswith('genre_')]\n",
    "df_X = df_new.drop(\n",
    "    df_new.columns[df_new.columns.str.startswith('genre_')], inplace=False, axis=1)"
   ]
  },
  {
   "cell_type": "raw",
   "metadata": {
    "scrolled": true
   },
   "source": [
    "df_X"
   ]
  },
  {
   "cell_type": "raw",
   "metadata": {},
   "source": [
    "from sklearn.model_selection import train_test_split\n",
    "\n",
    "train_X, test_X, train_y, test_y = train_test_split(df_X, df_y, test_size=0.33, random_state=42)"
   ]
  },
  {
   "cell_type": "raw",
   "metadata": {},
   "source": [
    "from skmultilearn.problem_transform import BinaryRelevance\n",
    "from sklearn.ensemble import RandomForestClassifier\n",
    "\n",
    "classifier = BinaryRelevance(RandomForestClassifier())\n",
    "classifier.fit(train_X, train_y)\n",
    "predictions = classifier.predict(test_X)\n",
    "\n",
    "from sklearn.metrics import accuracy_score\n",
    "accuracy_score(test_y, predictions)"
   ]
  },
  {
   "cell_type": "raw",
   "metadata": {},
   "source": [
    "predictions_dense = predictions.todense()\n",
    "\n",
    "for i in range(predictions.shape[1]):\n",
    "    print(accuracy_score(np.asarray(test_y)[:, i], np.asarray(predictions_dense)[:, i]))"
   ]
  },
  {
   "cell_type": "code",
   "execution_count": null,
   "metadata": {},
   "outputs": [],
   "source": []
  }
 ],
 "metadata": {
  "kernelspec": {
   "display_name": "Python 3",
   "language": "python",
   "name": "python3"
  },
  "language_info": {
   "codemirror_mode": {
    "name": "ipython",
    "version": 3
   },
   "file_extension": ".py",
   "mimetype": "text/x-python",
   "name": "python",
   "nbconvert_exporter": "python",
   "pygments_lexer": "ipython3",
   "version": "3.6.6"
  }
 },
 "nbformat": 4,
 "nbformat_minor": 2
}
