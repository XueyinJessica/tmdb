{
 "cells": [
  {
   "cell_type": "markdown",
   "metadata": {
    "slideshow": {
     "slide_type": "slide"
    }
   },
   "source": [
    "<center><h2>Predict Movie Genre for TMDB Database</h2></center>\n",
    "\n",
    "_____\n",
    "\n",
    "\n",
    "<center><img src=\"images/poster.jpg\" width=\"30%\"/></center>"
   ]
  },
  {
   "cell_type": "code",
   "execution_count": 22,
   "metadata": {
    "slideshow": {
     "slide_type": "skip"
    }
   },
   "outputs": [],
   "source": [
    "import pandas as pd\n",
    "import numpy as np\n",
    "import matplotlib.pyplot as plt\n",
    "import seaborn as sns\n",
    "\n",
    "from glob import glob\n",
    "import os\n",
    "import json\n",
    "import re\n",
    "from collections import defaultdict\n",
    "import itertools\n",
    "\n",
    "from gensim.models.doc2vec import Doc2Vec, TaggedDocument\n",
    "from gensim.models import Word2Vec\n",
    "from nltk.tokenize import word_tokenize\n",
    "from tqdm import tqdm\n",
    "\n",
    "from ipywidgets import interact, IntSlider\n",
    "from IPython.display import display"
   ]
  },
  {
   "cell_type": "code",
   "execution_count": 84,
   "metadata": {
    "slideshow": {
     "slide_type": "skip"
    }
   },
   "outputs": [],
   "source": [
    "def freeze_header(df, num_rows=30, num_columns=10, step_rows=1,\n",
    "                  step_columns=1):\n",
    "    \"\"\"\n",
    "    Freeze the headers (column and index names) of a Pandas DataFrame. A widget\n",
    "    enables to slide through the rows and columns.\n",
    "    \"\"\"\n",
    "    @interact(last_row=IntSlider(min=min(num_rows, df.shape[0]),\n",
    "                                 max=df.shape[0],\n",
    "                                 step=step_rows,\n",
    "                                 description='rows',\n",
    "                                 readout=False,\n",
    "                                 disabled=False,\n",
    "                                 continuous_update=True,\n",
    "                                 orientation='horizontal',\n",
    "                                 slider_color='purple'),\n",
    "              last_column=IntSlider(min=min(num_columns, df.shape[1]),\n",
    "                                    max=df.shape[1],\n",
    "                                    step=step_columns,\n",
    "                                    description='columns',\n",
    "                                    readout=False,\n",
    "                                    disabled=False,\n",
    "                                    continuous_update=True,\n",
    "                                    orientation='horizontal',\n",
    "                                    slider_color='purple'))\n",
    "    def _freeze_header(last_row, last_column):\n",
    "        display(df.iloc[max(0, last_row-num_rows):last_row,\n",
    "                        max(0, last_column-num_columns):last_column])"
   ]
  },
  {
   "cell_type": "markdown",
   "metadata": {
    "slideshow": {
     "slide_type": "slide"
    }
   },
   "source": [
    "# Outline\n",
    "\n",
    "______\n",
    "    -- Purpose\n",
    "    -- Introduce the dataset\n",
    "    -- Feature selection and data engineering\n",
    "    -- Models and Results\n",
    "    -- Discussion"
   ]
  },
  {
   "cell_type": "markdown",
   "metadata": {
    "slideshow": {
     "slide_type": "slide"
    }
   },
   "source": [
    "# The Purpose \n",
    "    -- Predicting movie genre for TMDB movie\n",
    "    -- Auto tagging new movie\n",
    "    -- Possibly fix existing problem"
   ]
  },
  {
   "cell_type": "markdown",
   "metadata": {
    "slideshow": {
     "slide_type": "slide"
    }
   },
   "source": [
    "# Dataset - features and observations\n",
    "\n",
    "______\n",
    "\n",
    "    Dataset: TMDB(The Movie Database) and Kaggle\n",
    "    General info : \n",
    "        1.cast\n",
    "        2.budget\n",
    "        3.overview\n",
    "        4.production company\n",
    "        5.voting\n",
    "    Observations : 4799\n",
    "    Additional data: \n",
    "        1.3440 of them have subtitles\n",
    "        2.retrieve them with API"
   ]
  },
  {
   "cell_type": "markdown",
   "metadata": {
    "slideshow": {
     "slide_type": "subslide"
    }
   },
   "source": [
    "## Dataset \n",
    "\n",
    "-----\n",
    "\n",
    "    - Groud Truth is Messy\n",
    "        -- user contributed database, everyone can edit it\n",
    "        -- some movies get little attention\n",
    "_____\n",
    "\n",
    "<img src=\"images/edit_genres.jpg\" width=\"60%\"/>"
   ]
  },
  {
   "cell_type": "code",
   "execution_count": 24,
   "metadata": {
    "slideshow": {
     "slide_type": "skip"
    }
   },
   "outputs": [],
   "source": [
    "\"\"\"\n",
    "Load data\n",
    "\"\"\"\n",
    "df = pd.read_csv('dataset/tmdb_5000_movies_nonull.csv')\n",
    "df_credits = pd.read_csv('dataset/tmdb_5000_credits.csv')\n",
    "credits_sub = df_credits.loc[:, ['movie_id', 'cast']].rename(columns={\n",
    "                                                             'movie_id': 'id'})\n",
    "df = df[['id', 'budget', 'genres', 'keywords', 'original_language',\n",
    "         'overview', 'popularity', 'production_companies',\n",
    "         'production_countries', 'release_date', 'revenue', 'runtime',\n",
    "         'spoken_languages', 'tagline', 'title', 'vote_average', 'vote_count']]\n",
    "df = df.merge(credits_sub)"
   ]
  },
  {
   "cell_type": "code",
   "execution_count": 25,
   "metadata": {
    "slideshow": {
     "slide_type": "skip"
    }
   },
   "outputs": [],
   "source": [
    "\"\"\"\n",
    "Add subtitles\n",
    "\"\"\"\n",
    "with open('dataset/subtitles/subtitles.json', 'r') as f:\n",
    "    sub_dict = json.load(f)\n",
    "sub_dict = defaultdict(str, sub_dict)\n",
    "df[\"subtitles\"] = df.title.apply(lambda title: \"\\n\\n\".join(sub_dict[title])) # single string"
   ]
  },
  {
   "cell_type": "code",
   "execution_count": 27,
   "metadata": {
    "slideshow": {
     "slide_type": "skip"
    }
   },
   "outputs": [],
   "source": [
    "# drop movies with no genre info\n",
    "for i, row in df.iterrows():\n",
    "    if row['genres'] == '[]':\n",
    "        df.drop(i, inplace=True)\n",
    "df = df.dropna()\n",
    "all_genres = defaultdict(int)\n",
    "for row in df.genres:\n",
    "    for item in json.loads(row):\n",
    "        all_genres[item['name']] += 1\n",
    "genres_list = sorted(all_genres.items(), key=lambda x: x[1], reverse=True)"
   ]
  },
  {
   "cell_type": "code",
   "execution_count": 28,
   "metadata": {
    "slideshow": {
     "slide_type": "skip"
    }
   },
   "outputs": [],
   "source": [
    "def convert_list(cell):\n",
    "    \"\"\"convert the json format to a list of categories\"\"\"\n",
    "    kw_list = []\n",
    "    for kw in json.loads(cell):\n",
    "        kw_list.append(kw['name'])\n",
    "    return kw_list\n",
    "\n",
    "\n",
    "def larger_n(col, n):\n",
    "    \"\"\"filter the column\"\"\"\n",
    "    keywords = defaultdict(int)\n",
    "    for row in df[col]:\n",
    "        row = json.loads(row)\n",
    "        for entry in row:\n",
    "            keywords[entry['name']] += 1\n",
    "    kw_cnt = sorted(keywords.items(), key=lambda x: -x[1])\n",
    "    return [kw[0] for kw in kw_cnt if kw[1] >= n]\n",
    "\n",
    "\n",
    "def extract_gender(cell):\n",
    "    \"\"\"Extract cast gender\"\"\"\n",
    "    female = 0\n",
    "    male = 0\n",
    "    for item in json.loads(cell):\n",
    "        if item['gender'] == 1:\n",
    "            female += 1\n",
    "        elif item['gender'] == 2:\n",
    "            male += 1\n",
    "        else:\n",
    "            continue\n",
    "    return female, male\n",
    "\n",
    "\n",
    "def concat_names(cell):\n",
    "    \"\"\"Concatenate first names and last names\"\"\"\n",
    "    names = []\n",
    "    for name in cell:\n",
    "        names.append(name.replace(' ', ''))\n",
    "    return names\n",
    "\n",
    "\n",
    "def list2str(cell):\n",
    "    \"\"\"Convert list to string\"\"\"\n",
    "    return ' '.join(cell)\n",
    "\n",
    "\n",
    "def transform_cols(df, cols_to_transform):\n",
    "    \"\"\"Transform columns of a dataframe.\n",
    "    cols_to_transform should be a dict(col_name: filter value n)\n",
    "    \"\"\"\n",
    "    for col_name in cols_to_transform.keys():\n",
    "        larger_col = larger_n(col_name, cols_to_transform[col_name])\n",
    "        if col_name == 'cast':\n",
    "            gen = df[col_name].apply(extract_gender)\n",
    "            df['female_pct'] = gen.apply(lambda x: x[0]/(x[0]+x[1]+0.001))\n",
    "            df['male_pct'] = gen.apply(lambda x: x[1]/(x[0]+x[1]+0.001))\n",
    "\n",
    "        df[col_name] = df[col_name].apply(convert_list)\\\n",
    "            .apply(lambda cell: [kw for kw in cell if kw in larger_col])\n",
    "    return df\n",
    "\n",
    "def tokenize(text):\n",
    "    \"\"\"\n",
    "    A tokenizer, remove special characters punctuation and replace them with a space, stem the word\n",
    "    \"\"\"\n",
    "    text = text.lower()\n",
    "    cleanString = re.sub('[^a-zA-Z]',' ', text)\n",
    "    words = nltk.word_tokenize(cleanString)\n",
    "    english = list(ENGLISH_STOP_WORDS)\n",
    "    goodwords = [w for w in words if w not in english]\n",
    "    stemmer = PorterStemmer()\n",
    "    stemmed = [stemmer.stem(word) for word in goodwords]\n",
    "    return stemmed"
   ]
  },
  {
   "cell_type": "code",
   "execution_count": 29,
   "metadata": {
    "slideshow": {
     "slide_type": "skip"
    }
   },
   "outputs": [],
   "source": [
    "cols_to_transform = {'keywords': 30,\n",
    "                     'genres': 0,\n",
    "                     'production_companies': 5,\n",
    "                     'production_countries': 3,\n",
    "                     'spoken_languages': 10,\n",
    "                     'cast': 2}\n",
    "\n",
    "df_movies = transform_cols(df, cols_to_transform)"
   ]
  },
  {
   "cell_type": "code",
   "execution_count": 30,
   "metadata": {
    "slideshow": {
     "slide_type": "skip"
    }
   },
   "outputs": [
    {
     "data": {
      "text/plain": [
       "(3037, 21)"
      ]
     },
     "execution_count": 30,
     "metadata": {},
     "output_type": "execute_result"
    }
   ],
   "source": [
    "df_movies = df_movies[df_movies[\"subtitles\"] != ''] # use only movies with subtitles\n",
    "df_movies = df_movies.reset_index(drop=True)\n",
    "#df_movies.shape"
   ]
  },
  {
   "cell_type": "code",
   "execution_count": 32,
   "metadata": {
    "slideshow": {
     "slide_type": "subslide"
    }
   },
   "outputs": [
    {
     "data": {
      "text/html": [
       "<div>\n",
       "<style scoped>\n",
       "    .dataframe tbody tr th:only-of-type {\n",
       "        vertical-align: middle;\n",
       "    }\n",
       "\n",
       "    .dataframe tbody tr th {\n",
       "        vertical-align: top;\n",
       "    }\n",
       "\n",
       "    .dataframe thead th {\n",
       "        text-align: right;\n",
       "    }\n",
       "</style>\n",
       "<table border=\"1\" class=\"dataframe\">\n",
       "  <thead>\n",
       "    <tr style=\"text-align: right;\">\n",
       "      <th></th>\n",
       "      <th>title</th>\n",
       "      <th>release_date</th>\n",
       "      <th>genres</th>\n",
       "    </tr>\n",
       "  </thead>\n",
       "  <tbody>\n",
       "    <tr>\n",
       "      <th>120</th>\n",
       "      <td>Kung Fu Panda 2</td>\n",
       "      <td>2011-05-25</td>\n",
       "      <td>[Animation, Family]</td>\n",
       "    </tr>\n",
       "    <tr>\n",
       "      <th>134</th>\n",
       "      <td>Kung Fu Panda 3</td>\n",
       "      <td>2016-01-23</td>\n",
       "      <td>[Action, Adventure, Animation, Comedy, Family]</td>\n",
       "    </tr>\n",
       "    <tr>\n",
       "      <th>159</th>\n",
       "      <td>Kung Fu Panda</td>\n",
       "      <td>2008-06-04</td>\n",
       "      <td>[Adventure, Animation, Family, Comedy]</td>\n",
       "    </tr>\n",
       "  </tbody>\n",
       "</table>\n",
       "</div>"
      ],
      "text/plain": [
       "               title release_date  \\\n",
       "120  Kung Fu Panda 2   2011-05-25   \n",
       "134  Kung Fu Panda 3   2016-01-23   \n",
       "159    Kung Fu Panda   2008-06-04   \n",
       "\n",
       "                                             genres  \n",
       "120                             [Animation, Family]  \n",
       "134  [Action, Adventure, Animation, Comedy, Family]  \n",
       "159          [Adventure, Animation, Family, Comedy]  "
      ]
     },
     "execution_count": 32,
     "metadata": {},
     "output_type": "execute_result"
    }
   ],
   "source": [
    "df_movies[df_movies.title.str.lower().str.contains(\"kung fu panda\")][[\"title\", \"release_date\", \"genres\"]]"
   ]
  },
  {
   "cell_type": "code",
   "execution_count": 39,
   "metadata": {
    "slideshow": {
     "slide_type": "subslide"
    }
   },
   "outputs": [
    {
     "data": {
      "text/html": [
       "<div>\n",
       "<style scoped>\n",
       "    .dataframe tbody tr th:only-of-type {\n",
       "        vertical-align: middle;\n",
       "    }\n",
       "\n",
       "    .dataframe tbody tr th {\n",
       "        vertical-align: top;\n",
       "    }\n",
       "\n",
       "    .dataframe thead th {\n",
       "        text-align: right;\n",
       "    }\n",
       "</style>\n",
       "<table border=\"1\" class=\"dataframe\">\n",
       "  <thead>\n",
       "    <tr style=\"text-align: right;\">\n",
       "      <th></th>\n",
       "      <th>title</th>\n",
       "      <th>release_date</th>\n",
       "      <th>genres</th>\n",
       "    </tr>\n",
       "  </thead>\n",
       "  <tbody>\n",
       "    <tr>\n",
       "      <th>7</th>\n",
       "      <td>Harry Potter and the Half-Blood Prince</td>\n",
       "      <td>2009-07-07</td>\n",
       "      <td>[Adventure, Fantasy, Family]</td>\n",
       "    </tr>\n",
       "    <tr>\n",
       "      <th>100</th>\n",
       "      <td>Harry Potter and the Order of the Phoenix</td>\n",
       "      <td>2007-06-28</td>\n",
       "      <td>[Adventure, Fantasy, Family, Mystery]</td>\n",
       "    </tr>\n",
       "    <tr>\n",
       "      <th>169</th>\n",
       "      <td>Harry Potter and the Prisoner of Azkaban</td>\n",
       "      <td>2004-05-31</td>\n",
       "      <td>[Adventure, Fantasy, Family]</td>\n",
       "    </tr>\n",
       "    <tr>\n",
       "      <th>174</th>\n",
       "      <td>Harry Potter and the Philosopher's Stone</td>\n",
       "      <td>2001-11-16</td>\n",
       "      <td>[Adventure, Fantasy, Family]</td>\n",
       "    </tr>\n",
       "    <tr>\n",
       "      <th>246</th>\n",
       "      <td>Harry Potter and the Chamber of Secrets</td>\n",
       "      <td>2002-11-13</td>\n",
       "      <td>[Adventure, Fantasy, Family]</td>\n",
       "    </tr>\n",
       "  </tbody>\n",
       "</table>\n",
       "</div>"
      ],
      "text/plain": [
       "                                         title release_date  \\\n",
       "7       Harry Potter and the Half-Blood Prince   2009-07-07   \n",
       "100  Harry Potter and the Order of the Phoenix   2007-06-28   \n",
       "169   Harry Potter and the Prisoner of Azkaban   2004-05-31   \n",
       "174   Harry Potter and the Philosopher's Stone   2001-11-16   \n",
       "246    Harry Potter and the Chamber of Secrets   2002-11-13   \n",
       "\n",
       "                                    genres  \n",
       "7             [Adventure, Fantasy, Family]  \n",
       "100  [Adventure, Fantasy, Family, Mystery]  \n",
       "169           [Adventure, Fantasy, Family]  \n",
       "174           [Adventure, Fantasy, Family]  \n",
       "246           [Adventure, Fantasy, Family]  "
      ]
     },
     "execution_count": 39,
     "metadata": {},
     "output_type": "execute_result"
    }
   ],
   "source": [
    "df_movies[df_movies.title.str.lower().str.contains(\"harry potter\")][[\"title\", \"release_date\", \"genres\"]]"
   ]
  },
  {
   "cell_type": "markdown",
   "metadata": {
    "slideshow": {
     "slide_type": "slide"
    }
   },
   "source": [
    "## Dataset \n",
    "\n",
    "______\n",
    "    - missing data\n",
    "        -- label missing\n",
    "        -- feature missing / abnormal"
   ]
  },
  {
   "cell_type": "code",
   "execution_count": 45,
   "metadata": {
    "slideshow": {
     "slide_type": "slide"
    }
   },
   "outputs": [
    {
     "data": {
      "text/plain": [
       "[('Drama', 1801),\n",
       " ('Comedy', 1442),\n",
       " ('Thriller', 1151),\n",
       " ('Action', 1025),\n",
       " ('Romance', 726),\n",
       " ('Adventure', 720),\n",
       " ('Crime', 627),\n",
       " ('Science Fiction', 488),\n",
       " ('Horror', 470),\n",
       " ('Family', 437),\n",
       " ('Fantasy', 388),\n",
       " ('Mystery', 316),\n",
       " ('Animation', 201),\n",
       " ('History', 153),\n",
       " ('Music', 149),\n",
       " ('War', 115),\n",
       " ('Western', 69),\n",
       " ('Documentary', 56),\n",
       " ('Foreign', 14),\n",
       " ('TV Movie', 3)]"
      ]
     },
     "execution_count": 45,
     "metadata": {},
     "output_type": "execute_result"
    }
   ],
   "source": [
    "genres_list"
   ]
  },
  {
   "cell_type": "code",
   "execution_count": 40,
   "metadata": {
    "slideshow": {
     "slide_type": "skip"
    }
   },
   "outputs": [],
   "source": [
    "df_movies = df_movies.drop(df_movies.loc[df_movies.runtime == 0].index)"
   ]
  },
  {
   "cell_type": "code",
   "execution_count": 41,
   "metadata": {
    "slideshow": {
     "slide_type": "skip"
    }
   },
   "outputs": [],
   "source": [
    "df_movies = df_movies.reset_index(drop=True)"
   ]
  },
  {
   "cell_type": "markdown",
   "metadata": {
    "slideshow": {
     "slide_type": "slide"
    }
   },
   "source": [
    "# Data processing and Feature engineering -- Text\n",
    "\n",
    "______\n",
    "\n",
    "\n",
    "\n",
    "\n",
    "## NLP for overview and sub-titles\n",
    "\n",
    "+ tokenization / lemmatizing\n",
    "+ TfidfVectorizer\n",
    "+ Doc2vec (Not pretrained vs Pretrained) PAINFUL\n",
    "\n",
    "## Tagline - do not use\n",
    "\n",
    "+ Tagline is too short for each movie, and has almost no overlap across movies\n",
    "+ Even, as a human, I cannot have a good guess of the movie genres reading only the tagline when I already know the movie.\n",
    "\n",
    "## Cast names -- CountVectorizer\n",
    "\n",
    "+ Concatenate Fisrt and Last Name\n",
    "\n",
    "\n"
   ]
  },
  {
   "cell_type": "markdown",
   "metadata": {
    "slideshow": {
     "slide_type": "slide"
    }
   },
   "source": [
    "# Data processing and Feature engineering -- Numeric\n",
    "\n",
    "______\n",
    "\n",
    "\n",
    "## Budget & Revenue - predict\n",
    "+ deal with abnormal values by predict with other information\n",
    "+ For these 107 movies with less than \\\\$100 budget and more than \\\\$10000 revenue, we use `revenue + overview + popularity + release_date` to predict the actual budget.\n",
    "+ For others whose revenue are below $10000, use `overview + popularity + release_date` to predict budget"
   ]
  },
  {
   "cell_type": "markdown",
   "metadata": {
    "slideshow": {
     "slide_type": "slide"
    }
   },
   "source": [
    "## Column transformation\n",
    "\n",
    "**Steps:**  \n",
    "+ Filter columns with specific filtering values\n",
    "+ **Convert** json-format cells to list\n",
    "+ **Create feature** Extract cast gender and calculate the proportion of female cast and male cast for each movie\n",
    "\n",
    "## Other features\n",
    "+ Production company\n",
    "+ Release date\n",
    "+ Popularity -- MinMax\n",
    "+ vote count -- MinMax\n",
    "+ vote\n"
   ]
  },
  {
   "cell_type": "code",
   "execution_count": 43,
   "metadata": {
    "slideshow": {
     "slide_type": "slide"
    }
   },
   "outputs": [
    {
     "data": {
      "text/html": [
       "<div>\n",
       "<style scoped>\n",
       "    .dataframe tbody tr th:only-of-type {\n",
       "        vertical-align: middle;\n",
       "    }\n",
       "\n",
       "    .dataframe tbody tr th {\n",
       "        vertical-align: top;\n",
       "    }\n",
       "\n",
       "    .dataframe thead th {\n",
       "        text-align: right;\n",
       "    }\n",
       "</style>\n",
       "<table border=\"1\" class=\"dataframe\">\n",
       "  <thead>\n",
       "    <tr style=\"text-align: right;\">\n",
       "      <th></th>\n",
       "      <th>id</th>\n",
       "      <th>budget</th>\n",
       "      <th>genres</th>\n",
       "      <th>keywords</th>\n",
       "      <th>original_language</th>\n",
       "      <th>overview</th>\n",
       "      <th>popularity</th>\n",
       "      <th>production_companies</th>\n",
       "      <th>production_countries</th>\n",
       "      <th>release_date</th>\n",
       "      <th>...</th>\n",
       "      <th>runtime</th>\n",
       "      <th>spoken_languages</th>\n",
       "      <th>tagline</th>\n",
       "      <th>title</th>\n",
       "      <th>vote_average</th>\n",
       "      <th>vote_count</th>\n",
       "      <th>cast</th>\n",
       "      <th>subtitles</th>\n",
       "      <th>female_pct</th>\n",
       "      <th>male_pct</th>\n",
       "    </tr>\n",
       "  </thead>\n",
       "  <tbody>\n",
       "    <tr>\n",
       "      <th>0</th>\n",
       "      <td>19995</td>\n",
       "      <td>237000000</td>\n",
       "      <td>[Action, Adventure, Fantasy, Science Fiction]</td>\n",
       "      <td>[future, alien, soldier, 3d]</td>\n",
       "      <td>en</td>\n",
       "      <td>In the 22nd century, a paraplegic Marine is di...</td>\n",
       "      <td>150.437577</td>\n",
       "      <td>[Ingenious Film Partners, Twentieth Century Fo...</td>\n",
       "      <td>[United States of America, United Kingdom]</td>\n",
       "      <td>2009-12-10</td>\n",
       "      <td>...</td>\n",
       "      <td>162.0</td>\n",
       "      <td>[English, Español]</td>\n",
       "      <td>Enter the World of Pandora.</td>\n",
       "      <td>Avatar</td>\n",
       "      <td>7.2</td>\n",
       "      <td>11800</td>\n",
       "      <td>[Sam Worthington, Zoe Saldana, Sigourney Weave...</td>\n",
       "      <td>When I was lying there\\nin the VA hospital,\\n\\...</td>\n",
       "      <td>0.374988</td>\n",
       "      <td>0.624980</td>\n",
       "    </tr>\n",
       "    <tr>\n",
       "      <th>1</th>\n",
       "      <td>285</td>\n",
       "      <td>300000000</td>\n",
       "      <td>[Adventure, Fantasy, Action]</td>\n",
       "      <td>[love of one's life, aftercreditsstinger]</td>\n",
       "      <td>en</td>\n",
       "      <td>Captain Barbossa, long believed to be dead, ha...</td>\n",
       "      <td>139.082615</td>\n",
       "      <td>[Walt Disney Pictures, Jerry Bruckheimer Films]</td>\n",
       "      <td>[United States of America]</td>\n",
       "      <td>2007-05-19</td>\n",
       "      <td>...</td>\n",
       "      <td>169.0</td>\n",
       "      <td>[English]</td>\n",
       "      <td>At the end of the world, the adventure begins.</td>\n",
       "      <td>Pirates of the Caribbean: At World's End</td>\n",
       "      <td>6.9</td>\n",
       "      <td>4500</td>\n",
       "      <td>[Johnny Depp, Orlando Bloom, Keira Knightley, ...</td>\n",
       "      <td>[man] \"ln order to affect a timely halt\\nto de...</td>\n",
       "      <td>0.166661</td>\n",
       "      <td>0.833306</td>\n",
       "    </tr>\n",
       "    <tr>\n",
       "      <th>2</th>\n",
       "      <td>206647</td>\n",
       "      <td>245000000</td>\n",
       "      <td>[Action, Adventure, Crime]</td>\n",
       "      <td>[spy, based on novel, sequel]</td>\n",
       "      <td>en</td>\n",
       "      <td>A cryptic message from Bond’s past sends him o...</td>\n",
       "      <td>107.376788</td>\n",
       "      <td>[Columbia Pictures, Danjaq]</td>\n",
       "      <td>[United Kingdom, United States of America]</td>\n",
       "      <td>2015-10-26</td>\n",
       "      <td>...</td>\n",
       "      <td>148.0</td>\n",
       "      <td>[Français, English, Español, Italiano, Deutsch]</td>\n",
       "      <td>A Plan No One Escapes</td>\n",
       "      <td>Spectre</td>\n",
       "      <td>6.3</td>\n",
       "      <td>4466</td>\n",
       "      <td>[Daniel Craig, Christoph Waltz, Léa Seydoux, R...</td>\n",
       "      <td>Where are you going?\\n\\nI won't be long.\\n\\nWe...</td>\n",
       "      <td>0.191174</td>\n",
       "      <td>0.808812</td>\n",
       "    </tr>\n",
       "  </tbody>\n",
       "</table>\n",
       "<p>3 rows × 21 columns</p>\n",
       "</div>"
      ],
      "text/plain": [
       "       id     budget                                         genres  \\\n",
       "0   19995  237000000  [Action, Adventure, Fantasy, Science Fiction]   \n",
       "1     285  300000000                   [Adventure, Fantasy, Action]   \n",
       "2  206647  245000000                     [Action, Adventure, Crime]   \n",
       "\n",
       "                                    keywords original_language  \\\n",
       "0               [future, alien, soldier, 3d]                en   \n",
       "1  [love of one's life, aftercreditsstinger]                en   \n",
       "2              [spy, based on novel, sequel]                en   \n",
       "\n",
       "                                            overview  popularity  \\\n",
       "0  In the 22nd century, a paraplegic Marine is di...  150.437577   \n",
       "1  Captain Barbossa, long believed to be dead, ha...  139.082615   \n",
       "2  A cryptic message from Bond’s past sends him o...  107.376788   \n",
       "\n",
       "                                production_companies  \\\n",
       "0  [Ingenious Film Partners, Twentieth Century Fo...   \n",
       "1    [Walt Disney Pictures, Jerry Bruckheimer Films]   \n",
       "2                        [Columbia Pictures, Danjaq]   \n",
       "\n",
       "                         production_countries release_date    ...     runtime  \\\n",
       "0  [United States of America, United Kingdom]   2009-12-10    ...       162.0   \n",
       "1                  [United States of America]   2007-05-19    ...       169.0   \n",
       "2  [United Kingdom, United States of America]   2015-10-26    ...       148.0   \n",
       "\n",
       "                                  spoken_languages  \\\n",
       "0                               [English, Español]   \n",
       "1                                        [English]   \n",
       "2  [Français, English, Español, Italiano, Deutsch]   \n",
       "\n",
       "                                          tagline  \\\n",
       "0                     Enter the World of Pandora.   \n",
       "1  At the end of the world, the adventure begins.   \n",
       "2                           A Plan No One Escapes   \n",
       "\n",
       "                                      title vote_average  vote_count  \\\n",
       "0                                    Avatar          7.2       11800   \n",
       "1  Pirates of the Caribbean: At World's End          6.9        4500   \n",
       "2                                   Spectre          6.3        4466   \n",
       "\n",
       "                                                cast  \\\n",
       "0  [Sam Worthington, Zoe Saldana, Sigourney Weave...   \n",
       "1  [Johnny Depp, Orlando Bloom, Keira Knightley, ...   \n",
       "2  [Daniel Craig, Christoph Waltz, Léa Seydoux, R...   \n",
       "\n",
       "                                           subtitles female_pct  male_pct  \n",
       "0  When I was lying there\\nin the VA hospital,\\n\\...   0.374988  0.624980  \n",
       "1  [man] \"ln order to affect a timely halt\\nto de...   0.166661  0.833306  \n",
       "2  Where are you going?\\n\\nI won't be long.\\n\\nWe...   0.191174  0.808812  \n",
       "\n",
       "[3 rows x 21 columns]"
      ]
     },
     "execution_count": 43,
     "metadata": {},
     "output_type": "execute_result"
    }
   ],
   "source": [
    "df_movies.head(3)"
   ]
  },
  {
   "cell_type": "code",
   "execution_count": 48,
   "metadata": {
    "slideshow": {
     "slide_type": "skip"
    }
   },
   "outputs": [],
   "source": [
    "from sklearn.feature_extraction.text import TfidfVectorizer\n",
    "\n",
    "df_movies = df_movies.loc[df_movies.overview.apply(lambda x: len(x) > 10)]\n",
    "# df_movies = df_movies.reset_index(drop=True)\n",
    "\n",
    "tfidf = TfidfVectorizer(stop_words='english', binary=True,\n",
    "                        ngram_range=(1, 2), min_df=0.001)\n",
    "overview_vec = tfidf.fit_transform(df_movies['overview'])\n",
    "\n",
    "overview = pd.DataFrame(overview_vec.toarray(), columns=tfidf.get_feature_names()).add_prefix('ov_')\n",
    "# overview_vec = overview_vec.todense()"
   ]
  },
  {
   "cell_type": "code",
   "execution_count": 49,
   "metadata": {
    "slideshow": {
     "slide_type": "skip"
    }
   },
   "outputs": [],
   "source": [
    "import re\n",
    "import nltk\n",
    "import string\n",
    "from sklearn.feature_extraction.text import TfidfVectorizer\n",
    "from sklearn.feature_extraction.text import ENGLISH_STOP_WORDS\n",
    "from nltk.stem.porter import *"
   ]
  },
  {
   "cell_type": "code",
   "execution_count": 50,
   "metadata": {
    "slideshow": {
     "slide_type": "skip"
    }
   },
   "outputs": [],
   "source": [
    "df_movies = df_movies.loc[df_movies.overview.apply(lambda x: len(x) > 10)]\n",
    "# df_movies = df_movies.reset_index(drop=True)\n",
    "\n",
    "tfidf = TfidfVectorizer(tokenizer=tokenize,stop_words='english', binary=True,\n",
    "                        ngram_range=(1, 2), min_df=0.001)\n",
    "overview_vec = tfidf.fit_transform(df_movies['overview'])\n",
    "\n",
    "overview_docvecs = pd.DataFrame(overview_vec.toarray(), columns=tfidf.get_feature_names()).add_prefix('ov_')\n",
    "# overview_vec = overview_vec.todense()"
   ]
  },
  {
   "cell_type": "code",
   "execution_count": 52,
   "metadata": {
    "slideshow": {
     "slide_type": "skip"
    }
   },
   "outputs": [],
   "source": [
    "def text_to_words(text):\n",
    "    # remove punctuation and whitespace\n",
    "    # but keep hyphens and apostrophes\n",
    "    filtered_text = re.sub(r'[^\\w\\'\\s-]',\n",
    "                           '', text) \n",
    "    return word_tokenize(filtered_text.lower())"
   ]
  },
  {
   "cell_type": "code",
   "execution_count": 53,
   "metadata": {
    "slideshow": {
     "slide_type": "skip"
    }
   },
   "outputs": [
    {
     "name": "stdout",
     "output_type": "stream",
     "text": [
      "CPU times: user 1min 13s, sys: 797 ms, total: 1min 14s\n",
      "Wall time: 1min 15s\n"
     ]
    }
   ],
   "source": [
    "idxs = df_movies.id.tolist()\n",
    "%time sub_words = [text_to_words(text) for text in df_movies.subtitles.tolist()]\n",
    "subs = dict(zip(idxs, sub_words))"
   ]
  },
  {
   "cell_type": "code",
   "execution_count": 54,
   "metadata": {
    "slideshow": {
     "slide_type": "skip"
    }
   },
   "outputs": [
    {
     "name": "stdout",
     "output_type": "stream",
     "text": [
      "CPU times: user 309 ms, sys: 3.98 ms, total: 313 ms\n",
      "Wall time: 320 ms\n"
     ]
    }
   ],
   "source": [
    "%time tagged_data = [TaggedDocument(words=word_list, tags=[index]) for index, word_list in subs.items()]"
   ]
  },
  {
   "cell_type": "code",
   "execution_count": 55,
   "metadata": {
    "slideshow": {
     "slide_type": "skip"
    }
   },
   "outputs": [
    {
     "name": "stdout",
     "output_type": "stream",
     "text": [
      "CPU times: user 9.4 s, sys: 60.3 ms, total: 9.46 s\n",
      "Wall time: 9.5 s\n"
     ]
    }
   ],
   "source": [
    "model = Doc2Vec(vector_size=50, min_count=2, workers=4)\n",
    "%time model.build_vocab(tagged_data)"
   ]
  },
  {
   "cell_type": "code",
   "execution_count": 56,
   "metadata": {
    "slideshow": {
     "slide_type": "skip"
    }
   },
   "outputs": [
    {
     "name": "stdout",
     "output_type": "stream",
     "text": [
      "CPU times: user 3min 31s, sys: 1.26 s, total: 3min 32s\n",
      "Wall time: 1min 9s\n"
     ]
    }
   ],
   "source": [
    "%time model.train(tagged_data, total_examples=model.corpus_count, epochs=model.epochs)"
   ]
  },
  {
   "cell_type": "code",
   "execution_count": 57,
   "metadata": {
    "slideshow": {
     "slide_type": "skip"
    }
   },
   "outputs": [
    {
     "name": "stdout",
     "output_type": "stream",
     "text": [
      "CPU times: user 5.56 s, sys: 45.2 ms, total: 5.6 s\n",
      "Wall time: 5.71 s\n"
     ]
    }
   ],
   "source": [
    "word2vec = Word2Vec(size=50)\n",
    "%time word2vec.build_vocab([word for text in tagged_data for word in text])"
   ]
  },
  {
   "cell_type": "code",
   "execution_count": 58,
   "metadata": {
    "slideshow": {
     "slide_type": "skip"
    }
   },
   "outputs": [
    {
     "name": "stdout",
     "output_type": "stream",
     "text": [
      "CPU times: user 12.9 s, sys: 130 ms, total: 13 s\n",
      "Wall time: 13.2 s\n"
     ]
    }
   ],
   "source": [
    "glove_path = \"/Users/jessica/GitHub_repo/tmdb/dataset/glove.6B.50d.word2vec.txt\"\n",
    "%time word2vec.intersect_word2vec_format(glove_path, lockf=1.0, binary=False, encoding='utf8', unicode_errors='strict')"
   ]
  },
  {
   "cell_type": "code",
   "execution_count": 59,
   "metadata": {
    "slideshow": {
     "slide_type": "skip"
    }
   },
   "outputs": [
    {
     "name": "stdout",
     "output_type": "stream",
     "text": [
      "CPU times: user 3min 25s, sys: 1.22 s, total: 3min 26s\n",
      "Wall time: 1min 7s\n"
     ]
    }
   ],
   "source": [
    "model_pretrained = Doc2Vec(vector_size=50, min_count=2, workers=4)\n",
    "model_pretrained.build_vocab(tagged_data)\n",
    "model_pretrained.wv = word2vec.wv\n",
    "%time model_pretrained.train(tagged_data, total_examples=model.corpus_count, epochs=model.epochs)"
   ]
  },
  {
   "cell_type": "code",
   "execution_count": 60,
   "metadata": {
    "slideshow": {
     "slide_type": "skip"
    }
   },
   "outputs": [],
   "source": [
    "def infer_docvecs(df):\n",
    "    docvecs = []\n",
    "    for index in tqdm(df.id.tolist()):\n",
    "        word_list = subs[index]\n",
    "        vec = model_pretrained.infer_vector(word_list, steps=20)\n",
    "        docvecs.append(vec)\n",
    "    docvecs = np.array(docvecs, dtype=np.float32)\n",
    "    return docvecs"
   ]
  },
  {
   "cell_type": "code",
   "execution_count": 61,
   "metadata": {
    "slideshow": {
     "slide_type": "skip"
    }
   },
   "outputs": [
    {
     "name": "stderr",
     "output_type": "stream",
     "text": [
      "100%|██████████| 3036/3036 [08:10<00:00,  6.19it/s]\n"
     ]
    },
    {
     "data": {
      "text/plain": [
       "(3036, 50)"
      ]
     },
     "execution_count": 61,
     "metadata": {},
     "output_type": "execute_result"
    }
   ],
   "source": [
    "movies_docvecs = infer_docvecs(df_movies)\n",
    "movies_docvecs.shape"
   ]
  },
  {
   "cell_type": "code",
   "execution_count": 62,
   "metadata": {
    "slideshow": {
     "slide_type": "skip"
    }
   },
   "outputs": [],
   "source": [
    "from sklearn.feature_extraction.text import CountVectorizer\n",
    "\n",
    "# concatenate names and join the list of names to a string\n",
    "df_movies['cast'] = df_movies['cast'].apply(concat_names).apply(list2str)\n",
    "\n",
    "vectorizer = CountVectorizer(ngram_range=(1, 1))\n",
    "cast_vect = vectorizer.fit_transform(df_movies['cast'])\n",
    "\n",
    "cast = pd.DataFrame(cast_vect.todense(), columns=vectorizer.get_feature_names()).add_prefix('cast_')"
   ]
  },
  {
   "cell_type": "code",
   "execution_count": 63,
   "metadata": {
    "slideshow": {
     "slide_type": "skip"
    }
   },
   "outputs": [
    {
     "name": "stderr",
     "output_type": "stream",
     "text": [
      "/Users/jessica/anaconda3/envs/ml/lib/python3.6/site-packages/sklearn/ensemble/forest.py:248: FutureWarning: The default value of n_estimators will change from 10 in version 0.20 to 100 in 0.22.\n",
      "  \"10 in version 0.20 to 100 in 0.22.\", FutureWarning)\n"
     ]
    }
   ],
   "source": [
    "from sklearn import ensemble\n",
    "\n",
    "\n",
    "def predict_budget1(dataset):\n",
    "    \"\"\"Predict budget of movies with less than $100 budget and more than $10000 revenue\"\"\"\n",
    "    data_p = dataset[['revenue', 'popularity', 'budget']]\n",
    "    data_p = pd.concat([data_p, overview_docvecs], axis=1)\n",
    "\n",
    "    x_train = data_p.loc[~(data_p.budget < 100) & (\n",
    "        data_p.revenue > 10000)].drop('budget', 1)\n",
    "    y_train = data_p.loc[~(data_p.budget < 100) &\n",
    "                         (data_p.revenue > 10000)]['budget']\n",
    "    x_test = data_p.loc[(data_p.budget < 100) & (\n",
    "        data_p.revenue > 10000)].drop('budget', 1)\n",
    "\n",
    "    rfr = ensemble.RandomForestRegressor(random_state=42)\n",
    "    rfr.fit(x_train, y_train)\n",
    "\n",
    "    y_test = rfr.predict(x_test)\n",
    "    return y_test\n",
    "\n",
    "\n",
    "df_movies.loc[(df_movies.budget < 100) & \n",
    "              (df_movies.revenue > 10000), 'budget'] = predict_budget1(df_movies)"
   ]
  },
  {
   "cell_type": "code",
   "execution_count": 64,
   "metadata": {
    "slideshow": {
     "slide_type": "skip"
    }
   },
   "outputs": [
    {
     "name": "stderr",
     "output_type": "stream",
     "text": [
      "/Users/jessica/anaconda3/envs/ml/lib/python3.6/site-packages/sklearn/ensemble/forest.py:248: FutureWarning: The default value of n_estimators will change from 10 in version 0.20 to 100 in 0.22.\n",
      "  \"10 in version 0.20 to 100 in 0.22.\", FutureWarning)\n"
     ]
    }
   ],
   "source": [
    "def predict_budget2(dataset):\n",
    "    \"\"\"Predict budget of movies with less than $100 budget and less than $10000 revenue\"\"\"\n",
    "    data_p = dataset[['popularity', 'budget']]\n",
    "    data_p = pd.concat([data_p, overview_docvecs], axis=1)\n",
    "\n",
    "    x_train = data_p.loc[~(data_p.budget < 100)].drop('budget', 1)\n",
    "    y_train = data_p.loc[~(data_p.budget < 100)]['budget']\n",
    "    x_test = data_p.loc[(data_p.budget < 100) & (\n",
    "        df_movies.revenue <= 10000)].drop('budget', 1)\n",
    "\n",
    "    rfr = ensemble.RandomForestRegressor(random_state=42)\n",
    "    rfr.fit(x_train, y_train)\n",
    "#     print(x_test.shape)\n",
    "    y_test = rfr.predict(x_test)\n",
    "    return y_test\n",
    "\n",
    "\n",
    "df_movies.loc[(df_movies.budget < 100) & (df_movies.revenue <=\n",
    "                                          10000), 'budget'] = predict_budget2(df_movies)"
   ]
  },
  {
   "cell_type": "code",
   "execution_count": 65,
   "metadata": {
    "slideshow": {
     "slide_type": "skip"
    }
   },
   "outputs": [
    {
     "data": {
      "text/plain": [
       "[('duringcreditsstinger', 252),\n",
       " ('woman director', 182),\n",
       " ('independent film', 155),\n",
       " ('based on novel', 146),\n",
       " ('aftercreditsstinger', 138),\n",
       " ('murder', 136),\n",
       " ('violence', 111),\n",
       " ('dystopia', 109),\n",
       " ('revenge', 89),\n",
       " ('sport', 86),\n",
       " ('3d', 81),\n",
       " ('sequel', 79),\n",
       " ('friendship', 78),\n",
       " ('teenager', 74),\n",
       " ('sex', 73),\n",
       " ('musical', 70),\n",
       " ('suspense', 67),\n",
       " ('los angeles', 66),\n",
       " ('love', 63),\n",
       " ('new york', 62),\n",
       " ('high school', 62),\n",
       " ('alien', 60),\n",
       " ('superhero', 59),\n",
       " ('biography', 58),\n",
       " ('family', 54),\n",
       " ('police', 53),\n",
       " ('remake', 50),\n",
       " ('prison', 48),\n",
       " ('nudity', 48),\n",
       " ('drug', 48),\n",
       " ('based on comic book', 47),\n",
       " ('dying and death', 47),\n",
       " ('corruption', 46),\n",
       " ('serial killer', 46),\n",
       " ('airplane', 43),\n",
       " ('wedding', 43),\n",
       " ('magic', 42),\n",
       " ('father son relationship', 42),\n",
       " ('fbi', 42),\n",
       " ('friends', 41),\n",
       " ('london england', 41),\n",
       " ('daughter', 40),\n",
       " ('time travel', 40),\n",
       " ('party', 40),\n",
       " ('lawyer', 39),\n",
       " ('based on young adult novel', 38),\n",
       " ('cia', 38),\n",
       " ('brother brother relationship', 37),\n",
       " ('kidnapping', 37),\n",
       " ('suicide', 37),\n",
       " ('hospital', 36),\n",
       " ('survival', 36),\n",
       " ('investigation', 36),\n",
       " ('escape', 35),\n",
       " ('best friend', 35),\n",
       " ('vampire', 35),\n",
       " ('witch', 34),\n",
       " ('world war ii', 34),\n",
       " ('blood', 34),\n",
       " ('undercover', 33),\n",
       " ('fight', 33),\n",
       " ('christmas', 33),\n",
       " ('rescue', 33),\n",
       " ('martial arts', 33),\n",
       " ('small town', 33),\n",
       " ('marvel comic', 32),\n",
       " ('assassin', 32),\n",
       " ('flashback', 32),\n",
       " ('future', 31),\n",
       " ('conspiracy', 31),\n",
       " ('shootout', 31),\n",
       " ('female nudity', 31),\n",
       " (\"love of one's life\", 30),\n",
       " ('spy', 30),\n",
       " ('terrorist', 30),\n",
       " ('secret', 30),\n",
       " ('explosion', 30),\n",
       " ('music', 30),\n",
       " ('saving the world', 29),\n",
       " ('new love', 29),\n",
       " ('secret identity', 28),\n",
       " ('death', 28),\n",
       " ('college', 28),\n",
       " ('dream', 28),\n",
       " ('dog', 28),\n",
       " ('rape', 28),\n",
       " ('robbery', 28),\n",
       " ('new york city', 28),\n",
       " ('based on true story', 28),\n",
       " ('gore', 28),\n",
       " ('fbi agent', 28),\n",
       " ('soldier', 27),\n",
       " ('monster', 27),\n",
       " ('war', 27),\n",
       " ('zombie', 27),\n",
       " ('holiday', 27),\n",
       " ('money', 27),\n",
       " ('ghost', 27),\n",
       " ('jealousy', 27),\n",
       " ('hitman', 27),\n",
       " ('journalist', 27),\n",
       " ('detective', 27),\n",
       " ('blackmail', 27),\n",
       " ('marriage', 26),\n",
       " ('wife husband relationship', 26),\n",
       " ('competition', 26),\n",
       " ('helicopter', 26),\n",
       " ('sister sister relationship', 26),\n",
       " ('obsession', 25),\n",
       " ('alcohol', 25),\n",
       " ('usa president', 25),\n",
       " ('divorce', 25),\n",
       " ('slasher', 25),\n",
       " ('gay', 25),\n",
       " ('scientist', 24),\n",
       " ('england', 23),\n",
       " ('teacher', 23),\n",
       " ('hotel', 23),\n",
       " ('romantic comedy', 23),\n",
       " ('chase', 22),\n",
       " ('prostitute', 22),\n",
       " ('paris', 21),\n",
       " ('adultery', 21),\n",
       " ('gangster', 19)]"
      ]
     },
     "execution_count": 65,
     "metadata": {},
     "output_type": "execute_result"
    }
   ],
   "source": [
    "kw_all = defaultdict(int)\n",
    "\n",
    "for cell in df_movies.keywords:\n",
    "    for kw in cell:\n",
    "        kw_all[kw] += 1\n",
    "\n",
    "#print(len(kw_all))\n",
    "sorted(kw_all.items(), key=lambda x: x[1], reverse=True)"
   ]
  },
  {
   "cell_type": "code",
   "execution_count": 66,
   "metadata": {
    "slideshow": {
     "slide_type": "skip"
    }
   },
   "outputs": [],
   "source": [
    "from sklearn.preprocessing import MultiLabelBinarizer\n",
    "mlb = MultiLabelBinarizer()\n",
    "\n",
    "keywords_dummies = pd.DataFrame(mlb.fit_transform(\n",
    "    df_movies['keywords']), columns=mlb.classes_).add_prefix('kw_')"
   ]
  },
  {
   "cell_type": "code",
   "execution_count": 67,
   "metadata": {
    "slideshow": {
     "slide_type": "skip"
    }
   },
   "outputs": [],
   "source": [
    "prod_com = pd.DataFrame(mlb.fit_transform(\n",
    "    df_movies['production_companies']), columns=mlb.classes_).add_prefix('prodComp_')"
   ]
  },
  {
   "cell_type": "code",
   "execution_count": 68,
   "metadata": {
    "slideshow": {
     "slide_type": "skip"
    }
   },
   "outputs": [],
   "source": [
    "prod_coun = pd.DataFrame(mlb.fit_transform(\n",
    "    df_movies['production_countries']), columns=mlb.classes_).add_prefix('prodComp_')"
   ]
  },
  {
   "cell_type": "code",
   "execution_count": 69,
   "metadata": {
    "slideshow": {
     "slide_type": "skip"
    }
   },
   "outputs": [],
   "source": [
    "# df_movies['year_bucket'] = \n",
    "years = pd.get_dummies(df_movies.apply(lambda row: str(row.release_date)[:3], axis=1))\n",
    "years['before97'] = years.iloc[:,:6].sum(axis=1)\n",
    "years = years.iloc[:,6:]"
   ]
  },
  {
   "cell_type": "code",
   "execution_count": 70,
   "metadata": {
    "slideshow": {
     "slide_type": "skip"
    }
   },
   "outputs": [],
   "source": [
    "df_movies.loc[df_movies['vote_average']==0, 'vote_average'] = df_movies.loc[df_movies['vote_average']!=0].vote_average.mean()\n",
    "df_movies.loc[df_movies['vote_count']==0, 'vote_count'] = df_movies.loc[df_movies['vote_count']!=0].vote_count.mean()"
   ]
  },
  {
   "cell_type": "code",
   "execution_count": 71,
   "metadata": {
    "slideshow": {
     "slide_type": "skip"
    }
   },
   "outputs": [],
   "source": [
    "df_movies = df_movies.reset_index(drop=True)"
   ]
  },
  {
   "cell_type": "code",
   "execution_count": 72,
   "metadata": {
    "slideshow": {
     "slide_type": "slide"
    }
   },
   "outputs": [
    {
     "data": {
      "text/html": [
       "<div>\n",
       "<style scoped>\n",
       "    .dataframe tbody tr th:only-of-type {\n",
       "        vertical-align: middle;\n",
       "    }\n",
       "\n",
       "    .dataframe tbody tr th {\n",
       "        vertical-align: top;\n",
       "    }\n",
       "\n",
       "    .dataframe thead th {\n",
       "        text-align: right;\n",
       "    }\n",
       "</style>\n",
       "<table border=\"1\" class=\"dataframe\">\n",
       "  <thead>\n",
       "    <tr style=\"text-align: right;\">\n",
       "      <th></th>\n",
       "      <th>id</th>\n",
       "      <th>budget</th>\n",
       "      <th>genres</th>\n",
       "      <th>keywords</th>\n",
       "      <th>original_language</th>\n",
       "      <th>overview</th>\n",
       "      <th>popularity</th>\n",
       "      <th>production_companies</th>\n",
       "      <th>production_countries</th>\n",
       "      <th>release_date</th>\n",
       "      <th>...</th>\n",
       "      <th>runtime</th>\n",
       "      <th>spoken_languages</th>\n",
       "      <th>tagline</th>\n",
       "      <th>title</th>\n",
       "      <th>vote_average</th>\n",
       "      <th>vote_count</th>\n",
       "      <th>cast</th>\n",
       "      <th>subtitles</th>\n",
       "      <th>female_pct</th>\n",
       "      <th>male_pct</th>\n",
       "    </tr>\n",
       "  </thead>\n",
       "  <tbody>\n",
       "    <tr>\n",
       "      <th>0</th>\n",
       "      <td>19995</td>\n",
       "      <td>237000000.0</td>\n",
       "      <td>[Action, Adventure, Fantasy, Science Fiction]</td>\n",
       "      <td>[future, alien, soldier, 3d]</td>\n",
       "      <td>en</td>\n",
       "      <td>In the 22nd century, a paraplegic Marine is di...</td>\n",
       "      <td>150.437577</td>\n",
       "      <td>[Ingenious Film Partners, Twentieth Century Fo...</td>\n",
       "      <td>[United States of America, United Kingdom]</td>\n",
       "      <td>2009-12-10</td>\n",
       "      <td>...</td>\n",
       "      <td>162.0</td>\n",
       "      <td>[English, Español]</td>\n",
       "      <td>Enter the World of Pandora.</td>\n",
       "      <td>Avatar</td>\n",
       "      <td>7.2</td>\n",
       "      <td>11800.0</td>\n",
       "      <td>SamWorthington ZoeSaldana SigourneyWeaver Step...</td>\n",
       "      <td>When I was lying there\\nin the VA hospital,\\n\\...</td>\n",
       "      <td>0.374988</td>\n",
       "      <td>0.624980</td>\n",
       "    </tr>\n",
       "    <tr>\n",
       "      <th>1</th>\n",
       "      <td>285</td>\n",
       "      <td>300000000.0</td>\n",
       "      <td>[Adventure, Fantasy, Action]</td>\n",
       "      <td>[love of one's life, aftercreditsstinger]</td>\n",
       "      <td>en</td>\n",
       "      <td>Captain Barbossa, long believed to be dead, ha...</td>\n",
       "      <td>139.082615</td>\n",
       "      <td>[Walt Disney Pictures, Jerry Bruckheimer Films]</td>\n",
       "      <td>[United States of America]</td>\n",
       "      <td>2007-05-19</td>\n",
       "      <td>...</td>\n",
       "      <td>169.0</td>\n",
       "      <td>[English]</td>\n",
       "      <td>At the end of the world, the adventure begins.</td>\n",
       "      <td>Pirates of the Caribbean: At World's End</td>\n",
       "      <td>6.9</td>\n",
       "      <td>4500.0</td>\n",
       "      <td>JohnnyDepp OrlandoBloom KeiraKnightley Stellan...</td>\n",
       "      <td>[man] \"ln order to affect a timely halt\\nto de...</td>\n",
       "      <td>0.166661</td>\n",
       "      <td>0.833306</td>\n",
       "    </tr>\n",
       "    <tr>\n",
       "      <th>2</th>\n",
       "      <td>206647</td>\n",
       "      <td>245000000.0</td>\n",
       "      <td>[Action, Adventure, Crime]</td>\n",
       "      <td>[spy, based on novel, sequel]</td>\n",
       "      <td>en</td>\n",
       "      <td>A cryptic message from Bond’s past sends him o...</td>\n",
       "      <td>107.376788</td>\n",
       "      <td>[Columbia Pictures, Danjaq]</td>\n",
       "      <td>[United Kingdom, United States of America]</td>\n",
       "      <td>2015-10-26</td>\n",
       "      <td>...</td>\n",
       "      <td>148.0</td>\n",
       "      <td>[Français, English, Español, Italiano, Deutsch]</td>\n",
       "      <td>A Plan No One Escapes</td>\n",
       "      <td>Spectre</td>\n",
       "      <td>6.3</td>\n",
       "      <td>4466.0</td>\n",
       "      <td>DanielCraig ChristophWaltz LéaSeydoux RalphFie...</td>\n",
       "      <td>Where are you going?\\n\\nI won't be long.\\n\\nWe...</td>\n",
       "      <td>0.191174</td>\n",
       "      <td>0.808812</td>\n",
       "    </tr>\n",
       "    <tr>\n",
       "      <th>3</th>\n",
       "      <td>49026</td>\n",
       "      <td>250000000.0</td>\n",
       "      <td>[Action, Crime, Drama, Thriller]</td>\n",
       "      <td>[terrorist, secret identity, superhero]</td>\n",
       "      <td>en</td>\n",
       "      <td>Following the death of District Attorney Harve...</td>\n",
       "      <td>112.312950</td>\n",
       "      <td>[Legendary Pictures, Warner Bros., DC Entertai...</td>\n",
       "      <td>[United States of America]</td>\n",
       "      <td>2012-07-16</td>\n",
       "      <td>...</td>\n",
       "      <td>165.0</td>\n",
       "      <td>[English]</td>\n",
       "      <td>The Legend Ends</td>\n",
       "      <td>The Dark Knight Rises</td>\n",
       "      <td>7.6</td>\n",
       "      <td>9106.0</td>\n",
       "      <td>ChristianBale MichaelCaine GaryOldman AnneHath...</td>\n",
       "      <td>I knew Harvey Dent.\\n\\nI was his friend.\\n\\nAn...</td>\n",
       "      <td>0.130951</td>\n",
       "      <td>0.869037</td>\n",
       "    </tr>\n",
       "    <tr>\n",
       "      <th>4</th>\n",
       "      <td>49529</td>\n",
       "      <td>260000000.0</td>\n",
       "      <td>[Action, Adventure, Science Fiction]</td>\n",
       "      <td>[based on novel, alien, escape, 3d]</td>\n",
       "      <td>en</td>\n",
       "      <td>John Carter is a war-weary, former military ca...</td>\n",
       "      <td>43.926995</td>\n",
       "      <td>[Walt Disney Pictures]</td>\n",
       "      <td>[United States of America]</td>\n",
       "      <td>2012-03-07</td>\n",
       "      <td>...</td>\n",
       "      <td>132.0</td>\n",
       "      <td>[English]</td>\n",
       "      <td>Lost in our world, found in another.</td>\n",
       "      <td>John Carter</td>\n",
       "      <td>6.1</td>\n",
       "      <td>2124.0</td>\n",
       "      <td>TaylorKitsch LynnCollins SamanthaMorton Willem...</td>\n",
       "      <td>Subtitles downloaded from Podnapisi.NET\\n\\nMar...</td>\n",
       "      <td>0.239990</td>\n",
       "      <td>0.759970</td>\n",
       "    </tr>\n",
       "  </tbody>\n",
       "</table>\n",
       "<p>5 rows × 21 columns</p>\n",
       "</div>"
      ],
      "text/plain": [
       "       id       budget                                         genres  \\\n",
       "0   19995  237000000.0  [Action, Adventure, Fantasy, Science Fiction]   \n",
       "1     285  300000000.0                   [Adventure, Fantasy, Action]   \n",
       "2  206647  245000000.0                     [Action, Adventure, Crime]   \n",
       "3   49026  250000000.0               [Action, Crime, Drama, Thriller]   \n",
       "4   49529  260000000.0           [Action, Adventure, Science Fiction]   \n",
       "\n",
       "                                    keywords original_language  \\\n",
       "0               [future, alien, soldier, 3d]                en   \n",
       "1  [love of one's life, aftercreditsstinger]                en   \n",
       "2              [spy, based on novel, sequel]                en   \n",
       "3    [terrorist, secret identity, superhero]                en   \n",
       "4        [based on novel, alien, escape, 3d]                en   \n",
       "\n",
       "                                            overview  popularity  \\\n",
       "0  In the 22nd century, a paraplegic Marine is di...  150.437577   \n",
       "1  Captain Barbossa, long believed to be dead, ha...  139.082615   \n",
       "2  A cryptic message from Bond’s past sends him o...  107.376788   \n",
       "3  Following the death of District Attorney Harve...  112.312950   \n",
       "4  John Carter is a war-weary, former military ca...   43.926995   \n",
       "\n",
       "                                production_companies  \\\n",
       "0  [Ingenious Film Partners, Twentieth Century Fo...   \n",
       "1    [Walt Disney Pictures, Jerry Bruckheimer Films]   \n",
       "2                        [Columbia Pictures, Danjaq]   \n",
       "3  [Legendary Pictures, Warner Bros., DC Entertai...   \n",
       "4                             [Walt Disney Pictures]   \n",
       "\n",
       "                         production_countries release_date    ...     runtime  \\\n",
       "0  [United States of America, United Kingdom]   2009-12-10    ...       162.0   \n",
       "1                  [United States of America]   2007-05-19    ...       169.0   \n",
       "2  [United Kingdom, United States of America]   2015-10-26    ...       148.0   \n",
       "3                  [United States of America]   2012-07-16    ...       165.0   \n",
       "4                  [United States of America]   2012-03-07    ...       132.0   \n",
       "\n",
       "                                  spoken_languages  \\\n",
       "0                               [English, Español]   \n",
       "1                                        [English]   \n",
       "2  [Français, English, Español, Italiano, Deutsch]   \n",
       "3                                        [English]   \n",
       "4                                        [English]   \n",
       "\n",
       "                                          tagline  \\\n",
       "0                     Enter the World of Pandora.   \n",
       "1  At the end of the world, the adventure begins.   \n",
       "2                           A Plan No One Escapes   \n",
       "3                                 The Legend Ends   \n",
       "4            Lost in our world, found in another.   \n",
       "\n",
       "                                      title vote_average  vote_count  \\\n",
       "0                                    Avatar          7.2     11800.0   \n",
       "1  Pirates of the Caribbean: At World's End          6.9      4500.0   \n",
       "2                                   Spectre          6.3      4466.0   \n",
       "3                     The Dark Knight Rises          7.6      9106.0   \n",
       "4                               John Carter          6.1      2124.0   \n",
       "\n",
       "                                                cast  \\\n",
       "0  SamWorthington ZoeSaldana SigourneyWeaver Step...   \n",
       "1  JohnnyDepp OrlandoBloom KeiraKnightley Stellan...   \n",
       "2  DanielCraig ChristophWaltz LéaSeydoux RalphFie...   \n",
       "3  ChristianBale MichaelCaine GaryOldman AnneHath...   \n",
       "4  TaylorKitsch LynnCollins SamanthaMorton Willem...   \n",
       "\n",
       "                                           subtitles female_pct  male_pct  \n",
       "0  When I was lying there\\nin the VA hospital,\\n\\...   0.374988  0.624980  \n",
       "1  [man] \"ln order to affect a timely halt\\nto de...   0.166661  0.833306  \n",
       "2  Where are you going?\\n\\nI won't be long.\\n\\nWe...   0.191174  0.808812  \n",
       "3  I knew Harvey Dent.\\n\\nI was his friend.\\n\\nAn...   0.130951  0.869037  \n",
       "4  Subtitles downloaded from Podnapisi.NET\\n\\nMar...   0.239990  0.759970  \n",
       "\n",
       "[5 rows x 21 columns]"
      ]
     },
     "execution_count": 72,
     "metadata": {},
     "output_type": "execute_result"
    }
   ],
   "source": [
    "df_movies.head(5)"
   ]
  },
  {
   "cell_type": "markdown",
   "metadata": {
    "slideshow": {
     "slide_type": "slide"
    }
   },
   "source": [
    "## Data processing/Feature engineering \n",
    "\n",
    "**At the end, we got**:\n",
    "\n",
    "\n",
    "**Features** :  \n",
    "+ **numeric**: budget, revenue, female_pct, male_pct, runtime \n",
    "+ **text(vectorized)**: keywords, overview, cast(names)\n",
    "\n",
    "**Labels**:  \n",
    "+ 20 genres, i.e., `genre_*`"
   ]
  },
  {
   "cell_type": "code",
   "execution_count": 74,
   "metadata": {
    "slideshow": {
     "slide_type": "skip"
    }
   },
   "outputs": [],
   "source": [
    "from sklearn.preprocessing import MultiLabelBinarizer\n",
    "\n",
    "mlb = MultiLabelBinarizer()\n",
    "genres_dummies = pd.DataFrame(mlb.fit_transform(\n",
    "    df_movies['genres']), columns=mlb.classes_).add_prefix('genre_')"
   ]
  },
  {
   "cell_type": "code",
   "execution_count": 75,
   "metadata": {
    "slideshow": {
     "slide_type": "skip"
    }
   },
   "outputs": [],
   "source": [
    "movies_docvecs = pd.DataFrame(movies_docvecs)\n",
    "features = pd.concat((df_movies.loc[:, ['budget', 'revenue', 'female_pct', 'male_pct', 'runtime', \n",
    "                                        'vote_average', 'vote_count']],\n",
    "                      cast, keywords_dummies, prod_com, prod_coun, years, movies_docvecs, pd.DataFrame(overview_docvecs)), axis=1)"
   ]
  },
  {
   "cell_type": "code",
   "execution_count": 77,
   "metadata": {
    "slideshow": {
     "slide_type": "slide"
    }
   },
   "outputs": [
    {
     "data": {
      "text/html": [
       "<div>\n",
       "<style scoped>\n",
       "    .dataframe tbody tr th:only-of-type {\n",
       "        vertical-align: middle;\n",
       "    }\n",
       "\n",
       "    .dataframe tbody tr th {\n",
       "        vertical-align: top;\n",
       "    }\n",
       "\n",
       "    .dataframe thead th {\n",
       "        text-align: right;\n",
       "    }\n",
       "</style>\n",
       "<table border=\"1\" class=\"dataframe\">\n",
       "  <thead>\n",
       "    <tr style=\"text-align: right;\">\n",
       "      <th></th>\n",
       "      <th>budget</th>\n",
       "      <th>revenue</th>\n",
       "      <th>female_pct</th>\n",
       "      <th>male_pct</th>\n",
       "      <th>runtime</th>\n",
       "      <th>vote_average</th>\n",
       "      <th>vote_count</th>\n",
       "      <th>cast_50cent</th>\n",
       "      <th>cast_aakomonjones</th>\n",
       "      <th>cast_aaliyah</th>\n",
       "      <th>...</th>\n",
       "      <th>ov_younger</th>\n",
       "      <th>ov_younger brother</th>\n",
       "      <th>ov_youngest</th>\n",
       "      <th>ov_youngster</th>\n",
       "      <th>ov_youth</th>\n",
       "      <th>ov_zebra</th>\n",
       "      <th>ov_zeu</th>\n",
       "      <th>ov_zombi</th>\n",
       "      <th>ov_zone</th>\n",
       "      <th>ov_zoo</th>\n",
       "    </tr>\n",
       "  </thead>\n",
       "  <tbody>\n",
       "    <tr>\n",
       "      <th>0</th>\n",
       "      <td>237000000.0</td>\n",
       "      <td>2787965087</td>\n",
       "      <td>0.374988</td>\n",
       "      <td>0.624980</td>\n",
       "      <td>162.0</td>\n",
       "      <td>7.2</td>\n",
       "      <td>11800.0</td>\n",
       "      <td>0</td>\n",
       "      <td>0</td>\n",
       "      <td>0</td>\n",
       "      <td>...</td>\n",
       "      <td>0.0</td>\n",
       "      <td>0.0</td>\n",
       "      <td>0.0</td>\n",
       "      <td>0.0</td>\n",
       "      <td>0.0</td>\n",
       "      <td>0.0</td>\n",
       "      <td>0.0</td>\n",
       "      <td>0.0</td>\n",
       "      <td>0.0</td>\n",
       "      <td>0.0</td>\n",
       "    </tr>\n",
       "    <tr>\n",
       "      <th>1</th>\n",
       "      <td>300000000.0</td>\n",
       "      <td>961000000</td>\n",
       "      <td>0.166661</td>\n",
       "      <td>0.833306</td>\n",
       "      <td>169.0</td>\n",
       "      <td>6.9</td>\n",
       "      <td>4500.0</td>\n",
       "      <td>0</td>\n",
       "      <td>0</td>\n",
       "      <td>0</td>\n",
       "      <td>...</td>\n",
       "      <td>0.0</td>\n",
       "      <td>0.0</td>\n",
       "      <td>0.0</td>\n",
       "      <td>0.0</td>\n",
       "      <td>0.0</td>\n",
       "      <td>0.0</td>\n",
       "      <td>0.0</td>\n",
       "      <td>0.0</td>\n",
       "      <td>0.0</td>\n",
       "      <td>0.0</td>\n",
       "    </tr>\n",
       "    <tr>\n",
       "      <th>2</th>\n",
       "      <td>245000000.0</td>\n",
       "      <td>880674609</td>\n",
       "      <td>0.191174</td>\n",
       "      <td>0.808812</td>\n",
       "      <td>148.0</td>\n",
       "      <td>6.3</td>\n",
       "      <td>4466.0</td>\n",
       "      <td>0</td>\n",
       "      <td>0</td>\n",
       "      <td>0</td>\n",
       "      <td>...</td>\n",
       "      <td>0.0</td>\n",
       "      <td>0.0</td>\n",
       "      <td>0.0</td>\n",
       "      <td>0.0</td>\n",
       "      <td>0.0</td>\n",
       "      <td>0.0</td>\n",
       "      <td>0.0</td>\n",
       "      <td>0.0</td>\n",
       "      <td>0.0</td>\n",
       "      <td>0.0</td>\n",
       "    </tr>\n",
       "    <tr>\n",
       "      <th>3</th>\n",
       "      <td>250000000.0</td>\n",
       "      <td>1084939099</td>\n",
       "      <td>0.130951</td>\n",
       "      <td>0.869037</td>\n",
       "      <td>165.0</td>\n",
       "      <td>7.6</td>\n",
       "      <td>9106.0</td>\n",
       "      <td>0</td>\n",
       "      <td>0</td>\n",
       "      <td>0</td>\n",
       "      <td>...</td>\n",
       "      <td>0.0</td>\n",
       "      <td>0.0</td>\n",
       "      <td>0.0</td>\n",
       "      <td>0.0</td>\n",
       "      <td>0.0</td>\n",
       "      <td>0.0</td>\n",
       "      <td>0.0</td>\n",
       "      <td>0.0</td>\n",
       "      <td>0.0</td>\n",
       "      <td>0.0</td>\n",
       "    </tr>\n",
       "    <tr>\n",
       "      <th>4</th>\n",
       "      <td>260000000.0</td>\n",
       "      <td>284139100</td>\n",
       "      <td>0.239990</td>\n",
       "      <td>0.759970</td>\n",
       "      <td>132.0</td>\n",
       "      <td>6.1</td>\n",
       "      <td>2124.0</td>\n",
       "      <td>0</td>\n",
       "      <td>0</td>\n",
       "      <td>0</td>\n",
       "      <td>...</td>\n",
       "      <td>0.0</td>\n",
       "      <td>0.0</td>\n",
       "      <td>0.0</td>\n",
       "      <td>0.0</td>\n",
       "      <td>0.0</td>\n",
       "      <td>0.0</td>\n",
       "      <td>0.0</td>\n",
       "      <td>0.0</td>\n",
       "      <td>0.0</td>\n",
       "      <td>0.0</td>\n",
       "    </tr>\n",
       "  </tbody>\n",
       "</table>\n",
       "<p>5 rows × 19137 columns</p>\n",
       "</div>"
      ],
      "text/plain": [
       "        budget     revenue  female_pct  male_pct  runtime  vote_average  \\\n",
       "0  237000000.0  2787965087    0.374988  0.624980    162.0           7.2   \n",
       "1  300000000.0   961000000    0.166661  0.833306    169.0           6.9   \n",
       "2  245000000.0   880674609    0.191174  0.808812    148.0           6.3   \n",
       "3  250000000.0  1084939099    0.130951  0.869037    165.0           7.6   \n",
       "4  260000000.0   284139100    0.239990  0.759970    132.0           6.1   \n",
       "\n",
       "   vote_count  cast_50cent  cast_aakomonjones  cast_aaliyah   ...    \\\n",
       "0     11800.0            0                  0             0   ...     \n",
       "1      4500.0            0                  0             0   ...     \n",
       "2      4466.0            0                  0             0   ...     \n",
       "3      9106.0            0                  0             0   ...     \n",
       "4      2124.0            0                  0             0   ...     \n",
       "\n",
       "   ov_younger  ov_younger brother  ov_youngest  ov_youngster  ov_youth  \\\n",
       "0         0.0                 0.0          0.0           0.0       0.0   \n",
       "1         0.0                 0.0          0.0           0.0       0.0   \n",
       "2         0.0                 0.0          0.0           0.0       0.0   \n",
       "3         0.0                 0.0          0.0           0.0       0.0   \n",
       "4         0.0                 0.0          0.0           0.0       0.0   \n",
       "\n",
       "   ov_zebra  ov_zeu  ov_zombi  ov_zone  ov_zoo  \n",
       "0       0.0     0.0       0.0      0.0     0.0  \n",
       "1       0.0     0.0       0.0      0.0     0.0  \n",
       "2       0.0     0.0       0.0      0.0     0.0  \n",
       "3       0.0     0.0       0.0      0.0     0.0  \n",
       "4       0.0     0.0       0.0      0.0     0.0  \n",
       "\n",
       "[5 rows x 19137 columns]"
      ]
     },
     "execution_count": 77,
     "metadata": {},
     "output_type": "execute_result"
    }
   ],
   "source": [
    "features.head(5)"
   ]
  },
  {
   "cell_type": "code",
   "execution_count": null,
   "metadata": {
    "slideshow": {
     "slide_type": "skip"
    }
   },
   "outputs": [],
   "source": []
  },
  {
   "cell_type": "markdown",
   "metadata": {
    "slideshow": {
     "slide_type": "slide"
    }
   },
   "source": [
    "Leave blank for model and result\n",
    "\n",
    "Train-test split: We used two ways to split the train/test data, the first one is by random 80/20 and the second one is by release_date\n",
    "\n",
    "Regularization: We use random forest and MB, there is no much regularization we could do. We used MinMax Scaler to transform the data and MaxDepth for RF\n",
    "\n"
   ]
  },
  {
   "cell_type": "code",
   "execution_count": null,
   "metadata": {
    "slideshow": {
     "slide_type": "skip"
    }
   },
   "outputs": [],
   "source": []
  },
  {
   "cell_type": "markdown",
   "metadata": {
    "slideshow": {
     "slide_type": "slide"
    }
   },
   "source": [
    "## Discussion\n",
    "\n",
    "______\n",
    "\n",
    "    -- Choose MB after a long journey (reason)\n",
    "    -- Also provide less sophisticated model but might be better in practice.\n",
    "    -- The movie which need us to predict genre the most might be the one with lots of missing feature (?)\n",
    "    -- Terrible for some genre (Cartoon, reason)\n",
    "    --\n",
    "    --"
   ]
  },
  {
   "cell_type": "markdown",
   "metadata": {
    "slideshow": {
     "slide_type": "slide"
    }
   },
   "source": [
    "## Review\n",
    "______\n",
    "\n",
    "    -- Purpose\n",
    "    -- Introduce the dataset\n",
    "    -- Feature selection and data engineering\n",
    "    -- Models and Results\n",
    "    -- Discussion"
   ]
  },
  {
   "cell_type": "code",
   "execution_count": 78,
   "metadata": {
    "slideshow": {
     "slide_type": "skip"
    }
   },
   "outputs": [],
   "source": [
    "df_n = pd.read_csv('dataset/tmdb_5000_movies_nonull.csv')\n",
    "# df_movies.loc[:,['id', 'keywords', 'genres', 'title']]\n",
    "df_credits = pd.read_csv('dataset/tmdb_5000_credits.csv')\n",
    "credits_sub = df_credits.loc[:, ['movie_id', 'cast']].rename(columns={\n",
    "                                                             'movie_id': 'id'})\n",
    "\n",
    "df_n = df_n[['id', 'budget', 'genres', 'keywords', 'original_language',\n",
    "         'overview', 'popularity', 'production_companies',\n",
    "         'production_countries', 'release_date', 'revenue', 'runtime',\n",
    "         'spoken_languages', 'tagline', 'title', 'vote_average', 'vote_count']]\n",
    "df_n = df_n.merge(credits_sub)"
   ]
  },
  {
   "cell_type": "code",
   "execution_count": 79,
   "metadata": {
    "slideshow": {
     "slide_type": "skip"
    }
   },
   "outputs": [
    {
     "data": {
      "text/html": [
       "<div>\n",
       "<style scoped>\n",
       "    .dataframe tbody tr th:only-of-type {\n",
       "        vertical-align: middle;\n",
       "    }\n",
       "\n",
       "    .dataframe tbody tr th {\n",
       "        vertical-align: top;\n",
       "    }\n",
       "\n",
       "    .dataframe thead th {\n",
       "        text-align: right;\n",
       "    }\n",
       "</style>\n",
       "<table border=\"1\" class=\"dataframe\">\n",
       "  <thead>\n",
       "    <tr style=\"text-align: right;\">\n",
       "      <th></th>\n",
       "      <th>id</th>\n",
       "      <th>budget</th>\n",
       "      <th>genres</th>\n",
       "      <th>keywords</th>\n",
       "      <th>original_language</th>\n",
       "      <th>overview</th>\n",
       "      <th>popularity</th>\n",
       "      <th>production_companies</th>\n",
       "      <th>production_countries</th>\n",
       "      <th>release_date</th>\n",
       "      <th>revenue</th>\n",
       "      <th>runtime</th>\n",
       "      <th>spoken_languages</th>\n",
       "      <th>tagline</th>\n",
       "      <th>title</th>\n",
       "      <th>vote_average</th>\n",
       "      <th>vote_count</th>\n",
       "      <th>cast</th>\n",
       "    </tr>\n",
       "  </thead>\n",
       "  <tbody>\n",
       "    <tr>\n",
       "      <th>3970</th>\n",
       "      <td>191229</td>\n",
       "      <td>0</td>\n",
       "      <td>[]</td>\n",
       "      <td>[]</td>\n",
       "      <td>en</td>\n",
       "      <td>A grotesquely disfigured harpooner called Igua...</td>\n",
       "      <td>0.214704</td>\n",
       "      <td>[]</td>\n",
       "      <td>[]</td>\n",
       "      <td>1988-04-01</td>\n",
       "      <td>0</td>\n",
       "      <td>88.0</td>\n",
       "      <td>[{\"iso_639_1\": \"en\", \"name\": \"English\"}, {\"iso...</td>\n",
       "      <td>NaN</td>\n",
       "      <td>Iguana</td>\n",
       "      <td>6.0</td>\n",
       "      <td>1</td>\n",
       "      <td>[{\"cast_id\": 6, \"character\": \"Oberlus\", \"credi...</td>\n",
       "    </tr>\n",
       "    <tr>\n",
       "      <th>3991</th>\n",
       "      <td>346081</td>\n",
       "      <td>0</td>\n",
       "      <td>[]</td>\n",
       "      <td>[]</td>\n",
       "      <td>en</td>\n",
       "      <td>A ghost hunter uses bottles to capture trouble...</td>\n",
       "      <td>0.296981</td>\n",
       "      <td>[]</td>\n",
       "      <td>[{\"iso_3166_1\": \"IN\", \"name\": \"India\"}]</td>\n",
       "      <td>2015-06-26</td>\n",
       "      <td>0</td>\n",
       "      <td>0.0</td>\n",
       "      <td>[]</td>\n",
       "      <td>NaN</td>\n",
       "      <td>Sardaarji</td>\n",
       "      <td>9.5</td>\n",
       "      <td>2</td>\n",
       "      <td>[]</td>\n",
       "    </tr>\n",
       "    <tr>\n",
       "      <th>4067</th>\n",
       "      <td>371085</td>\n",
       "      <td>0</td>\n",
       "      <td>[]</td>\n",
       "      <td>[]</td>\n",
       "      <td>en</td>\n",
       "      <td>The Post War II story of Manhattan born Mike E...</td>\n",
       "      <td>0.027801</td>\n",
       "      <td>[]</td>\n",
       "      <td>[]</td>\n",
       "      <td>2015-01-01</td>\n",
       "      <td>0</td>\n",
       "      <td>0.0</td>\n",
       "      <td>[]</td>\n",
       "      <td>NaN</td>\n",
       "      <td>Sharkskin</td>\n",
       "      <td>0.0</td>\n",
       "      <td>0</td>\n",
       "      <td>[]</td>\n",
       "    </tr>\n",
       "    <tr>\n",
       "      <th>4104</th>\n",
       "      <td>48382</td>\n",
       "      <td>2000000</td>\n",
       "      <td>[]</td>\n",
       "      <td>[]</td>\n",
       "      <td>en</td>\n",
       "      <td>The story of Lehi and his wife Sariah and thei...</td>\n",
       "      <td>0.031947</td>\n",
       "      <td>[]</td>\n",
       "      <td>[]</td>\n",
       "      <td>2003-09-12</td>\n",
       "      <td>1672730</td>\n",
       "      <td>120.0</td>\n",
       "      <td>[]</td>\n",
       "      <td>2600 years ago, one family began a remarkable ...</td>\n",
       "      <td>The Book of Mormon Movie, Volume 1: The Journey</td>\n",
       "      <td>5.0</td>\n",
       "      <td>2</td>\n",
       "      <td>[{\"cast_id\": 1, \"character\": \"Sam\", \"credit_id...</td>\n",
       "    </tr>\n",
       "    <tr>\n",
       "      <th>4117</th>\n",
       "      <td>325140</td>\n",
       "      <td>0</td>\n",
       "      <td>[]</td>\n",
       "      <td>[]</td>\n",
       "      <td>en</td>\n",
       "      <td>Raju, a waiter, is in love with the famous TV ...</td>\n",
       "      <td>0.001186</td>\n",
       "      <td>[]</td>\n",
       "      <td>[]</td>\n",
       "      <td>2000-05-26</td>\n",
       "      <td>0</td>\n",
       "      <td>0.0</td>\n",
       "      <td>[]</td>\n",
       "      <td>NaN</td>\n",
       "      <td>Hum To Mohabbat Karega</td>\n",
       "      <td>0.0</td>\n",
       "      <td>0</td>\n",
       "      <td>[]</td>\n",
       "    </tr>\n",
       "    <tr>\n",
       "      <th>4291</th>\n",
       "      <td>357834</td>\n",
       "      <td>1</td>\n",
       "      <td>[]</td>\n",
       "      <td>[]</td>\n",
       "      <td>en</td>\n",
       "      <td>The Algerian is an international political thr...</td>\n",
       "      <td>0.025364</td>\n",
       "      <td>[{\"name\": \"Zelko Films\", \"id\": 62451}]</td>\n",
       "      <td>[{\"iso_3166_1\": \"DZ\", \"name\": \"Algeria\"}, {\"is...</td>\n",
       "      <td>2015-08-07</td>\n",
       "      <td>0</td>\n",
       "      <td>99.0</td>\n",
       "      <td>[]</td>\n",
       "      <td>NaN</td>\n",
       "      <td>The Algerian</td>\n",
       "      <td>0.0</td>\n",
       "      <td>0</td>\n",
       "      <td>[{\"cast_id\": 8, \"character\": \"Ali\", \"credit_id...</td>\n",
       "    </tr>\n",
       "    <tr>\n",
       "      <th>4312</th>\n",
       "      <td>137955</td>\n",
       "      <td>1200000</td>\n",
       "      <td>[]</td>\n",
       "      <td>[]</td>\n",
       "      <td>en</td>\n",
       "      <td>In late summer of 2011, five young friends on ...</td>\n",
       "      <td>0.057564</td>\n",
       "      <td>[]</td>\n",
       "      <td>[{\"iso_3166_1\": \"CA\", \"name\": \"Canada\"}]</td>\n",
       "      <td>2012-01-01</td>\n",
       "      <td>0</td>\n",
       "      <td>84.0</td>\n",
       "      <td>[]</td>\n",
       "      <td>NaN</td>\n",
       "      <td>Crowsnest</td>\n",
       "      <td>4.8</td>\n",
       "      <td>12</td>\n",
       "      <td>[]</td>\n",
       "    </tr>\n",
       "    <tr>\n",
       "      <th>4383</th>\n",
       "      <td>206412</td>\n",
       "      <td>0</td>\n",
       "      <td>[]</td>\n",
       "      <td>[]</td>\n",
       "      <td>en</td>\n",
       "      <td>A documentarian decides to follow the career o...</td>\n",
       "      <td>0.690089</td>\n",
       "      <td>[]</td>\n",
       "      <td>[]</td>\n",
       "      <td>2000-05-14</td>\n",
       "      <td>0</td>\n",
       "      <td>90.0</td>\n",
       "      <td>[]</td>\n",
       "      <td>NaN</td>\n",
       "      <td>Lisa Picard Is Famous</td>\n",
       "      <td>4.0</td>\n",
       "      <td>1</td>\n",
       "      <td>[{\"cast_id\": 2, \"character\": \"\", \"credit_id\": ...</td>\n",
       "    </tr>\n",
       "    <tr>\n",
       "      <th>4398</th>\n",
       "      <td>219716</td>\n",
       "      <td>0</td>\n",
       "      <td>[]</td>\n",
       "      <td>[]</td>\n",
       "      <td>en</td>\n",
       "      <td>Melba is a Californian trailer-park girl who i...</td>\n",
       "      <td>0.547654</td>\n",
       "      <td>[]</td>\n",
       "      <td>[]</td>\n",
       "      <td>1999-03-19</td>\n",
       "      <td>0</td>\n",
       "      <td>96.0</td>\n",
       "      <td>[]</td>\n",
       "      <td>NaN</td>\n",
       "      <td>Sparkler</td>\n",
       "      <td>0.0</td>\n",
       "      <td>1</td>\n",
       "      <td>[{\"cast_id\": 2, \"character\": \"Melba May\", \"cre...</td>\n",
       "    </tr>\n",
       "    <tr>\n",
       "      <th>4411</th>\n",
       "      <td>335874</td>\n",
       "      <td>0</td>\n",
       "      <td>[]</td>\n",
       "      <td>[]</td>\n",
       "      <td>en</td>\n",
       "      <td>Katherine is a typical teenager. Today's her f...</td>\n",
       "      <td>0.243853</td>\n",
       "      <td>[]</td>\n",
       "      <td>[{\"iso_3166_1\": \"US\", \"name\": \"United States o...</td>\n",
       "      <td>2015-04-03</td>\n",
       "      <td>0</td>\n",
       "      <td>90.0</td>\n",
       "      <td>[{\"iso_639_1\": \"en\", \"name\": \"English\"}]</td>\n",
       "      <td>NaN</td>\n",
       "      <td>Childless</td>\n",
       "      <td>4.5</td>\n",
       "      <td>2</td>\n",
       "      <td>[{\"cast_id\": 1, \"character\": \"\", \"credit_id\": ...</td>\n",
       "    </tr>\n",
       "    <tr>\n",
       "      <th>4455</th>\n",
       "      <td>279759</td>\n",
       "      <td>0</td>\n",
       "      <td>[]</td>\n",
       "      <td>[]</td>\n",
       "      <td>en</td>\n",
       "      <td>Film from Daniel Davila</td>\n",
       "      <td>0.006943</td>\n",
       "      <td>[]</td>\n",
       "      <td>[]</td>\n",
       "      <td>2008-01-01</td>\n",
       "      <td>0</td>\n",
       "      <td>0.0</td>\n",
       "      <td>[]</td>\n",
       "      <td>NaN</td>\n",
       "      <td>Harrison Montgomery</td>\n",
       "      <td>0.0</td>\n",
       "      <td>0</td>\n",
       "      <td>[]</td>\n",
       "    </tr>\n",
       "    <tr>\n",
       "      <th>4501</th>\n",
       "      <td>331493</td>\n",
       "      <td>0</td>\n",
       "      <td>[]</td>\n",
       "      <td>[]</td>\n",
       "      <td>en</td>\n",
       "      <td>Light in the Darkroom is the story of two best...</td>\n",
       "      <td>0.012942</td>\n",
       "      <td>[]</td>\n",
       "      <td>[]</td>\n",
       "      <td>2014-01-01</td>\n",
       "      <td>0</td>\n",
       "      <td>0.0</td>\n",
       "      <td>[]</td>\n",
       "      <td>NaN</td>\n",
       "      <td>Light from the Darkroom</td>\n",
       "      <td>0.0</td>\n",
       "      <td>0</td>\n",
       "      <td>[]</td>\n",
       "    </tr>\n",
       "    <tr>\n",
       "      <th>4547</th>\n",
       "      <td>294550</td>\n",
       "      <td>0</td>\n",
       "      <td>[]</td>\n",
       "      <td>[]</td>\n",
       "      <td>en</td>\n",
       "      <td>The rags to riches story of Sophie Tucker, an ...</td>\n",
       "      <td>0.021419</td>\n",
       "      <td>[]</td>\n",
       "      <td>[]</td>\n",
       "      <td>2014-05-02</td>\n",
       "      <td>0</td>\n",
       "      <td>96.0</td>\n",
       "      <td>[{\"iso_639_1\": \"en\", \"name\": \"English\"}]</td>\n",
       "      <td>NaN</td>\n",
       "      <td>The Outrageous Sophie Tucker</td>\n",
       "      <td>0.0</td>\n",
       "      <td>0</td>\n",
       "      <td>[]</td>\n",
       "    </tr>\n",
       "    <tr>\n",
       "      <th>4558</th>\n",
       "      <td>297100</td>\n",
       "      <td>500000</td>\n",
       "      <td>[]</td>\n",
       "      <td>[]</td>\n",
       "      <td>en</td>\n",
       "      <td>The Little Ponderosa Zoo is preparing for thei...</td>\n",
       "      <td>0.073079</td>\n",
       "      <td>[]</td>\n",
       "      <td>[]</td>\n",
       "      <td>2014-09-11</td>\n",
       "      <td>0</td>\n",
       "      <td>84.0</td>\n",
       "      <td>[{\"iso_639_1\": \"en\", \"name\": \"English\"}]</td>\n",
       "      <td>NaN</td>\n",
       "      <td>The Little Ponderosa Zoo</td>\n",
       "      <td>2.0</td>\n",
       "      <td>1</td>\n",
       "      <td>[]</td>\n",
       "    </tr>\n",
       "    <tr>\n",
       "      <th>4562</th>\n",
       "      <td>325579</td>\n",
       "      <td>0</td>\n",
       "      <td>[]</td>\n",
       "      <td>[]</td>\n",
       "      <td>en</td>\n",
       "      <td>Action - Orphan, con artist, crime boss and mi...</td>\n",
       "      <td>0.165257</td>\n",
       "      <td>[]</td>\n",
       "      <td>[]</td>\n",
       "      <td>2015-01-01</td>\n",
       "      <td>0</td>\n",
       "      <td>0.0</td>\n",
       "      <td>[]</td>\n",
       "      <td>NaN</td>\n",
       "      <td>Diamond Ruff</td>\n",
       "      <td>2.4</td>\n",
       "      <td>4</td>\n",
       "      <td>[]</td>\n",
       "    </tr>\n",
       "    <tr>\n",
       "      <th>4565</th>\n",
       "      <td>198370</td>\n",
       "      <td>0</td>\n",
       "      <td>[]</td>\n",
       "      <td>[]</td>\n",
       "      <td>en</td>\n",
       "      <td>Surprise parties rarely go well. This one is n...</td>\n",
       "      <td>0.136721</td>\n",
       "      <td>[]</td>\n",
       "      <td>[]</td>\n",
       "      <td>2014-04-15</td>\n",
       "      <td>0</td>\n",
       "      <td>0.0</td>\n",
       "      <td>[{\"iso_639_1\": \"en\", \"name\": \"English\"}]</td>\n",
       "      <td>Surprise parties rarely go well.</td>\n",
       "      <td>Mutual Friends</td>\n",
       "      <td>0.0</td>\n",
       "      <td>0</td>\n",
       "      <td>[{\"cast_id\": 3, \"character\": \"Liv\", \"credit_id...</td>\n",
       "    </tr>\n",
       "    <tr>\n",
       "      <th>4567</th>\n",
       "      <td>328307</td>\n",
       "      <td>0</td>\n",
       "      <td>[]</td>\n",
       "      <td>[]</td>\n",
       "      <td>en</td>\n",
       "      <td>The world is changing faster than ever. Techno...</td>\n",
       "      <td>0.052942</td>\n",
       "      <td>[]</td>\n",
       "      <td>[]</td>\n",
       "      <td>2014-11-20</td>\n",
       "      <td>0</td>\n",
       "      <td>0.0</td>\n",
       "      <td>[]</td>\n",
       "      <td>NaN</td>\n",
       "      <td>Rise of the Entrepreneur: The Search for a Bet...</td>\n",
       "      <td>8.0</td>\n",
       "      <td>1</td>\n",
       "      <td>[]</td>\n",
       "    </tr>\n",
       "    <tr>\n",
       "      <th>4577</th>\n",
       "      <td>281189</td>\n",
       "      <td>0</td>\n",
       "      <td>[]</td>\n",
       "      <td>[{\"id\": 187056, \"name\": \"woman director\"}]</td>\n",
       "      <td>en</td>\n",
       "      <td>Four actors compete for the role of Jesus - a ...</td>\n",
       "      <td>0.033883</td>\n",
       "      <td>[]</td>\n",
       "      <td>[]</td>\n",
       "      <td>2003-11-05</td>\n",
       "      <td>0</td>\n",
       "      <td>0.0</td>\n",
       "      <td>[]</td>\n",
       "      <td>NaN</td>\n",
       "      <td>Gory Gory Hallelujah</td>\n",
       "      <td>1.0</td>\n",
       "      <td>1</td>\n",
       "      <td>[]</td>\n",
       "    </tr>\n",
       "    <tr>\n",
       "      <th>4607</th>\n",
       "      <td>162396</td>\n",
       "      <td>0</td>\n",
       "      <td>[]</td>\n",
       "      <td>[]</td>\n",
       "      <td>en</td>\n",
       "      <td>In this British drama, Ellen (Sorcha Brooks) a...</td>\n",
       "      <td>0.627763</td>\n",
       "      <td>[]</td>\n",
       "      <td>[]</td>\n",
       "      <td>1998-06-11</td>\n",
       "      <td>0</td>\n",
       "      <td>0.0</td>\n",
       "      <td>[{\"iso_639_1\": \"en\", \"name\": \"English\"}]</td>\n",
       "      <td>NaN</td>\n",
       "      <td>The Big Swap</td>\n",
       "      <td>0.0</td>\n",
       "      <td>0</td>\n",
       "      <td>[{\"cast_id\": 2, \"character\": \"Sam\", \"credit_id...</td>\n",
       "    </tr>\n",
       "    <tr>\n",
       "      <th>4618</th>\n",
       "      <td>365052</td>\n",
       "      <td>0</td>\n",
       "      <td>[]</td>\n",
       "      <td>[]</td>\n",
       "      <td>en</td>\n",
       "      <td>Troubled 13-year-old Julie loses her mother an...</td>\n",
       "      <td>0.062979</td>\n",
       "      <td>[{\"name\": \"Filmacres\", \"id\": 66152}]</td>\n",
       "      <td>[]</td>\n",
       "      <td>2015-10-23</td>\n",
       "      <td>0</td>\n",
       "      <td>110.0</td>\n",
       "      <td>[{\"iso_639_1\": \"en\", \"name\": \"English\"}]</td>\n",
       "      <td>NaN</td>\n",
       "      <td>The Looking Glass</td>\n",
       "      <td>7.0</td>\n",
       "      <td>1</td>\n",
       "      <td>[{\"cast_id\": 2, \"character\": \"Karen\", \"credit_...</td>\n",
       "    </tr>\n",
       "    <tr>\n",
       "      <th>4629</th>\n",
       "      <td>300327</td>\n",
       "      <td>0</td>\n",
       "      <td>[]</td>\n",
       "      <td>[]</td>\n",
       "      <td>en</td>\n",
       "      <td>An action-packed love story on the Mexican bor...</td>\n",
       "      <td>0.005883</td>\n",
       "      <td>[]</td>\n",
       "      <td>[]</td>\n",
       "      <td>2010-09-01</td>\n",
       "      <td>0</td>\n",
       "      <td>0.0</td>\n",
       "      <td>[]</td>\n",
       "      <td>NaN</td>\n",
       "      <td>Death Calls</td>\n",
       "      <td>0.0</td>\n",
       "      <td>0</td>\n",
       "      <td>[]</td>\n",
       "    </tr>\n",
       "    <tr>\n",
       "      <th>4653</th>\n",
       "      <td>320435</td>\n",
       "      <td>0</td>\n",
       "      <td>[]</td>\n",
       "      <td>[]</td>\n",
       "      <td>en</td>\n",
       "      <td>UnDivided documents the true story of how a su...</td>\n",
       "      <td>0.010607</td>\n",
       "      <td>[]</td>\n",
       "      <td>[]</td>\n",
       "      <td>2013-02-01</td>\n",
       "      <td>0</td>\n",
       "      <td>0.0</td>\n",
       "      <td>[]</td>\n",
       "      <td>NaN</td>\n",
       "      <td>UnDivided</td>\n",
       "      <td>0.0</td>\n",
       "      <td>0</td>\n",
       "      <td>[]</td>\n",
       "    </tr>\n",
       "    <tr>\n",
       "      <th>4670</th>\n",
       "      <td>194588</td>\n",
       "      <td>0</td>\n",
       "      <td>[]</td>\n",
       "      <td>[]</td>\n",
       "      <td>en</td>\n",
       "      <td>Every 12 years over 70 million pilgrims gather...</td>\n",
       "      <td>0.004998</td>\n",
       "      <td>[]</td>\n",
       "      <td>[]</td>\n",
       "      <td>2004-05-11</td>\n",
       "      <td>0</td>\n",
       "      <td>85.0</td>\n",
       "      <td>[]</td>\n",
       "      <td>NaN</td>\n",
       "      <td>Short Cut to Nirvana: Kumbh Mela</td>\n",
       "      <td>0.0</td>\n",
       "      <td>0</td>\n",
       "      <td>[]</td>\n",
       "    </tr>\n",
       "    <tr>\n",
       "      <th>4677</th>\n",
       "      <td>176074</td>\n",
       "      <td>0</td>\n",
       "      <td>[]</td>\n",
       "      <td>[{\"id\": 1157, \"name\": \"wife husband relationsh...</td>\n",
       "      <td>en</td>\n",
       "      <td>The Warwick family are unknowingly being filme...</td>\n",
       "      <td>0.472123</td>\n",
       "      <td>[{\"name\": \"Campbell Grobman Films\", \"id\": 4873...</td>\n",
       "      <td>[{\"iso_3166_1\": \"US\", \"name\": \"United States o...</td>\n",
       "      <td>2015-01-01</td>\n",
       "      <td>0</td>\n",
       "      <td>92.0</td>\n",
       "      <td>[]</td>\n",
       "      <td>NaN</td>\n",
       "      <td>Reality Show</td>\n",
       "      <td>5.5</td>\n",
       "      <td>2</td>\n",
       "      <td>[{\"cast_id\": 3, \"character\": \"Mickey Wagner\", ...</td>\n",
       "    </tr>\n",
       "    <tr>\n",
       "      <th>4710</th>\n",
       "      <td>282128</td>\n",
       "      <td>0</td>\n",
       "      <td>[]</td>\n",
       "      <td>[]</td>\n",
       "      <td>en</td>\n",
       "      <td>A talented young filmmaker from New York sets ...</td>\n",
       "      <td>0.015697</td>\n",
       "      <td>[]</td>\n",
       "      <td>[{\"iso_3166_1\": \"US\", \"name\": \"United States o...</td>\n",
       "      <td>2014-07-18</td>\n",
       "      <td>0</td>\n",
       "      <td>89.0</td>\n",
       "      <td>[{\"iso_639_1\": \"en\", \"name\": \"English\"}]</td>\n",
       "      <td>NaN</td>\n",
       "      <td>An American in Hollywood</td>\n",
       "      <td>0.0</td>\n",
       "      <td>0</td>\n",
       "      <td>[{\"cast_id\": 10, \"character\": \"Dorian\", \"credi...</td>\n",
       "    </tr>\n",
       "    <tr>\n",
       "      <th>4712</th>\n",
       "      <td>38786</td>\n",
       "      <td>0</td>\n",
       "      <td>[]</td>\n",
       "      <td>[]</td>\n",
       "      <td>en</td>\n",
       "      <td>THE BLOOD OF MY BROTHER goes behind the scenes...</td>\n",
       "      <td>0.005256</td>\n",
       "      <td>[]</td>\n",
       "      <td>[]</td>\n",
       "      <td>2005-11-25</td>\n",
       "      <td>0</td>\n",
       "      <td>90.0</td>\n",
       "      <td>[]</td>\n",
       "      <td>NaN</td>\n",
       "      <td>The Blood of My Brother: A Story of Death in Iraq</td>\n",
       "      <td>0.0</td>\n",
       "      <td>0</td>\n",
       "      <td>[]</td>\n",
       "    </tr>\n",
       "    <tr>\n",
       "      <th>4797</th>\n",
       "      <td>126186</td>\n",
       "      <td>0</td>\n",
       "      <td>[]</td>\n",
       "      <td>[]</td>\n",
       "      <td>en</td>\n",
       "      <td>When ambitious New York attorney Sam is sent t...</td>\n",
       "      <td>0.857008</td>\n",
       "      <td>[]</td>\n",
       "      <td>[{\"iso_3166_1\": \"US\", \"name\": \"United States o...</td>\n",
       "      <td>2012-05-03</td>\n",
       "      <td>0</td>\n",
       "      <td>98.0</td>\n",
       "      <td>[{\"iso_639_1\": \"en\", \"name\": \"English\"}]</td>\n",
       "      <td>A New Yorker in Shanghai</td>\n",
       "      <td>Shanghai Calling</td>\n",
       "      <td>5.7</td>\n",
       "      <td>7</td>\n",
       "      <td>[{\"cast_id\": 3, \"character\": \"Sam\", \"credit_id...</td>\n",
       "    </tr>\n",
       "  </tbody>\n",
       "</table>\n",
       "</div>"
      ],
      "text/plain": [
       "          id   budget genres  \\\n",
       "3970  191229        0     []   \n",
       "3991  346081        0     []   \n",
       "4067  371085        0     []   \n",
       "4104   48382  2000000     []   \n",
       "4117  325140        0     []   \n",
       "4291  357834        1     []   \n",
       "4312  137955  1200000     []   \n",
       "4383  206412        0     []   \n",
       "4398  219716        0     []   \n",
       "4411  335874        0     []   \n",
       "4455  279759        0     []   \n",
       "4501  331493        0     []   \n",
       "4547  294550        0     []   \n",
       "4558  297100   500000     []   \n",
       "4562  325579        0     []   \n",
       "4565  198370        0     []   \n",
       "4567  328307        0     []   \n",
       "4577  281189        0     []   \n",
       "4607  162396        0     []   \n",
       "4618  365052        0     []   \n",
       "4629  300327        0     []   \n",
       "4653  320435        0     []   \n",
       "4670  194588        0     []   \n",
       "4677  176074        0     []   \n",
       "4710  282128        0     []   \n",
       "4712   38786        0     []   \n",
       "4797  126186        0     []   \n",
       "\n",
       "                                               keywords original_language  \\\n",
       "3970                                                 []                en   \n",
       "3991                                                 []                en   \n",
       "4067                                                 []                en   \n",
       "4104                                                 []                en   \n",
       "4117                                                 []                en   \n",
       "4291                                                 []                en   \n",
       "4312                                                 []                en   \n",
       "4383                                                 []                en   \n",
       "4398                                                 []                en   \n",
       "4411                                                 []                en   \n",
       "4455                                                 []                en   \n",
       "4501                                                 []                en   \n",
       "4547                                                 []                en   \n",
       "4558                                                 []                en   \n",
       "4562                                                 []                en   \n",
       "4565                                                 []                en   \n",
       "4567                                                 []                en   \n",
       "4577         [{\"id\": 187056, \"name\": \"woman director\"}]                en   \n",
       "4607                                                 []                en   \n",
       "4618                                                 []                en   \n",
       "4629                                                 []                en   \n",
       "4653                                                 []                en   \n",
       "4670                                                 []                en   \n",
       "4677  [{\"id\": 1157, \"name\": \"wife husband relationsh...                en   \n",
       "4710                                                 []                en   \n",
       "4712                                                 []                en   \n",
       "4797                                                 []                en   \n",
       "\n",
       "                                               overview  popularity  \\\n",
       "3970  A grotesquely disfigured harpooner called Igua...    0.214704   \n",
       "3991  A ghost hunter uses bottles to capture trouble...    0.296981   \n",
       "4067  The Post War II story of Manhattan born Mike E...    0.027801   \n",
       "4104  The story of Lehi and his wife Sariah and thei...    0.031947   \n",
       "4117  Raju, a waiter, is in love with the famous TV ...    0.001186   \n",
       "4291  The Algerian is an international political thr...    0.025364   \n",
       "4312  In late summer of 2011, five young friends on ...    0.057564   \n",
       "4383  A documentarian decides to follow the career o...    0.690089   \n",
       "4398  Melba is a Californian trailer-park girl who i...    0.547654   \n",
       "4411  Katherine is a typical teenager. Today's her f...    0.243853   \n",
       "4455                            Film from Daniel Davila    0.006943   \n",
       "4501  Light in the Darkroom is the story of two best...    0.012942   \n",
       "4547  The rags to riches story of Sophie Tucker, an ...    0.021419   \n",
       "4558  The Little Ponderosa Zoo is preparing for thei...    0.073079   \n",
       "4562  Action - Orphan, con artist, crime boss and mi...    0.165257   \n",
       "4565  Surprise parties rarely go well. This one is n...    0.136721   \n",
       "4567  The world is changing faster than ever. Techno...    0.052942   \n",
       "4577  Four actors compete for the role of Jesus - a ...    0.033883   \n",
       "4607  In this British drama, Ellen (Sorcha Brooks) a...    0.627763   \n",
       "4618  Troubled 13-year-old Julie loses her mother an...    0.062979   \n",
       "4629  An action-packed love story on the Mexican bor...    0.005883   \n",
       "4653  UnDivided documents the true story of how a su...    0.010607   \n",
       "4670  Every 12 years over 70 million pilgrims gather...    0.004998   \n",
       "4677  The Warwick family are unknowingly being filme...    0.472123   \n",
       "4710  A talented young filmmaker from New York sets ...    0.015697   \n",
       "4712  THE BLOOD OF MY BROTHER goes behind the scenes...    0.005256   \n",
       "4797  When ambitious New York attorney Sam is sent t...    0.857008   \n",
       "\n",
       "                                   production_companies  \\\n",
       "3970                                                 []   \n",
       "3991                                                 []   \n",
       "4067                                                 []   \n",
       "4104                                                 []   \n",
       "4117                                                 []   \n",
       "4291             [{\"name\": \"Zelko Films\", \"id\": 62451}]   \n",
       "4312                                                 []   \n",
       "4383                                                 []   \n",
       "4398                                                 []   \n",
       "4411                                                 []   \n",
       "4455                                                 []   \n",
       "4501                                                 []   \n",
       "4547                                                 []   \n",
       "4558                                                 []   \n",
       "4562                                                 []   \n",
       "4565                                                 []   \n",
       "4567                                                 []   \n",
       "4577                                                 []   \n",
       "4607                                                 []   \n",
       "4618               [{\"name\": \"Filmacres\", \"id\": 66152}]   \n",
       "4629                                                 []   \n",
       "4653                                                 []   \n",
       "4670                                                 []   \n",
       "4677  [{\"name\": \"Campbell Grobman Films\", \"id\": 4873...   \n",
       "4710                                                 []   \n",
       "4712                                                 []   \n",
       "4797                                                 []   \n",
       "\n",
       "                                   production_countries release_date  revenue  \\\n",
       "3970                                                 []   1988-04-01        0   \n",
       "3991            [{\"iso_3166_1\": \"IN\", \"name\": \"India\"}]   2015-06-26        0   \n",
       "4067                                                 []   2015-01-01        0   \n",
       "4104                                                 []   2003-09-12  1672730   \n",
       "4117                                                 []   2000-05-26        0   \n",
       "4291  [{\"iso_3166_1\": \"DZ\", \"name\": \"Algeria\"}, {\"is...   2015-08-07        0   \n",
       "4312           [{\"iso_3166_1\": \"CA\", \"name\": \"Canada\"}]   2012-01-01        0   \n",
       "4383                                                 []   2000-05-14        0   \n",
       "4398                                                 []   1999-03-19        0   \n",
       "4411  [{\"iso_3166_1\": \"US\", \"name\": \"United States o...   2015-04-03        0   \n",
       "4455                                                 []   2008-01-01        0   \n",
       "4501                                                 []   2014-01-01        0   \n",
       "4547                                                 []   2014-05-02        0   \n",
       "4558                                                 []   2014-09-11        0   \n",
       "4562                                                 []   2015-01-01        0   \n",
       "4565                                                 []   2014-04-15        0   \n",
       "4567                                                 []   2014-11-20        0   \n",
       "4577                                                 []   2003-11-05        0   \n",
       "4607                                                 []   1998-06-11        0   \n",
       "4618                                                 []   2015-10-23        0   \n",
       "4629                                                 []   2010-09-01        0   \n",
       "4653                                                 []   2013-02-01        0   \n",
       "4670                                                 []   2004-05-11        0   \n",
       "4677  [{\"iso_3166_1\": \"US\", \"name\": \"United States o...   2015-01-01        0   \n",
       "4710  [{\"iso_3166_1\": \"US\", \"name\": \"United States o...   2014-07-18        0   \n",
       "4712                                                 []   2005-11-25        0   \n",
       "4797  [{\"iso_3166_1\": \"US\", \"name\": \"United States o...   2012-05-03        0   \n",
       "\n",
       "      runtime                                   spoken_languages  \\\n",
       "3970     88.0  [{\"iso_639_1\": \"en\", \"name\": \"English\"}, {\"iso...   \n",
       "3991      0.0                                                 []   \n",
       "4067      0.0                                                 []   \n",
       "4104    120.0                                                 []   \n",
       "4117      0.0                                                 []   \n",
       "4291     99.0                                                 []   \n",
       "4312     84.0                                                 []   \n",
       "4383     90.0                                                 []   \n",
       "4398     96.0                                                 []   \n",
       "4411     90.0           [{\"iso_639_1\": \"en\", \"name\": \"English\"}]   \n",
       "4455      0.0                                                 []   \n",
       "4501      0.0                                                 []   \n",
       "4547     96.0           [{\"iso_639_1\": \"en\", \"name\": \"English\"}]   \n",
       "4558     84.0           [{\"iso_639_1\": \"en\", \"name\": \"English\"}]   \n",
       "4562      0.0                                                 []   \n",
       "4565      0.0           [{\"iso_639_1\": \"en\", \"name\": \"English\"}]   \n",
       "4567      0.0                                                 []   \n",
       "4577      0.0                                                 []   \n",
       "4607      0.0           [{\"iso_639_1\": \"en\", \"name\": \"English\"}]   \n",
       "4618    110.0           [{\"iso_639_1\": \"en\", \"name\": \"English\"}]   \n",
       "4629      0.0                                                 []   \n",
       "4653      0.0                                                 []   \n",
       "4670     85.0                                                 []   \n",
       "4677     92.0                                                 []   \n",
       "4710     89.0           [{\"iso_639_1\": \"en\", \"name\": \"English\"}]   \n",
       "4712     90.0                                                 []   \n",
       "4797     98.0           [{\"iso_639_1\": \"en\", \"name\": \"English\"}]   \n",
       "\n",
       "                                                tagline  \\\n",
       "3970                                                NaN   \n",
       "3991                                                NaN   \n",
       "4067                                                NaN   \n",
       "4104  2600 years ago, one family began a remarkable ...   \n",
       "4117                                                NaN   \n",
       "4291                                                NaN   \n",
       "4312                                                NaN   \n",
       "4383                                                NaN   \n",
       "4398                                                NaN   \n",
       "4411                                                NaN   \n",
       "4455                                                NaN   \n",
       "4501                                                NaN   \n",
       "4547                                                NaN   \n",
       "4558                                                NaN   \n",
       "4562                                                NaN   \n",
       "4565                   Surprise parties rarely go well.   \n",
       "4567                                                NaN   \n",
       "4577                                                NaN   \n",
       "4607                                                NaN   \n",
       "4618                                                NaN   \n",
       "4629                                                NaN   \n",
       "4653                                                NaN   \n",
       "4670                                                NaN   \n",
       "4677                                                NaN   \n",
       "4710                                                NaN   \n",
       "4712                                                NaN   \n",
       "4797                           A New Yorker in Shanghai   \n",
       "\n",
       "                                                  title  vote_average  \\\n",
       "3970                                             Iguana           6.0   \n",
       "3991                                          Sardaarji           9.5   \n",
       "4067                                          Sharkskin           0.0   \n",
       "4104    The Book of Mormon Movie, Volume 1: The Journey           5.0   \n",
       "4117                             Hum To Mohabbat Karega           0.0   \n",
       "4291                                       The Algerian           0.0   \n",
       "4312                                          Crowsnest           4.8   \n",
       "4383                              Lisa Picard Is Famous           4.0   \n",
       "4398                                           Sparkler           0.0   \n",
       "4411                                          Childless           4.5   \n",
       "4455                                Harrison Montgomery           0.0   \n",
       "4501                            Light from the Darkroom           0.0   \n",
       "4547                       The Outrageous Sophie Tucker           0.0   \n",
       "4558                           The Little Ponderosa Zoo           2.0   \n",
       "4562                                       Diamond Ruff           2.4   \n",
       "4565                                     Mutual Friends           0.0   \n",
       "4567  Rise of the Entrepreneur: The Search for a Bet...           8.0   \n",
       "4577                               Gory Gory Hallelujah           1.0   \n",
       "4607                                       The Big Swap           0.0   \n",
       "4618                                  The Looking Glass           7.0   \n",
       "4629                                        Death Calls           0.0   \n",
       "4653                                          UnDivided           0.0   \n",
       "4670                   Short Cut to Nirvana: Kumbh Mela           0.0   \n",
       "4677                                       Reality Show           5.5   \n",
       "4710                           An American in Hollywood           0.0   \n",
       "4712  The Blood of My Brother: A Story of Death in Iraq           0.0   \n",
       "4797                                   Shanghai Calling           5.7   \n",
       "\n",
       "      vote_count                                               cast  \n",
       "3970           1  [{\"cast_id\": 6, \"character\": \"Oberlus\", \"credi...  \n",
       "3991           2                                                 []  \n",
       "4067           0                                                 []  \n",
       "4104           2  [{\"cast_id\": 1, \"character\": \"Sam\", \"credit_id...  \n",
       "4117           0                                                 []  \n",
       "4291           0  [{\"cast_id\": 8, \"character\": \"Ali\", \"credit_id...  \n",
       "4312          12                                                 []  \n",
       "4383           1  [{\"cast_id\": 2, \"character\": \"\", \"credit_id\": ...  \n",
       "4398           1  [{\"cast_id\": 2, \"character\": \"Melba May\", \"cre...  \n",
       "4411           2  [{\"cast_id\": 1, \"character\": \"\", \"credit_id\": ...  \n",
       "4455           0                                                 []  \n",
       "4501           0                                                 []  \n",
       "4547           0                                                 []  \n",
       "4558           1                                                 []  \n",
       "4562           4                                                 []  \n",
       "4565           0  [{\"cast_id\": 3, \"character\": \"Liv\", \"credit_id...  \n",
       "4567           1                                                 []  \n",
       "4577           1                                                 []  \n",
       "4607           0  [{\"cast_id\": 2, \"character\": \"Sam\", \"credit_id...  \n",
       "4618           1  [{\"cast_id\": 2, \"character\": \"Karen\", \"credit_...  \n",
       "4629           0                                                 []  \n",
       "4653           0                                                 []  \n",
       "4670           0                                                 []  \n",
       "4677           2  [{\"cast_id\": 3, \"character\": \"Mickey Wagner\", ...  \n",
       "4710           0  [{\"cast_id\": 10, \"character\": \"Dorian\", \"credi...  \n",
       "4712           0                                                 []  \n",
       "4797           7  [{\"cast_id\": 3, \"character\": \"Sam\", \"credit_id...  "
      ]
     },
     "execution_count": 79,
     "metadata": {},
     "output_type": "execute_result"
    }
   ],
   "source": [
    "j = []\n",
    "for i, row in df_n.iterrows():\n",
    "    if row['genres'] == '[]':\n",
    "        j.append(i)\n",
    "df_n.iloc[j]"
   ]
  },
  {
   "cell_type": "code",
   "execution_count": 81,
   "metadata": {
    "slideshow": {
     "slide_type": "skip"
    }
   },
   "outputs": [],
   "source": [
    "def freeze_header(df, num_rows=30, num_columns=10, step_rows=1,\n",
    "                  step_columns=1):\n",
    "    \"\"\"\n",
    "    Freeze the headers (column and index names) of a Pandas DataFrame. A widget\n",
    "    enables to slide through the rows and columns.\n",
    "    \"\"\"\n",
    "    @interact(last_row=IntSlider(min=min(num_rows, df.shape[0]),\n",
    "                                 max=df.shape[0],\n",
    "                                 step=step_rows,\n",
    "                                 description='rows',\n",
    "                                 readout=False,\n",
    "                                 disabled=False,\n",
    "                                 continuous_update=True,\n",
    "                                 orientation='horizontal',\n",
    "                                 slider_color='purple'),\n",
    "              last_column=IntSlider(min=min(num_columns, df.shape[1]),\n",
    "                                    max=df.shape[1],\n",
    "                                    step=step_columns,\n",
    "                                    description='columns',\n",
    "                                    readout=False,\n",
    "                                    disabled=False,\n",
    "                                    continuous_update=True,\n",
    "                                    orientation='horizontal',\n",
    "                                    slider_color='purple'))\n",
    "    def _freeze_header(last_row, last_column):\n",
    "        display(df.iloc[max(0, last_row-num_rows):last_row,\n",
    "                        max(0, last_column-num_columns):last_column])"
   ]
  },
  {
   "cell_type": "code",
   "execution_count": 85,
   "metadata": {
    "slideshow": {
     "slide_type": "slide"
    }
   },
   "outputs": [
    {
     "data": {
      "application/vnd.jupyter.widget-view+json": {
       "model_id": "5c7e24c081874f91b53727dd22f073f6",
       "version_major": 2,
       "version_minor": 0
      },
      "text/plain": [
       "interactive(children=(IntSlider(value=5, description='rows', max=27, min=5, readout=False), IntSlider(value=10…"
      ]
     },
     "metadata": {},
     "output_type": "display_data"
    }
   ],
   "source": [
    "freeze_header(df=df_n.iloc[j], num_rows=5)"
   ]
  }
 ],
 "metadata": {
  "celltoolbar": "Slideshow",
  "kernelspec": {
   "display_name": "Python 3",
   "language": "python",
   "name": "python3"
  },
  "language_info": {
   "codemirror_mode": {
    "name": "ipython",
    "version": 3
   },
   "file_extension": ".py",
   "mimetype": "text/x-python",
   "name": "python",
   "nbconvert_exporter": "python",
   "pygments_lexer": "ipython3",
   "version": "3.6.7"
  }
 },
 "nbformat": 4,
 "nbformat_minor": 2
}
